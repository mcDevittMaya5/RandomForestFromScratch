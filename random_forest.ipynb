{
 "metadata": {
  "language_info": {
   "codemirror_mode": {
    "name": "ipython",
    "version": 3
   },
   "file_extension": ".py",
   "mimetype": "text/x-python",
   "name": "python",
   "nbconvert_exporter": "python",
   "pygments_lexer": "ipython3",
   "version": "3.8.0-final"
  },
  "orig_nbformat": 2,
  "kernelspec": {
   "name": "python3",
   "display_name": "Python 3.8.0 64-bit",
   "metadata": {
    "interpreter": {
     "hash": "52dc95e1aaf98fb90dbdba2e103a20f56b47dd915f0a22c5d47bbd769910276d"
    }
   }
  }
 },
 "nbformat": 4,
 "nbformat_minor": 2,
 "cells": [
  {
   "cell_type": "code",
   "execution_count": 4,
   "metadata": {},
   "outputs": [],
   "source": [
    "from pandas.io.parsers import read_csv\n",
    "import numpy as np\n",
    "\n",
    "np.random.seed(0) # REMOVE FOR FINAL SOLUTION\n"
   ]
  },
  {
   "cell_type": "code",
   "execution_count": 5,
   "metadata": {},
   "outputs": [],
   "source": [
    "#Data Splitted.\n",
    "def splitData(data):\n",
    "    shuffled = data.copy()\n",
    "    np.random.shuffle(shuffled)\n",
    "\n",
    "    testCount = int(shuffled.shape[0]*1/3)\n",
    "    trainCount = shuffled.shape[0]-testCount\n",
    "\n",
    "    trainSet = shuffled[0:trainCount]\n",
    "    testSet = shuffled[trainCount:]\n",
    "\n",
    "    return trainSet, testSet\n",
    "\n",
    "def separateInputOutput(dataset):\n",
    "    outputData = dataset[:,3] # Output\n",
    "    inputData = np.concatenate((dataset[:,0:3],dataset[:,4:7],dataset[:,8:10]),axis=1) # Inputs\n",
    "    return inputData, outputData\n",
    "\n",
    "#ML ALG\n",
    "def initializeWeights(x,y):\n",
    "    N = x.shape[0]\n"
   ]
  },
  {
   "cell_type": "code",
   "execution_count": 6,
   "metadata": {},
   "outputs": [],
   "source": [
    "#Reading in data\n",
    "dataframe = read_csv(\"beer.txt\",delim_whitespace=True,header=None)\n",
    "\n",
    "# Preparing Data\n",
    "dataset = dataframe.values\n",
    "trainSet, testSet = splitData(dataset)\n",
    "\n",
    "testIn, testOut = separateInputOutput(testSet)\n",
    "trainIn, trainOut = separateInputOutput(trainSet)\n",
    "\n",
    "N =trainIn.shape[0]\n",
    "Wi = 1/N\n",
    "\n",
    "#running ml alg.\n",
    "train(trainIn,trainOut) #ML ALG RAN HERE \n"
   ]
  },
  {
   "cell_type": "code",
   "execution_count": 7,
   "metadata": {},
   "outputs": [],
   "source": [
    "def getUniqueClassCount(listToCount):\n",
    "    classes = []\n",
    "    for item in listToCount:\n",
    "        if item not in classes:\n",
    "            classes.append(item)\n",
    "\n",
    "    counts = []\n",
    "    for itemClass in classes:\n",
    "        counts.append(listToCount.count(itemClass))\n",
    "    return counts\n",
    "\n",
    "def getGiniLeaf(counts):\n",
    "    total = np.sum(counts)\n",
    "    giniLeaf = 1\n",
    "    for count in counts:\n",
    "        giniLeaf -= (count/total)**2\n",
    "    return giniLeaf\n",
    "\n",
    "def getGiniNode(sortedList, threshold):\n",
    "        lessThan = []\n",
    "        greaterThan = []\n",
    "\n",
    "        for i in range(len(sortedList)):\n",
    "            x = sortedList[i][0]\n",
    "            # print(x, threshold)\n",
    "            if x < threshold:\n",
    "                lessThan.append(sortedList[i][1])\n",
    "            else:\n",
    "                greaterThan.append(sortedList[i][1])\n",
    "\n",
    "        countsLT = getUniqueClassCount(lessThan)\n",
    "        countsGT = getUniqueClassCount(greaterThan)\n",
    "        giniLT = getGiniLeaf(countsLT)\n",
    "        giniGT = getGiniLeaf(countsGT)\n",
    "        # print(giniLT,giniGT)\n",
    "        # print(np.sum(countsLT),np.sum(countsGT))\n",
    "        totalCount = len(sortedList)\n",
    "        # print(totalCount)\n",
    "        giniNode = ((np.sum(countsLT)/totalCount)*giniLT) + ((np.sum(countsGT)/totalCount)*giniGT)\n",
    "        # print(giniNode)\n",
    "        return giniNode\n"
   ]
  },
  {
   "cell_type": "code",
   "execution_count": 40,
   "metadata": {
    "tags": []
   },
   "outputs": [],
   "source": [
    "def getSplitValue(trainIn, trainOut, attributeIndex):\n",
    "    attribute = trainIn[:, attributeIndex].copy() # Output\n",
    "    combined = []\n",
    "    for j,sample in enumerate(attribute):\n",
    "        combined.append((sample,trainOut[j]))\n",
    "    attribute.sort()\n",
    "    sortedList = [tuple for x in attribute for tuple in combined if tuple[0] == x]\n",
    "\n",
    "\n",
    "    thresholds = []\n",
    "    for j in range(len(attribute)-1):\n",
    "        thresholds.append((attribute[j]+attribute[j+1])/2)\n",
    "\n",
    "    giniNodes = []\n",
    "    for threshold in thresholds:\n",
    "        giniNodes.append(getGiniNode(sortedList, threshold))\n",
    "    # print(giniNodes)\n",
    "    minNodeGini = min(giniNodes)\n",
    "    minGiniIndex = giniNodes.index(minNodeGini)\n",
    "    splitVal = thresholds[minGiniIndex]\n",
    "    return splitVal, minNodeGini\n",
    "   "
   ]
  },
  {
   "cell_type": "code",
   "execution_count": 113,
   "metadata": {
    "tags": []
   },
   "outputs": [
    {
     "output_type": "stream",
     "name": "stdout",
     "text": [
      "Less Than  [38.09292035 0.261521856 1.7318181819999998 3.618461538 17.68 7.556157895\n 14.76 81.21142857]\n"
     ]
    }
   ],
   "source": [
    "def train(trainIn,trainOut):\n",
    "    ginis = []\n",
    "    splitVals = []\n",
    "    for i in range(trainIn.shape[1]):\n",
    "        splitVal, minGini = getSplitValue(trainIn,trainOut, i)\n",
    "        ginis.append(minGini)\n",
    "        splitVals.append(splitVal)\n",
    "        # print(splitVal, minGini)\n",
    "    # print(\"Root is input data attribute\", ginis.index(min(ginis)))\n",
    "    branchData(testIn,testOut,ginis.index(min(ginis)),splitVals[ginis.index(min(ginis))]) #"
   ]
  },
  {
   "cell_type": "code",
   "execution_count": 117,
   "metadata": {},
   "outputs": [],
   "source": [
    "def branchData(X, y, splitAttributeIndex, splitValue):\n",
    "    lessThan_X = []\n",
    "    lessThan_y = []\n",
    "    greaterThan_X = []\n",
    "    greaterThan_y = []\n",
    "    \n",
    "    for i in range(len(X)):\n",
    "        if X[i,splitAttributeIndex] < splitValue:\n",
    "            lessThan_X.append(X[i,:])\n",
    "            lessThan_y.append(y[i])\n",
    "        else:\n",
    "            greaterThan_X.append(X[i,:])\n",
    "            greaterThan_y.append(y[i])"
   ]
  },
  {
   "cell_type": "code",
   "execution_count": null,
   "metadata": {},
   "outputs": [],
   "source": [
    "\n"
   ]
  }
 ]
}