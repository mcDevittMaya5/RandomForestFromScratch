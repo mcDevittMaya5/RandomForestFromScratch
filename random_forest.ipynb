{
 "metadata": {
  "language_info": {
   "codemirror_mode": {
    "name": "ipython",
    "version": 3
   },
   "file_extension": ".py",
   "mimetype": "text/x-python",
   "name": "python",
   "nbconvert_exporter": "python",
   "pygments_lexer": "ipython3",
   "version": "3.8.6-final"
  },
  "orig_nbformat": 2,
  "kernelspec": {
   "name": "python3",
   "display_name": "Python 3"
  }
 },
 "nbformat": 4,
 "nbformat_minor": 2,
 "cells": [
  {
   "cell_type": "code",
   "execution_count": 1,
   "metadata": {},
   "outputs": [],
   "source": [
    "import numpy as np\n",
    "\n",
    "# np.random.seed(0) # REMOVE FOR FINAL SOLUTION"
   ]
  },
  {
   "cell_type": "code",
   "execution_count": 58,
   "metadata": {},
   "outputs": [],
   "source": [
    "def splitData(data):\n",
    "    shuffled = data.copy()\n",
    "    np.random.shuffle(shuffled)\n",
    "\n",
    "    testCount = int(shuffled.shape[0]*1/3)\n",
    "    trainCount = shuffled.shape[0]-testCount\n",
    "    trainSet = shuffled[0:trainCount]\n",
    "    testSet = shuffled[trainCount:]\n",
    "\n",
    "    return trainSet, testSet\n",
    "\n",
    "def separateInputOutput(dataset):\n",
    "    outputData = dataset[:,3] # Output\n",
    "    inputData = np.concatenate((dataset[:,0:3],dataset[:,4:7],dataset[:,8:10]),axis=1)\n",
    "    return inputData, outputData\n",
    "\n",
    "def getInputAttributeDict():\n",
    "    return {   0 : 'calorific_value',\n",
    "                    1 : 'nitrogen',\n",
    "                    2 : 'turbidity',\n",
    "                    3 : 'alcohol',\n",
    "                    4 : 'sugars',\n",
    "                    5 : 'bitterness',\n",
    "                    6 : 'colour',\n",
    "                    7 : 'degree_of_fermentation'} .copy()\n",
    "\n",
    "# def initializeWeights(x,y):\n",
    "#     N = x.shape[0]\n",
    "    \n",
    "def normaliseData(data, normType = \"range\"):\n",
    "    normalisedData = np.zeros(data.shape)\n",
    "    for i in range(normalisedData.shape[1]):\n",
    "        dataColumn = data[:,i].copy()\n",
    "        if normType == \"range\":\n",
    "            maxVal = dataColumn.max()\n",
    "            minVal = dataColumn.min()\n",
    "            for j, val in enumerate(dataColumn):\n",
    "                normalisedData[j,i] = (val-minVal)/(maxVal-minVal)\n",
    "\n",
    "\n",
    "        elif normType == \"z\":\n",
    "            mean = dataColumn.mean()\n",
    "            stdDev =  getStandardDeviation(dataColumn)\n",
    "            for j, val in enumerate(dataColumn):\n",
    "                normalisedData[j,i] = (val-mean)/stdDev\n",
    "    return normalisedData\n",
    "\n",
    "def getStandardDeviation(dataArray):\n",
    "    n = dataArray.shape[0]\n",
    "    mean = dataArray.mean()\n",
    "    sumOfSquareDiffs = 0\n",
    "    for val in dataArray:\n",
    "        sumOfSquareDiffs += (val - mean)**2\n",
    "\n",
    "    variance = sumOfSquareDiffs/(n-1)\n",
    "    stdDev = variance**(1/2)\n",
    "    return stdDev"
   ]
  },
  {
   "cell_type": "code",
   "execution_count": 40,
   "metadata": {
    "tags": []
   },
   "outputs": [
    {
     "output_type": "stream",
     "name": "stdout",
     "text": [
      "122.0 47.0 16.0 26.0\n"
     ]
    }
   ],
   "source": [
    "# Read in data:\n",
    "with open(\"beer.txt\", 'r') as f:\n",
    "    lines = np.asarray(f.read().split('\\n'))\n",
    "\n",
    "dataset = []\n",
    "# Split columns and convert numbers from string to float\n",
    "for lineStr in lines: \n",
    "    attributesStr = lineStr.split('\\t') # Separate attributes (currently all strings)\n",
    "    sample = np.empty((len(attributesStr))).astype(object) # Create empty object array for sample data as floats and str\n",
    "    for i, string in enumerate(attributesStr):\n",
    "        try:\n",
    "            sample[i] = float(string)\n",
    "        except ValueError:\n",
    "            sample[i] = string\n",
    "    dataset.append(sample)\n",
    "dataset = np.asarray(dataset)\n",
    "\n",
    "\n",
    "trainSet, testSet = splitData(dataset)\n",
    "\n",
    "testIn, testOut = separateInputOutput(testSet)\n",
    "trainIn, trainOut = separateInputOutput(trainSet)\n",
    "\n",
    "N =trainIn.shape[0]\n",
    "# Wi = 1/N\n",
    "# print(getInputAttributeDict()[1])\n",
    "\n"
   ]
  },
  {
   "cell_type": "code",
   "execution_count": 4,
   "metadata": {},
   "outputs": [],
   "source": [
    "def getUniqueClassCount(listToCount):\n",
    "    classes = []\n",
    "    for item in listToCount:\n",
    "        if item not in classes:\n",
    "            classes.append(item)\n",
    "\n",
    "    counts = []\n",
    "    for itemClass in classes:\n",
    "        counts.append(listToCount.count(itemClass))\n",
    "    return counts, classes\n",
    "\n",
    "def getLeafGini(counts):\n",
    "    total = np.sum(counts)\n",
    "    giniLeaf = 1\n",
    "    for count in counts:\n",
    "        giniLeaf -= (count/total)**2\n",
    "    return giniLeaf\n",
    "\n",
    "def getNodeGini(sortedList, threshold):\n",
    "        lessThan = []\n",
    "        greaterThan = []\n",
    "\n",
    "        for i in range(len(sortedList)):\n",
    "            x = sortedList[i][0]\n",
    "            # print(x, threshold)\n",
    "            if x < threshold:\n",
    "                lessThan.append(sortedList[i][1])\n",
    "            else:\n",
    "                greaterThan.append(sortedList[i][1])\n",
    "\n",
    "        countsLT, _ = getUniqueClassCount(lessThan)\n",
    "        countsGT, _ = getUniqueClassCount(greaterThan)\n",
    "        giniLT = getLeafGini(countsLT)\n",
    "        giniGT = getLeafGini(countsGT)\n",
    "        # print(giniLT,giniGT)\n",
    "        # print(np.sum(countsLT),np.sum(countsGT))\n",
    "        totalCount = len(sortedList)\n",
    "        # print(totalCount, (len(lessThan)+len(greaterThan)))\n",
    "        nodeGini = ((np.sum(countsLT)/totalCount)*giniLT) + ((np.sum(countsGT)/totalCount)*giniGT)\n",
    "        # print(giniNode)\n",
    "        return nodeGini\n"
   ]
  },
  {
   "cell_type": "code",
   "execution_count": 5,
   "metadata": {
    "tags": []
   },
   "outputs": [],
   "source": [
    "def getMinGiniAndThreshold(inputData, outputData, alreadyUsedAttributes):\n",
    "    inputAttributesMinGinis = []\n",
    "    attributeThresholds = []\n",
    "    attributeIndexes = list(getInputAttributeDict())\n",
    "    # print(attributeIndexes)\n",
    "    for i in alreadyUsedAttributes:\n",
    "        attributeIndexes.remove(i)\n",
    "    # print(\"Getting gini of attributes {}\".format(attributeIndexes))\n",
    "    \n",
    "    for i in attributeIndexes:\n",
    "        attribute = inputData[:, i].copy() # Single attribute from input data\n",
    "        \n",
    "        inputOutputPairs = []\n",
    "        for j,sample in enumerate(attribute):\n",
    "            inputOutputPairs.append((sample,outputData[j]))\n",
    "        attribute.sort()\n",
    "\n",
    "        sortedInputOutputPairs = [tuple for x in attribute for tuple in inputOutputPairs if tuple[0] == x]\n",
    "        # print(len(sortedInputOutputPairs), len(attribute))\n",
    "        # print(attribute[-1], sortedInputOutputPairs[-1])\n",
    "        testThresholds = []\n",
    "        for j in range(len(attribute)-1):\n",
    "            testThresholds.append((attribute[j]+attribute[j+1])/2)\n",
    "\n",
    "        nodeGinis = []\n",
    "        for testThresh in testThresholds:\n",
    "            nodeGinis.append(getNodeGini(sortedInputOutputPairs, testThresh))\n",
    "\n",
    "        minNodeGini = min(nodeGinis)\n",
    "        minGiniIndex = nodeGinis.index(minNodeGini)\n",
    "        attributeThreshold = testThresholds[minGiniIndex]\n",
    "\n",
    "        inputAttributesMinGinis.append(minNodeGini)\n",
    "        attributeThresholds.append(attributeThreshold)\n",
    "    return inputAttributesMinGinis, attributeThresholds\n",
    "   "
   ]
  },
  {
   "cell_type": "code",
   "execution_count": 6,
   "metadata": {
    "tags": []
   },
   "outputs": [],
   "source": [
    "def createTree(trainIn,trainOut):\n",
    "    attributesUsed = []\n",
    "    return recursiveBranch(trainIn, trainOut, 1, attributesUsed, None)\n",
    "    \n",
    "\n",
    "def recursiveBranch(inputData, outputData, parentGini, attributesUsed, currentNode):\n",
    "\n",
    "    if currentNode == None: # Make root node\n",
    "        minAttributeGinis, attributeThresholds = getMinGiniAndThreshold(inputData, outputData, attributesUsed)\n",
    "        nodeAttributeGini = min(minAttributeGinis)\n",
    "\n",
    "        nodeAttributeIndex = minAttributeGinis.index(nodeAttributeGini)\n",
    "        attributesUsed.append(nodeAttributeIndex)\n",
    "\n",
    "        # print(\"Node attribute index (lowest gini) =\",nodeAttributeIndex)\n",
    "\n",
    "        nodeThreshold = attributeThresholds[minAttributeGinis.index(nodeAttributeGini)]\n",
    "        # print(\"Root node created using attribute {} (has a min gini of {:.5f}). Threshold at this node = {}. Parent node gini = {:.5f}.\".format(nodeAttributeIndex, nodeAttributeGini, nodeThreshold, parentGini))\n",
    "\n",
    "        rootNode = Node(nodeAttributeIndex, nodeThreshold)\n",
    "        branchData(inputData, outputData, nodeAttributeGini, nodeThreshold, nodeAttributeIndex, attributesUsed, rootNode)\n",
    "        # print(\"Back to root\")\n",
    "        return rootNode\n",
    "\n",
    "    # print(\"Attributes Used = {}\".format(attributesUsed))#[getInputAttributeDict()[i] for i in attributesUsed]))\n",
    "    \n",
    "    if inputData.shape[0] <= 1:\n",
    "        # print(\"Leaf created - Just one sample remaining:\", outputData)\n",
    "        currentNode.setValue(outputData)\n",
    "        return\n",
    "        \n",
    "    if len(getUniqueClassCount(list(outputData))[0]) == 1:\n",
    "        # print(\"Leaf created - Remaining {} samples are all \\\"{}\\\".\".format(inputData.shape[0], outputData[0]))\n",
    "        currentNode.setValue(outputData)\n",
    "        return\n",
    "\n",
    "    if len(attributesUsed) >= len(inputData)-1: ## -------------------TEST\n",
    "        # print(\"Leaf created - All attributes have been used in current branch.\")\n",
    "        currentNode.setValue(outputData)\n",
    "        # print(outputData)\n",
    "        return\n",
    "    else: # Check ginis\n",
    "        minAttributeGinis, attributeThresholds = getMinGiniAndThreshold(inputData, outputData, attributesUsed)\n",
    "        nodeAttributeGini = min(minAttributeGinis)\n",
    "\n",
    "    # try:\n",
    "    minAttributeGinis, attributeThresholds = getMinGiniAndThreshold(inputData, outputData, attributesUsed)\n",
    "    nodeAttributeGini = min(minAttributeGinis)\n",
    "\n",
    "    # If none of the new ginis is less than parent gini, exit recursion\n",
    "    if parentGini < nodeAttributeGini:\n",
    "        # print(\"Leaf created - Min gini of remaining attributes ({:.5f}) is less than parent node gini ({:.5f}).\".format(nodeAttributeGini, parentGini))\n",
    "        currentNode.setValue(outputData)\n",
    "        return\n",
    "\n",
    "    # Not leaf -> Continue recursion\n",
    "    attributeIndexes = list(getInputAttributeDict()) # Get full attribute list\n",
    "    for i in attributesUsed:                         # Remove previously used attributes\n",
    "        attributeIndexes.remove(i)                  \n",
    "    nodeAttributeIndex = attributeIndexes[minAttributeGinis.index(nodeAttributeGini)] # Get index of new attribute to use \n",
    "    attributesUsed.append(nodeAttributeIndex)                                         # Add to list of used attributes\n",
    "    # print(\"Node attribute index (lowest gini) =\",nodeAttributeIndex)\n",
    "\n",
    "    nodeThreshold = attributeThresholds[minAttributeGinis.index(nodeAttributeGini)] # Get threshold for new node\n",
    "    # print(\"Branch node created using attribute {} (has a min gini of {:.5f}). Threshold at this node = {}. Parent node has gini = {:.5f}.\".format(nodeAttributeIndex, nodeAttributeGini, nodeThreshold, parentGini))\n",
    "    currentNode.setValue(nodeThreshold)\n",
    "    currentNode.setIndex(nodeAttributeIndex)\n",
    "    branchData(inputData, outputData, nodeAttributeGini, nodeThreshold, nodeAttributeIndex, attributesUsed, currentNode)\n",
    "    return\n",
    "    # except:\n",
    "    #     print(\"Attributes Used = {}\".format(attributesUsed))#[getInputAttributeDict()[i] for i in attributesUsed]))\n",
    "    #     print(\"OutputData:\",outputData)\n"
   ]
  },
  {
   "cell_type": "code",
   "execution_count": 7,
   "metadata": {},
   "outputs": [],
   "source": [
    "def branchData(X, y, splitAttributeGini, splitValue, splitAttributeIndex, attributesUsed, currentNode):\n",
    "    lessThan_X = []\n",
    "    lessThan_y = []\n",
    "    greaterThan_X = []\n",
    "    greaterThan_y = []\n",
    "\n",
    "    for i in range(len(X)):\n",
    "        if X[i,splitAttributeIndex] < splitValue:\n",
    "            lessThan_X.append(X[i,:])\n",
    "            lessThan_y.append(y[i])\n",
    "        else:\n",
    "            greaterThan_X.append(X[i,:])\n",
    "            greaterThan_y.append(y[i])\n",
    "\n",
    "    # left branch first:\n",
    "    attributesUsed_left = attributesUsed.copy()\n",
    "    attributesUsed_right = attributesUsed.copy()\n",
    "\n",
    "    currentNode.addLeftChild(Node())\n",
    "    currentNode.addRightChild(Node())\n",
    "\n",
    "    # currentNode_right = currentNode.copy()\n",
    "    \n",
    "    lessThan_X = np.asarray(lessThan_X)\n",
    "    lessThan_y = np.asarray(lessThan_y)\n",
    "    # print(\"\\nBranching left...\")\n",
    "    recursiveBranch(lessThan_X, lessThan_y, splitAttributeGini, attributesUsed_left, currentNode.getLeftChild())\n",
    "    # print(\"Finished left branch.\\n\")\n",
    "\n",
    "    \n",
    "\n",
    "    # Right branch\n",
    "    greaterThan_X = np.asarray(greaterThan_X)\n",
    "    greaterThan_y = np.asarray(greaterThan_y)\n",
    "    # print(\"\\nBranching right...\")\n",
    "    recursiveBranch(greaterThan_X, greaterThan_y, splitAttributeGini, attributesUsed_right, currentNode.getRightChild())\n",
    "    # print(\"Finished right branch.\\n\")\n",
    "\n",
    "    return lessThan_X,lessThan_y,greaterThan_X,greaterThan_y\n",
    "        "
   ]
  },
  {
   "cell_type": "code",
   "execution_count": 8,
   "metadata": {},
   "outputs": [],
   "source": [
    "class Node:\n",
    "    def __init__(self,index=None, value=None):\n",
    "        self.left = None\n",
    "        self.right = None\n",
    "        self.index = index\n",
    "        self.value = value #stores value or the classification eg \"ale\"\n",
    "        \n",
    "    def addLeftChild(self,child):\n",
    "        self.left = child\n",
    "    \n",
    "    def getLeftChild(self):\n",
    "        return self.left\n",
    "\n",
    "    def addRightChild(self,child):\n",
    "        self.right = child\n",
    "\n",
    "    def getRightChild(self):\n",
    "        return self.right\n",
    "    \n",
    "    def printTree(self):\n",
    "        if self.left:\n",
    "            self.left.printTree()\n",
    "        print(self.getData())\n",
    "        if self.right:\n",
    "            self.right.printTree()\n",
    "\n",
    "    def getValue(self):\n",
    "        return self.value\n",
    "\n",
    "    def setValue(self, value):\n",
    "        self.value = value\n",
    "\n",
    "    def setIndex(self, index):\n",
    "        self.index = index\n",
    "    \n",
    "    def getData(self):\n",
    "        return self.index,self.value\n",
    "    \n",
    "    def isLeaf(self):\n",
    "        if (self.left == None) & (self.right == None) & (self.index == None):\n",
    "            return True\n",
    "        else:\n",
    "            return False"
   ]
  },
  {
   "cell_type": "code",
   "execution_count": 9,
   "metadata": {},
   "outputs": [],
   "source": [
    "root1 = createTree(trainIn,trainOut)"
   ]
  },
  {
   "cell_type": "code",
   "execution_count": 10,
   "metadata": {},
   "outputs": [],
   "source": [
    "def accuracy(yPredicted,yActual):\n",
    "    correct = 0\n",
    "    for i in range(len(yPredicted)):\n",
    "        if (yPredicted[i] == yActual[i]):\n",
    "            correct += 1\n",
    "    return correct*100/len(yActual)"
   ]
  },
  {
   "cell_type": "code",
   "execution_count": 11,
   "metadata": {},
   "outputs": [
    {
     "output_type": "stream",
     "name": "stdout",
     "text": [
      "Performance using training data 100.0000%\nPerformance using test data 86.2745%\n"
     ]
    }
   ],
   "source": [
    "from sklearn.ensemble import RandomForestClassifier\n",
    "from sklearn import tree\n",
    "#forest \n",
    "rfcSklearn = RandomForestClassifier(100)\n",
    "rfcSklearn = rfcSklearn.fit(trainIn, trainOut)\n",
    "sklearnTrainPredictions = rfcSklearn.predict(trainIn)\n",
    "sklearnTestPredictions = rfcSklearn.predict(testIn)\n",
    "resultTraining = (sklearnTrainPredictions == trainOut )*100\n",
    "resultTest = (sklearnTestPredictions == testOut)*100\n",
    "# print(\"Performance using training data and sklearn\",\"{:.4f}%\".format(resultTraining.mean()))\n",
    "# print(\"Performance using test data and sklearn\",\"{:.4f}%\".format(resultTest.mean()))\n",
    "\n",
    "#tree\n",
    "clfSklearn = tree.DecisionTreeClassifier()\n",
    "clfSklearn = clfSklearn.fit(trainIn, trainOut)\n",
    "sklearnTrainPrdictionsTree  = clfSklearn.predict(trainIn)\n",
    "sklearnTestPrdictionsTree = clfSklearn.predict(testIn)\n",
    "resultTestTree = (sklearnTestPrdictionsTree == testOut)*100\n",
    "resultTrainingTree = (sklearnTrainPrdictionsTree == trainOut )*100\n",
    "print(\"Performance using training data\",\"{:.4f}%\".format(resultTrainingTree.mean()))\n",
    "print(\"Performance using test data\",\"{:.4f}%\".format(resultTestTree.mean()))\n",
    "\n"
   ]
  },
  {
   "cell_type": "code",
   "execution_count": 12,
   "metadata": {},
   "outputs": [],
   "source": [
    "def randomForestClassifierScratch(x,y,N):\n",
    "    forest = []\n",
    "    newX = []\n",
    "    newY = []\n",
    "    for i in range(0,N,1):\n",
    "        newX,newY = bootstrapData(x,y)\n",
    "        root1 = createTree(np.array(newX),np.array(newY))\n",
    "        forest.append(root1)\n",
    "    return np.array(forest)\n",
    "\n",
    "def bootstrapData(X,Y):\n",
    "    newX = []\n",
    "    newY = []\n",
    "    for j in range(len(X)):\n",
    "        randIndex = np.random.randint(len(X))\n",
    "        newX.append(X[randIndex])\n",
    "        newY.append(Y[randIndex])\n",
    "    return newX, newY\n",
    "\n",
    "def predictForest(X,forest):\n",
    "    predictions = []\n",
    "    for i in range(len(X)):\n",
    "        guess = []\n",
    "        for tree in forest:\n",
    "            guess.append(predictTree(X[i],tree))\n",
    "        counts, classes = getUniqueClassCount(list(guess))\n",
    "        majorityClass = classes[counts.index(max(counts))]\n",
    "        predictions.append(majorityClass)\n",
    "    return predictions\n",
    "\n",
    "\n",
    "def predictTree(x,root):\n",
    "    treePointer = root\n",
    "    index,value = treePointer.getData()\n",
    "    while treePointer.isLeaf() == False:\n",
    "        if (x[index] < value):\n",
    "            treePointer = treePointer.getLeftChild()\n",
    "            index,value = treePointer.getData()\n",
    "        else:\n",
    "            treePointer = treePointer.getRightChild()\n",
    "            index,value = treePointer.getData()\n",
    "\n",
    "    counts, classes = getUniqueClassCount(list(value)) # get counts of classes in leaf\n",
    "    majorityClass = classes[counts.index(max(counts))]\n",
    "\n",
    "    return majorityClass\n",
    "\n",
    "\n"
   ]
  },
  {
   "cell_type": "code",
   "execution_count": 13,
   "metadata": {
    "tags": []
   },
   "outputs": [],
   "source": [
    "forest = randomForestClassifierScratch(trainIn,trainOut,50)"
   ]
  },
  {
   "cell_type": "code",
   "execution_count": 14,
   "metadata": {},
   "outputs": [
    {
     "output_type": "stream",
     "name": "stdout",
     "text": [
      "['ale', 'lager', 'stout', 'lager', 'lager', 'lager', 'lager', 'ale', 'lager', 'stout', 'ale', 'lager', 'lager', 'lager', 'lager', 'stout', 'stout', 'ale', 'stout', 'ale', 'ale', 'lager', 'lager', 'stout', 'ale', 'lager', 'ale', 'stout', 'stout', 'lager', 'stout', 'stout', 'stout', 'stout', 'ale', 'ale', 'stout', 'lager', 'lager', 'lager', 'ale', 'stout', 'stout', 'ale', 'lager', 'ale', 'stout', 'lager', 'ale', 'lager', 'lager']\n90.19607843137256\n"
     ]
    }
   ],
   "source": [
    "predicted = predictForest(trainIn,forest)\n",
    "predicty = predictForest(testIn,forest)\n",
    "print(predicty)\n",
    "print(accuracy(predicty,testOut))"
   ]
  },
  {
   "cell_type": "code",
   "execution_count": null,
   "metadata": {
    "tags": []
   },
   "outputs": [],
   "source": [
    "# N trees plot:\n",
    "\n",
    "ns = np.array([1, 5, 10, 50, 100, 200, 500, 1000])\n",
    "accuracies = np.zeros(ns.shape)\n",
    "for i, n in enumerate(ns):\n",
    "    forest = randomForestClassifierScratch(trainIn,trainOut,n)\n",
    "    predicty = predictForest(testIn,forest)\n",
    "    accuracies[i] = accuracy(predicty,testOut)\n",
    "    print(n, accuracies[i])"
   ]
  },
  {
   "cell_type": "code",
   "execution_count": 15,
   "metadata": {},
   "outputs": [],
   "source": [
    "import matplotlib.pyplot as plt"
   ]
  },
  {
   "cell_type": "code",
   "execution_count": null,
   "metadata": {},
   "outputs": [],
   "source": [
    "plt.plot(ns.astype('str'), list(accuracies), 'ko-')#\n",
    "\n",
    "plt.ylabel('Classification Accuracy')\n",
    "plt.xlabel('# Trees')\n",
    "plt.ylim([0,100])\n",
    "# plt.xticks(np.arange(ns.shape[0]),ns)\n",
    "plt.show()"
   ]
  },
  {
   "cell_type": "code",
   "execution_count": null,
   "metadata": {},
   "outputs": [],
   "source": []
  },
  {
   "cell_type": "code",
   "execution_count": 17,
   "metadata": {},
   "outputs": [
    {
     "output_type": "display_data",
     "data": {
      "text/plain": "<Figure size 432x288 with 1 Axes>",
      "image/svg+xml": "<?xml version=\"1.0\" encoding=\"utf-8\" standalone=\"no\"?>\r\n<!DOCTYPE svg PUBLIC \"-//W3C//DTD SVG 1.1//EN\"\r\n  \"http://www.w3.org/Graphics/SVG/1.1/DTD/svg11.dtd\">\r\n<!-- Created with matplotlib (https://matplotlib.org/) -->\r\n<svg height=\"250.520319pt\" version=\"1.1\" viewBox=\"0 0 368.925 250.520319\" width=\"368.925pt\" xmlns=\"http://www.w3.org/2000/svg\" xmlns:xlink=\"http://www.w3.org/1999/xlink\">\r\n <defs>\r\n  <style type=\"text/css\">\r\n*{stroke-linecap:butt;stroke-linejoin:round;}\r\n  </style>\r\n </defs>\r\n <g id=\"figure_1\">\r\n  <g id=\"patch_1\">\r\n   <path d=\"M -0 250.520319 \r\nL 368.925 250.520319 \r\nL 368.925 0 \r\nL -0 0 \r\nz\r\n\" style=\"fill:none;\"/>\r\n  </g>\r\n  <g id=\"axes_1\">\r\n   <g id=\"patch_2\">\r\n    <path d=\"M 26.925 226.642194 \r\nL 361.725 226.642194 \r\nL 361.725 9.202194 \r\nL 26.925 9.202194 \r\nz\r\n\" style=\"fill:#ffffff;\"/>\r\n   </g>\r\n   <g id=\"matplotlib.axis_1\">\r\n    <g id=\"xtick_1\">\r\n     <g id=\"line2d_1\">\r\n      <defs>\r\n       <path d=\"M 0 0 \r\nL 0 3.5 \r\n\" id=\"m6350a20f05\" style=\"stroke:#000000;stroke-width:0.8;\"/>\r\n      </defs>\r\n      <g>\r\n       <use style=\"stroke:#000000;stroke-width:0.8;\" x=\"42.143182\" xlink:href=\"#m6350a20f05\" y=\"226.642194\"/>\r\n      </g>\r\n     </g>\r\n     <g id=\"text_1\">\r\n      <!-- 0 -->\r\n      <defs>\r\n       <path d=\"M 31.78125 66.40625 \r\nQ 24.171875 66.40625 20.328125 58.90625 \r\nQ 16.5 51.421875 16.5 36.375 \r\nQ 16.5 21.390625 20.328125 13.890625 \r\nQ 24.171875 6.390625 31.78125 6.390625 \r\nQ 39.453125 6.390625 43.28125 13.890625 \r\nQ 47.125 21.390625 47.125 36.375 \r\nQ 47.125 51.421875 43.28125 58.90625 \r\nQ 39.453125 66.40625 31.78125 66.40625 \r\nz\r\nM 31.78125 74.21875 \r\nQ 44.046875 74.21875 50.515625 64.515625 \r\nQ 56.984375 54.828125 56.984375 36.375 \r\nQ 56.984375 17.96875 50.515625 8.265625 \r\nQ 44.046875 -1.421875 31.78125 -1.421875 \r\nQ 19.53125 -1.421875 13.0625 8.265625 \r\nQ 6.59375 17.96875 6.59375 36.375 \r\nQ 6.59375 54.828125 13.0625 64.515625 \r\nQ 19.53125 74.21875 31.78125 74.21875 \r\nz\r\n\" id=\"DejaVuSans-48\"/>\r\n      </defs>\r\n      <g transform=\"translate(38.961932 241.240631)scale(0.1 -0.1)\">\r\n       <use xlink:href=\"#DejaVuSans-48\"/>\r\n      </g>\r\n     </g>\r\n    </g>\r\n    <g id=\"xtick_2\">\r\n     <g id=\"line2d_2\">\r\n      <g>\r\n       <use style=\"stroke:#000000;stroke-width:0.8;\" x=\"109.779545\" xlink:href=\"#m6350a20f05\" y=\"226.642194\"/>\r\n      </g>\r\n     </g>\r\n     <g id=\"text_2\">\r\n      <!-- 2 -->\r\n      <defs>\r\n       <path d=\"M 19.1875 8.296875 \r\nL 53.609375 8.296875 \r\nL 53.609375 0 \r\nL 7.328125 0 \r\nL 7.328125 8.296875 \r\nQ 12.9375 14.109375 22.625 23.890625 \r\nQ 32.328125 33.6875 34.8125 36.53125 \r\nQ 39.546875 41.84375 41.421875 45.53125 \r\nQ 43.3125 49.21875 43.3125 52.78125 \r\nQ 43.3125 58.59375 39.234375 62.25 \r\nQ 35.15625 65.921875 28.609375 65.921875 \r\nQ 23.96875 65.921875 18.8125 64.3125 \r\nQ 13.671875 62.703125 7.8125 59.421875 \r\nL 7.8125 69.390625 \r\nQ 13.765625 71.78125 18.9375 73 \r\nQ 24.125 74.21875 28.421875 74.21875 \r\nQ 39.75 74.21875 46.484375 68.546875 \r\nQ 53.21875 62.890625 53.21875 53.421875 \r\nQ 53.21875 48.921875 51.53125 44.890625 \r\nQ 49.859375 40.875 45.40625 35.40625 \r\nQ 44.1875 33.984375 37.640625 27.21875 \r\nQ 31.109375 20.453125 19.1875 8.296875 \r\nz\r\n\" id=\"DejaVuSans-50\"/>\r\n      </defs>\r\n      <g transform=\"translate(106.598295 241.240631)scale(0.1 -0.1)\">\r\n       <use xlink:href=\"#DejaVuSans-50\"/>\r\n      </g>\r\n     </g>\r\n    </g>\r\n    <g id=\"xtick_3\">\r\n     <g id=\"line2d_3\">\r\n      <g>\r\n       <use style=\"stroke:#000000;stroke-width:0.8;\" x=\"177.415909\" xlink:href=\"#m6350a20f05\" y=\"226.642194\"/>\r\n      </g>\r\n     </g>\r\n     <g id=\"text_3\">\r\n      <!-- 4 -->\r\n      <defs>\r\n       <path d=\"M 37.796875 64.3125 \r\nL 12.890625 25.390625 \r\nL 37.796875 25.390625 \r\nz\r\nM 35.203125 72.90625 \r\nL 47.609375 72.90625 \r\nL 47.609375 25.390625 \r\nL 58.015625 25.390625 \r\nL 58.015625 17.1875 \r\nL 47.609375 17.1875 \r\nL 47.609375 0 \r\nL 37.796875 0 \r\nL 37.796875 17.1875 \r\nL 4.890625 17.1875 \r\nL 4.890625 26.703125 \r\nz\r\n\" id=\"DejaVuSans-52\"/>\r\n      </defs>\r\n      <g transform=\"translate(174.234659 241.240631)scale(0.1 -0.1)\">\r\n       <use xlink:href=\"#DejaVuSans-52\"/>\r\n      </g>\r\n     </g>\r\n    </g>\r\n    <g id=\"xtick_4\">\r\n     <g id=\"line2d_4\">\r\n      <g>\r\n       <use style=\"stroke:#000000;stroke-width:0.8;\" x=\"245.052273\" xlink:href=\"#m6350a20f05\" y=\"226.642194\"/>\r\n      </g>\r\n     </g>\r\n     <g id=\"text_4\">\r\n      <!-- 6 -->\r\n      <defs>\r\n       <path d=\"M 33.015625 40.375 \r\nQ 26.375 40.375 22.484375 35.828125 \r\nQ 18.609375 31.296875 18.609375 23.390625 \r\nQ 18.609375 15.53125 22.484375 10.953125 \r\nQ 26.375 6.390625 33.015625 6.390625 \r\nQ 39.65625 6.390625 43.53125 10.953125 \r\nQ 47.40625 15.53125 47.40625 23.390625 \r\nQ 47.40625 31.296875 43.53125 35.828125 \r\nQ 39.65625 40.375 33.015625 40.375 \r\nz\r\nM 52.59375 71.296875 \r\nL 52.59375 62.3125 \r\nQ 48.875 64.0625 45.09375 64.984375 \r\nQ 41.3125 65.921875 37.59375 65.921875 \r\nQ 27.828125 65.921875 22.671875 59.328125 \r\nQ 17.53125 52.734375 16.796875 39.40625 \r\nQ 19.671875 43.65625 24.015625 45.921875 \r\nQ 28.375 48.1875 33.59375 48.1875 \r\nQ 44.578125 48.1875 50.953125 41.515625 \r\nQ 57.328125 34.859375 57.328125 23.390625 \r\nQ 57.328125 12.15625 50.6875 5.359375 \r\nQ 44.046875 -1.421875 33.015625 -1.421875 \r\nQ 20.359375 -1.421875 13.671875 8.265625 \r\nQ 6.984375 17.96875 6.984375 36.375 \r\nQ 6.984375 53.65625 15.1875 63.9375 \r\nQ 23.390625 74.21875 37.203125 74.21875 \r\nQ 40.921875 74.21875 44.703125 73.484375 \r\nQ 48.484375 72.75 52.59375 71.296875 \r\nz\r\n\" id=\"DejaVuSans-54\"/>\r\n      </defs>\r\n      <g transform=\"translate(241.871023 241.240631)scale(0.1 -0.1)\">\r\n       <use xlink:href=\"#DejaVuSans-54\"/>\r\n      </g>\r\n     </g>\r\n    </g>\r\n    <g id=\"xtick_5\">\r\n     <g id=\"line2d_5\">\r\n      <g>\r\n       <use style=\"stroke:#000000;stroke-width:0.8;\" x=\"312.688636\" xlink:href=\"#m6350a20f05\" y=\"226.642194\"/>\r\n      </g>\r\n     </g>\r\n     <g id=\"text_5\">\r\n      <!-- 8 -->\r\n      <defs>\r\n       <path d=\"M 31.78125 34.625 \r\nQ 24.75 34.625 20.71875 30.859375 \r\nQ 16.703125 27.09375 16.703125 20.515625 \r\nQ 16.703125 13.921875 20.71875 10.15625 \r\nQ 24.75 6.390625 31.78125 6.390625 \r\nQ 38.8125 6.390625 42.859375 10.171875 \r\nQ 46.921875 13.96875 46.921875 20.515625 \r\nQ 46.921875 27.09375 42.890625 30.859375 \r\nQ 38.875 34.625 31.78125 34.625 \r\nz\r\nM 21.921875 38.8125 \r\nQ 15.578125 40.375 12.03125 44.71875 \r\nQ 8.5 49.078125 8.5 55.328125 \r\nQ 8.5 64.0625 14.71875 69.140625 \r\nQ 20.953125 74.21875 31.78125 74.21875 \r\nQ 42.671875 74.21875 48.875 69.140625 \r\nQ 55.078125 64.0625 55.078125 55.328125 \r\nQ 55.078125 49.078125 51.53125 44.71875 \r\nQ 48 40.375 41.703125 38.8125 \r\nQ 48.828125 37.15625 52.796875 32.3125 \r\nQ 56.78125 27.484375 56.78125 20.515625 \r\nQ 56.78125 9.90625 50.3125 4.234375 \r\nQ 43.84375 -1.421875 31.78125 -1.421875 \r\nQ 19.734375 -1.421875 13.25 4.234375 \r\nQ 6.78125 9.90625 6.78125 20.515625 \r\nQ 6.78125 27.484375 10.78125 32.3125 \r\nQ 14.796875 37.15625 21.921875 38.8125 \r\nz\r\nM 18.3125 54.390625 \r\nQ 18.3125 48.734375 21.84375 45.5625 \r\nQ 25.390625 42.390625 31.78125 42.390625 \r\nQ 38.140625 42.390625 41.71875 45.5625 \r\nQ 45.3125 48.734375 45.3125 54.390625 \r\nQ 45.3125 60.0625 41.71875 63.234375 \r\nQ 38.140625 66.40625 31.78125 66.40625 \r\nQ 25.390625 66.40625 21.84375 63.234375 \r\nQ 18.3125 60.0625 18.3125 54.390625 \r\nz\r\n\" id=\"DejaVuSans-56\"/>\r\n      </defs>\r\n      <g transform=\"translate(309.507386 241.240631)scale(0.1 -0.1)\">\r\n       <use xlink:href=\"#DejaVuSans-56\"/>\r\n      </g>\r\n     </g>\r\n    </g>\r\n   </g>\r\n   <g id=\"matplotlib.axis_2\">\r\n    <g id=\"ytick_1\">\r\n     <g id=\"line2d_6\">\r\n      <defs>\r\n       <path d=\"M 0 0 \r\nL -3.5 0 \r\n\" id=\"m62b8505485\" style=\"stroke:#000000;stroke-width:0.8;\"/>\r\n      </defs>\r\n      <g>\r\n       <use style=\"stroke:#000000;stroke-width:0.8;\" x=\"26.925\" xlink:href=\"#m62b8505485\" y=\"194.295748\"/>\r\n      </g>\r\n     </g>\r\n     <g id=\"text_6\">\r\n      <!-- 75 -->\r\n      <defs>\r\n       <path d=\"M 8.203125 72.90625 \r\nL 55.078125 72.90625 \r\nL 55.078125 68.703125 \r\nL 28.609375 0 \r\nL 18.3125 0 \r\nL 43.21875 64.59375 \r\nL 8.203125 64.59375 \r\nz\r\n\" id=\"DejaVuSans-55\"/>\r\n       <path d=\"M 10.796875 72.90625 \r\nL 49.515625 72.90625 \r\nL 49.515625 64.59375 \r\nL 19.828125 64.59375 \r\nL 19.828125 46.734375 \r\nQ 21.96875 47.46875 24.109375 47.828125 \r\nQ 26.265625 48.1875 28.421875 48.1875 \r\nQ 40.625 48.1875 47.75 41.5 \r\nQ 54.890625 34.8125 54.890625 23.390625 \r\nQ 54.890625 11.625 47.5625 5.09375 \r\nQ 40.234375 -1.421875 26.90625 -1.421875 \r\nQ 22.3125 -1.421875 17.546875 -0.640625 \r\nQ 12.796875 0.140625 7.71875 1.703125 \r\nL 7.71875 11.625 \r\nQ 12.109375 9.234375 16.796875 8.0625 \r\nQ 21.484375 6.890625 26.703125 6.890625 \r\nQ 35.15625 6.890625 40.078125 11.328125 \r\nQ 45.015625 15.765625 45.015625 23.390625 \r\nQ 45.015625 31 40.078125 35.4375 \r\nQ 35.15625 39.890625 26.703125 39.890625 \r\nQ 22.75 39.890625 18.8125 39.015625 \r\nQ 14.890625 38.140625 10.796875 36.28125 \r\nz\r\n\" id=\"DejaVuSans-53\"/>\r\n      </defs>\r\n      <g transform=\"translate(7.2 198.094966)scale(0.1 -0.1)\">\r\n       <use xlink:href=\"#DejaVuSans-55\"/>\r\n       <use x=\"63.623047\" xlink:href=\"#DejaVuSans-53\"/>\r\n      </g>\r\n     </g>\r\n    </g>\r\n    <g id=\"ytick_2\">\r\n     <g id=\"line2d_7\">\r\n      <g>\r\n       <use style=\"stroke:#000000;stroke-width:0.8;\" x=\"26.925\" xlink:href=\"#m62b8505485\" y=\"148.471615\"/>\r\n      </g>\r\n     </g>\r\n     <g id=\"text_7\">\r\n      <!-- 80 -->\r\n      <g transform=\"translate(7.2 152.270834)scale(0.1 -0.1)\">\r\n       <use xlink:href=\"#DejaVuSans-56\"/>\r\n       <use x=\"63.623047\" xlink:href=\"#DejaVuSans-48\"/>\r\n      </g>\r\n     </g>\r\n    </g>\r\n    <g id=\"ytick_3\">\r\n     <g id=\"line2d_8\">\r\n      <g>\r\n       <use style=\"stroke:#000000;stroke-width:0.8;\" x=\"26.925\" xlink:href=\"#m62b8505485\" y=\"102.647483\"/>\r\n      </g>\r\n     </g>\r\n     <g id=\"text_8\">\r\n      <!-- 85 -->\r\n      <g transform=\"translate(7.2 106.446702)scale(0.1 -0.1)\">\r\n       <use xlink:href=\"#DejaVuSans-56\"/>\r\n       <use x=\"63.623047\" xlink:href=\"#DejaVuSans-53\"/>\r\n      </g>\r\n     </g>\r\n    </g>\r\n    <g id=\"ytick_4\">\r\n     <g id=\"line2d_9\">\r\n      <g>\r\n       <use style=\"stroke:#000000;stroke-width:0.8;\" x=\"26.925\" xlink:href=\"#m62b8505485\" y=\"56.823351\"/>\r\n      </g>\r\n     </g>\r\n     <g id=\"text_9\">\r\n      <!-- 90 -->\r\n      <defs>\r\n       <path d=\"M 10.984375 1.515625 \r\nL 10.984375 10.5 \r\nQ 14.703125 8.734375 18.5 7.8125 \r\nQ 22.3125 6.890625 25.984375 6.890625 \r\nQ 35.75 6.890625 40.890625 13.453125 \r\nQ 46.046875 20.015625 46.78125 33.40625 \r\nQ 43.953125 29.203125 39.59375 26.953125 \r\nQ 35.25 24.703125 29.984375 24.703125 \r\nQ 19.046875 24.703125 12.671875 31.3125 \r\nQ 6.296875 37.9375 6.296875 49.421875 \r\nQ 6.296875 60.640625 12.9375 67.421875 \r\nQ 19.578125 74.21875 30.609375 74.21875 \r\nQ 43.265625 74.21875 49.921875 64.515625 \r\nQ 56.59375 54.828125 56.59375 36.375 \r\nQ 56.59375 19.140625 48.40625 8.859375 \r\nQ 40.234375 -1.421875 26.421875 -1.421875 \r\nQ 22.703125 -1.421875 18.890625 -0.6875 \r\nQ 15.09375 0.046875 10.984375 1.515625 \r\nz\r\nM 30.609375 32.421875 \r\nQ 37.25 32.421875 41.125 36.953125 \r\nQ 45.015625 41.5 45.015625 49.421875 \r\nQ 45.015625 57.28125 41.125 61.84375 \r\nQ 37.25 66.40625 30.609375 66.40625 \r\nQ 23.96875 66.40625 20.09375 61.84375 \r\nQ 16.21875 57.28125 16.21875 49.421875 \r\nQ 16.21875 41.5 20.09375 36.953125 \r\nQ 23.96875 32.421875 30.609375 32.421875 \r\nz\r\n\" id=\"DejaVuSans-57\"/>\r\n      </defs>\r\n      <g transform=\"translate(7.2 60.62257)scale(0.1 -0.1)\">\r\n       <use xlink:href=\"#DejaVuSans-57\"/>\r\n       <use x=\"63.623047\" xlink:href=\"#DejaVuSans-48\"/>\r\n      </g>\r\n     </g>\r\n    </g>\r\n    <g id=\"ytick_5\">\r\n     <g id=\"line2d_10\">\r\n      <g>\r\n       <use style=\"stroke:#000000;stroke-width:0.8;\" x=\"26.925\" xlink:href=\"#m62b8505485\" y=\"10.999219\"/>\r\n      </g>\r\n     </g>\r\n     <g id=\"text_10\">\r\n      <!-- 95 -->\r\n      <g transform=\"translate(7.2 14.798438)scale(0.1 -0.1)\">\r\n       <use xlink:href=\"#DejaVuSans-57\"/>\r\n       <use x=\"63.623047\" xlink:href=\"#DejaVuSans-53\"/>\r\n      </g>\r\n     </g>\r\n    </g>\r\n   </g>\r\n   <g id=\"line2d_11\">\r\n    <path clip-path=\"url(#pfe03d5b4b6)\" d=\"M 42.143182 72.996574 \r\nL 75.961364 37.056078 \r\nL 109.779545 19.08583 \r\nL 143.597727 90.966822 \r\nL 177.415909 108.93707 \r\nL 211.234091 216.758558 \r\nL 245.052273 90.966822 \r\nL 278.870455 55.026326 \r\nL 312.688636 144.877566 \r\nL 346.506818 90.966822 \r\n\" style=\"fill:none;stroke:#000000;stroke-linecap:square;stroke-width:1.5;\"/>\r\n    <defs>\r\n     <path d=\"M 0 1.5 \r\nC 0.397805 1.5 0.77937 1.341951 1.06066 1.06066 \r\nC 1.341951 0.77937 1.5 0.397805 1.5 0 \r\nC 1.5 -0.397805 1.341951 -0.77937 1.06066 -1.06066 \r\nC 0.77937 -1.341951 0.397805 -1.5 0 -1.5 \r\nC -0.397805 -1.5 -0.77937 -1.341951 -1.06066 -1.06066 \r\nC -1.341951 -0.77937 -1.5 -0.397805 -1.5 0 \r\nC -1.5 0.397805 -1.341951 0.77937 -1.06066 1.06066 \r\nC -0.77937 1.341951 -0.397805 1.5 0 1.5 \r\nz\r\n\" id=\"m1c1773209e\" style=\"stroke:#000000;\"/>\r\n    </defs>\r\n    <g clip-path=\"url(#pfe03d5b4b6)\">\r\n     <use style=\"stroke:#000000;\" x=\"42.143182\" xlink:href=\"#m1c1773209e\" y=\"72.996574\"/>\r\n     <use style=\"stroke:#000000;\" x=\"75.961364\" xlink:href=\"#m1c1773209e\" y=\"37.056078\"/>\r\n     <use style=\"stroke:#000000;\" x=\"109.779545\" xlink:href=\"#m1c1773209e\" y=\"19.08583\"/>\r\n     <use style=\"stroke:#000000;\" x=\"143.597727\" xlink:href=\"#m1c1773209e\" y=\"90.966822\"/>\r\n     <use style=\"stroke:#000000;\" x=\"177.415909\" xlink:href=\"#m1c1773209e\" y=\"108.93707\"/>\r\n     <use style=\"stroke:#000000;\" x=\"211.234091\" xlink:href=\"#m1c1773209e\" y=\"216.758558\"/>\r\n     <use style=\"stroke:#000000;\" x=\"245.052273\" xlink:href=\"#m1c1773209e\" y=\"90.966822\"/>\r\n     <use style=\"stroke:#000000;\" x=\"278.870455\" xlink:href=\"#m1c1773209e\" y=\"55.026326\"/>\r\n     <use style=\"stroke:#000000;\" x=\"312.688636\" xlink:href=\"#m1c1773209e\" y=\"144.877566\"/>\r\n     <use style=\"stroke:#000000;\" x=\"346.506818\" xlink:href=\"#m1c1773209e\" y=\"90.966822\"/>\r\n    </g>\r\n   </g>\r\n   <g id=\"line2d_12\">\r\n    <path clip-path=\"url(#pfe03d5b4b6)\" d=\"M 42.143182 37.056078 \r\nL 75.961364 90.966822 \r\nL 109.779545 55.026326 \r\nL 143.597727 144.877566 \r\nL 177.415909 37.056078 \r\nL 211.234091 108.93707 \r\nL 245.052273 72.996574 \r\nL 278.870455 90.966822 \r\nL 312.688636 72.996574 \r\nL 346.506818 55.026326 \r\n\" style=\"fill:none;stroke:#008000;stroke-dasharray:5.55,2.4;stroke-dashoffset:0;stroke-width:1.5;\"/>\r\n    <defs>\r\n     <path d=\"M 0 1.5 \r\nC 0.397805 1.5 0.77937 1.341951 1.06066 1.06066 \r\nC 1.341951 0.77937 1.5 0.397805 1.5 0 \r\nC 1.5 -0.397805 1.341951 -0.77937 1.06066 -1.06066 \r\nC 0.77937 -1.341951 0.397805 -1.5 0 -1.5 \r\nC -0.397805 -1.5 -0.77937 -1.341951 -1.06066 -1.06066 \r\nC -1.341951 -0.77937 -1.5 -0.397805 -1.5 0 \r\nC -1.5 0.397805 -1.341951 0.77937 -1.06066 1.06066 \r\nC -0.77937 1.341951 -0.397805 1.5 0 1.5 \r\nz\r\n\" id=\"mf5fdb2e926\" style=\"stroke:#008000;\"/>\r\n    </defs>\r\n    <g clip-path=\"url(#pfe03d5b4b6)\">\r\n     <use style=\"fill:#008000;stroke:#008000;\" x=\"42.143182\" xlink:href=\"#mf5fdb2e926\" y=\"37.056078\"/>\r\n     <use style=\"fill:#008000;stroke:#008000;\" x=\"75.961364\" xlink:href=\"#mf5fdb2e926\" y=\"90.966822\"/>\r\n     <use style=\"fill:#008000;stroke:#008000;\" x=\"109.779545\" xlink:href=\"#mf5fdb2e926\" y=\"55.026326\"/>\r\n     <use style=\"fill:#008000;stroke:#008000;\" x=\"143.597727\" xlink:href=\"#mf5fdb2e926\" y=\"144.877566\"/>\r\n     <use style=\"fill:#008000;stroke:#008000;\" x=\"177.415909\" xlink:href=\"#mf5fdb2e926\" y=\"37.056078\"/>\r\n     <use style=\"fill:#008000;stroke:#008000;\" x=\"211.234091\" xlink:href=\"#mf5fdb2e926\" y=\"108.93707\"/>\r\n     <use style=\"fill:#008000;stroke:#008000;\" x=\"245.052273\" xlink:href=\"#mf5fdb2e926\" y=\"72.996574\"/>\r\n     <use style=\"fill:#008000;stroke:#008000;\" x=\"278.870455\" xlink:href=\"#mf5fdb2e926\" y=\"90.966822\"/>\r\n     <use style=\"fill:#008000;stroke:#008000;\" x=\"312.688636\" xlink:href=\"#mf5fdb2e926\" y=\"72.996574\"/>\r\n     <use style=\"fill:#008000;stroke:#008000;\" x=\"346.506818\" xlink:href=\"#mf5fdb2e926\" y=\"55.026326\"/>\r\n    </g>\r\n   </g>\r\n   <g id=\"patch_3\">\r\n    <path d=\"M 26.925 226.642194 \r\nL 26.925 9.202194 \r\n\" style=\"fill:none;stroke:#000000;stroke-linecap:square;stroke-linejoin:miter;stroke-width:0.8;\"/>\r\n   </g>\r\n   <g id=\"patch_4\">\r\n    <path d=\"M 361.725 226.642194 \r\nL 361.725 9.202194 \r\n\" style=\"fill:none;stroke:#000000;stroke-linecap:square;stroke-linejoin:miter;stroke-width:0.8;\"/>\r\n   </g>\r\n   <g id=\"patch_5\">\r\n    <path d=\"M 26.925 226.642194 \r\nL 361.725 226.642194 \r\n\" style=\"fill:none;stroke:#000000;stroke-linecap:square;stroke-linejoin:miter;stroke-width:0.8;\"/>\r\n   </g>\r\n   <g id=\"patch_6\">\r\n    <path d=\"M 26.925 9.202194 \r\nL 361.725 9.202194 \r\n\" style=\"fill:none;stroke:#000000;stroke-linecap:square;stroke-linejoin:miter;stroke-width:0.8;\"/>\r\n   </g>\r\n   <g id=\"legend_1\">\r\n    <g id=\"patch_7\">\r\n     <path d=\"M 33.925 221.642194 \r\nL 276.50625 221.642194 \r\nQ 278.50625 221.642194 278.50625 219.642194 \r\nL 278.50625 191.285944 \r\nQ 278.50625 189.285944 276.50625 189.285944 \r\nL 33.925 189.285944 \r\nQ 31.925 189.285944 31.925 191.285944 \r\nL 31.925 219.642194 \r\nQ 31.925 221.642194 33.925 221.642194 \r\nz\r\n\" style=\"fill:#ffffff;opacity:0.8;stroke:#cccccc;stroke-linejoin:miter;\"/>\r\n    </g>\r\n    <g id=\"patch_8\">\r\n     <path d=\"M 35.925 200.884381 \r\nL 55.925 200.884381 \r\nL 55.925 193.884381 \r\nL 35.925 193.884381 \r\nz\r\n\" style=\"fill:#008000;stroke:#008000;stroke-linejoin:miter;\"/>\r\n    </g>\r\n    <g id=\"text_11\">\r\n     <!-- Scikit Learn Decision Tree Implementation -->\r\n     <defs>\r\n      <path d=\"M 53.515625 70.515625 \r\nL 53.515625 60.890625 \r\nQ 47.90625 63.578125 42.921875 64.890625 \r\nQ 37.9375 66.21875 33.296875 66.21875 \r\nQ 25.25 66.21875 20.875 63.09375 \r\nQ 16.5 59.96875 16.5 54.203125 \r\nQ 16.5 49.359375 19.40625 46.890625 \r\nQ 22.3125 44.4375 30.421875 42.921875 \r\nL 36.375 41.703125 \r\nQ 47.40625 39.59375 52.65625 34.296875 \r\nQ 57.90625 29 57.90625 20.125 \r\nQ 57.90625 9.515625 50.796875 4.046875 \r\nQ 43.703125 -1.421875 29.984375 -1.421875 \r\nQ 24.8125 -1.421875 18.96875 -0.25 \r\nQ 13.140625 0.921875 6.890625 3.21875 \r\nL 6.890625 13.375 \r\nQ 12.890625 10.015625 18.65625 8.296875 \r\nQ 24.421875 6.59375 29.984375 6.59375 \r\nQ 38.421875 6.59375 43.015625 9.90625 \r\nQ 47.609375 13.234375 47.609375 19.390625 \r\nQ 47.609375 24.75 44.3125 27.78125 \r\nQ 41.015625 30.8125 33.5 32.328125 \r\nL 27.484375 33.5 \r\nQ 16.453125 35.6875 11.515625 40.375 \r\nQ 6.59375 45.0625 6.59375 53.421875 \r\nQ 6.59375 63.09375 13.40625 68.65625 \r\nQ 20.21875 74.21875 32.171875 74.21875 \r\nQ 37.3125 74.21875 42.625 73.28125 \r\nQ 47.953125 72.359375 53.515625 70.515625 \r\nz\r\n\" id=\"DejaVuSans-83\"/>\r\n      <path d=\"M 48.78125 52.59375 \r\nL 48.78125 44.1875 \r\nQ 44.96875 46.296875 41.140625 47.34375 \r\nQ 37.3125 48.390625 33.40625 48.390625 \r\nQ 24.65625 48.390625 19.8125 42.84375 \r\nQ 14.984375 37.3125 14.984375 27.296875 \r\nQ 14.984375 17.28125 19.8125 11.734375 \r\nQ 24.65625 6.203125 33.40625 6.203125 \r\nQ 37.3125 6.203125 41.140625 7.25 \r\nQ 44.96875 8.296875 48.78125 10.40625 \r\nL 48.78125 2.09375 \r\nQ 45.015625 0.34375 40.984375 -0.53125 \r\nQ 36.96875 -1.421875 32.421875 -1.421875 \r\nQ 20.0625 -1.421875 12.78125 6.34375 \r\nQ 5.515625 14.109375 5.515625 27.296875 \r\nQ 5.515625 40.671875 12.859375 48.328125 \r\nQ 20.21875 56 33.015625 56 \r\nQ 37.15625 56 41.109375 55.140625 \r\nQ 45.0625 54.296875 48.78125 52.59375 \r\nz\r\n\" id=\"DejaVuSans-99\"/>\r\n      <path d=\"M 9.421875 54.6875 \r\nL 18.40625 54.6875 \r\nL 18.40625 0 \r\nL 9.421875 0 \r\nz\r\nM 9.421875 75.984375 \r\nL 18.40625 75.984375 \r\nL 18.40625 64.59375 \r\nL 9.421875 64.59375 \r\nz\r\n\" id=\"DejaVuSans-105\"/>\r\n      <path d=\"M 9.078125 75.984375 \r\nL 18.109375 75.984375 \r\nL 18.109375 31.109375 \r\nL 44.921875 54.6875 \r\nL 56.390625 54.6875 \r\nL 27.390625 29.109375 \r\nL 57.625 0 \r\nL 45.90625 0 \r\nL 18.109375 26.703125 \r\nL 18.109375 0 \r\nL 9.078125 0 \r\nz\r\n\" id=\"DejaVuSans-107\"/>\r\n      <path d=\"M 18.3125 70.21875 \r\nL 18.3125 54.6875 \r\nL 36.8125 54.6875 \r\nL 36.8125 47.703125 \r\nL 18.3125 47.703125 \r\nL 18.3125 18.015625 \r\nQ 18.3125 11.328125 20.140625 9.421875 \r\nQ 21.96875 7.515625 27.59375 7.515625 \r\nL 36.8125 7.515625 \r\nL 36.8125 0 \r\nL 27.59375 0 \r\nQ 17.1875 0 13.234375 3.875 \r\nQ 9.28125 7.765625 9.28125 18.015625 \r\nL 9.28125 47.703125 \r\nL 2.6875 47.703125 \r\nL 2.6875 54.6875 \r\nL 9.28125 54.6875 \r\nL 9.28125 70.21875 \r\nz\r\n\" id=\"DejaVuSans-116\"/>\r\n      <path id=\"DejaVuSans-32\"/>\r\n      <path d=\"M 9.8125 72.90625 \r\nL 19.671875 72.90625 \r\nL 19.671875 8.296875 \r\nL 55.171875 8.296875 \r\nL 55.171875 0 \r\nL 9.8125 0 \r\nz\r\n\" id=\"DejaVuSans-76\"/>\r\n      <path d=\"M 56.203125 29.59375 \r\nL 56.203125 25.203125 \r\nL 14.890625 25.203125 \r\nQ 15.484375 15.921875 20.484375 11.0625 \r\nQ 25.484375 6.203125 34.421875 6.203125 \r\nQ 39.59375 6.203125 44.453125 7.46875 \r\nQ 49.3125 8.734375 54.109375 11.28125 \r\nL 54.109375 2.78125 \r\nQ 49.265625 0.734375 44.1875 -0.34375 \r\nQ 39.109375 -1.421875 33.890625 -1.421875 \r\nQ 20.796875 -1.421875 13.15625 6.1875 \r\nQ 5.515625 13.8125 5.515625 26.8125 \r\nQ 5.515625 40.234375 12.765625 48.109375 \r\nQ 20.015625 56 32.328125 56 \r\nQ 43.359375 56 49.78125 48.890625 \r\nQ 56.203125 41.796875 56.203125 29.59375 \r\nz\r\nM 47.21875 32.234375 \r\nQ 47.125 39.59375 43.09375 43.984375 \r\nQ 39.0625 48.390625 32.421875 48.390625 \r\nQ 24.90625 48.390625 20.390625 44.140625 \r\nQ 15.875 39.890625 15.1875 32.171875 \r\nz\r\n\" id=\"DejaVuSans-101\"/>\r\n      <path d=\"M 34.28125 27.484375 \r\nQ 23.390625 27.484375 19.1875 25 \r\nQ 14.984375 22.515625 14.984375 16.5 \r\nQ 14.984375 11.71875 18.140625 8.90625 \r\nQ 21.296875 6.109375 26.703125 6.109375 \r\nQ 34.1875 6.109375 38.703125 11.40625 \r\nQ 43.21875 16.703125 43.21875 25.484375 \r\nL 43.21875 27.484375 \r\nz\r\nM 52.203125 31.203125 \r\nL 52.203125 0 \r\nL 43.21875 0 \r\nL 43.21875 8.296875 \r\nQ 40.140625 3.328125 35.546875 0.953125 \r\nQ 30.953125 -1.421875 24.3125 -1.421875 \r\nQ 15.921875 -1.421875 10.953125 3.296875 \r\nQ 6 8.015625 6 15.921875 \r\nQ 6 25.140625 12.171875 29.828125 \r\nQ 18.359375 34.515625 30.609375 34.515625 \r\nL 43.21875 34.515625 \r\nL 43.21875 35.40625 \r\nQ 43.21875 41.609375 39.140625 45 \r\nQ 35.0625 48.390625 27.6875 48.390625 \r\nQ 23 48.390625 18.546875 47.265625 \r\nQ 14.109375 46.140625 10.015625 43.890625 \r\nL 10.015625 52.203125 \r\nQ 14.9375 54.109375 19.578125 55.046875 \r\nQ 24.21875 56 28.609375 56 \r\nQ 40.484375 56 46.34375 49.84375 \r\nQ 52.203125 43.703125 52.203125 31.203125 \r\nz\r\n\" id=\"DejaVuSans-97\"/>\r\n      <path d=\"M 41.109375 46.296875 \r\nQ 39.59375 47.171875 37.8125 47.578125 \r\nQ 36.03125 48 33.890625 48 \r\nQ 26.265625 48 22.1875 43.046875 \r\nQ 18.109375 38.09375 18.109375 28.8125 \r\nL 18.109375 0 \r\nL 9.078125 0 \r\nL 9.078125 54.6875 \r\nL 18.109375 54.6875 \r\nL 18.109375 46.1875 \r\nQ 20.953125 51.171875 25.484375 53.578125 \r\nQ 30.03125 56 36.53125 56 \r\nQ 37.453125 56 38.578125 55.875 \r\nQ 39.703125 55.765625 41.0625 55.515625 \r\nz\r\n\" id=\"DejaVuSans-114\"/>\r\n      <path d=\"M 54.890625 33.015625 \r\nL 54.890625 0 \r\nL 45.90625 0 \r\nL 45.90625 32.71875 \r\nQ 45.90625 40.484375 42.875 44.328125 \r\nQ 39.84375 48.1875 33.796875 48.1875 \r\nQ 26.515625 48.1875 22.3125 43.546875 \r\nQ 18.109375 38.921875 18.109375 30.90625 \r\nL 18.109375 0 \r\nL 9.078125 0 \r\nL 9.078125 54.6875 \r\nL 18.109375 54.6875 \r\nL 18.109375 46.1875 \r\nQ 21.34375 51.125 25.703125 53.5625 \r\nQ 30.078125 56 35.796875 56 \r\nQ 45.21875 56 50.046875 50.171875 \r\nQ 54.890625 44.34375 54.890625 33.015625 \r\nz\r\n\" id=\"DejaVuSans-110\"/>\r\n      <path d=\"M 19.671875 64.796875 \r\nL 19.671875 8.109375 \r\nL 31.59375 8.109375 \r\nQ 46.6875 8.109375 53.6875 14.9375 \r\nQ 60.6875 21.78125 60.6875 36.53125 \r\nQ 60.6875 51.171875 53.6875 57.984375 \r\nQ 46.6875 64.796875 31.59375 64.796875 \r\nz\r\nM 9.8125 72.90625 \r\nL 30.078125 72.90625 \r\nQ 51.265625 72.90625 61.171875 64.09375 \r\nQ 71.09375 55.28125 71.09375 36.53125 \r\nQ 71.09375 17.671875 61.125 8.828125 \r\nQ 51.171875 0 30.078125 0 \r\nL 9.8125 0 \r\nz\r\n\" id=\"DejaVuSans-68\"/>\r\n      <path d=\"M 44.28125 53.078125 \r\nL 44.28125 44.578125 \r\nQ 40.484375 46.53125 36.375 47.5 \r\nQ 32.28125 48.484375 27.875 48.484375 \r\nQ 21.1875 48.484375 17.84375 46.4375 \r\nQ 14.5 44.390625 14.5 40.28125 \r\nQ 14.5 37.15625 16.890625 35.375 \r\nQ 19.28125 33.59375 26.515625 31.984375 \r\nL 29.59375 31.296875 \r\nQ 39.15625 29.25 43.1875 25.515625 \r\nQ 47.21875 21.78125 47.21875 15.09375 \r\nQ 47.21875 7.46875 41.1875 3.015625 \r\nQ 35.15625 -1.421875 24.609375 -1.421875 \r\nQ 20.21875 -1.421875 15.453125 -0.5625 \r\nQ 10.6875 0.296875 5.421875 2 \r\nL 5.421875 11.28125 \r\nQ 10.40625 8.6875 15.234375 7.390625 \r\nQ 20.0625 6.109375 24.8125 6.109375 \r\nQ 31.15625 6.109375 34.5625 8.28125 \r\nQ 37.984375 10.453125 37.984375 14.40625 \r\nQ 37.984375 18.0625 35.515625 20.015625 \r\nQ 33.0625 21.96875 24.703125 23.78125 \r\nL 21.578125 24.515625 \r\nQ 13.234375 26.265625 9.515625 29.90625 \r\nQ 5.8125 33.546875 5.8125 39.890625 \r\nQ 5.8125 47.609375 11.28125 51.796875 \r\nQ 16.75 56 26.8125 56 \r\nQ 31.78125 56 36.171875 55.265625 \r\nQ 40.578125 54.546875 44.28125 53.078125 \r\nz\r\n\" id=\"DejaVuSans-115\"/>\r\n      <path d=\"M 30.609375 48.390625 \r\nQ 23.390625 48.390625 19.1875 42.75 \r\nQ 14.984375 37.109375 14.984375 27.296875 \r\nQ 14.984375 17.484375 19.15625 11.84375 \r\nQ 23.34375 6.203125 30.609375 6.203125 \r\nQ 37.796875 6.203125 41.984375 11.859375 \r\nQ 46.1875 17.53125 46.1875 27.296875 \r\nQ 46.1875 37.015625 41.984375 42.703125 \r\nQ 37.796875 48.390625 30.609375 48.390625 \r\nz\r\nM 30.609375 56 \r\nQ 42.328125 56 49.015625 48.375 \r\nQ 55.71875 40.765625 55.71875 27.296875 \r\nQ 55.71875 13.875 49.015625 6.21875 \r\nQ 42.328125 -1.421875 30.609375 -1.421875 \r\nQ 18.84375 -1.421875 12.171875 6.21875 \r\nQ 5.515625 13.875 5.515625 27.296875 \r\nQ 5.515625 40.765625 12.171875 48.375 \r\nQ 18.84375 56 30.609375 56 \r\nz\r\n\" id=\"DejaVuSans-111\"/>\r\n      <path d=\"M -0.296875 72.90625 \r\nL 61.375 72.90625 \r\nL 61.375 64.59375 \r\nL 35.5 64.59375 \r\nL 35.5 0 \r\nL 25.59375 0 \r\nL 25.59375 64.59375 \r\nL -0.296875 64.59375 \r\nz\r\n\" id=\"DejaVuSans-84\"/>\r\n      <path d=\"M 9.8125 72.90625 \r\nL 19.671875 72.90625 \r\nL 19.671875 0 \r\nL 9.8125 0 \r\nz\r\n\" id=\"DejaVuSans-73\"/>\r\n      <path d=\"M 52 44.1875 \r\nQ 55.375 50.25 60.0625 53.125 \r\nQ 64.75 56 71.09375 56 \r\nQ 79.640625 56 84.28125 50.015625 \r\nQ 88.921875 44.046875 88.921875 33.015625 \r\nL 88.921875 0 \r\nL 79.890625 0 \r\nL 79.890625 32.71875 \r\nQ 79.890625 40.578125 77.09375 44.375 \r\nQ 74.3125 48.1875 68.609375 48.1875 \r\nQ 61.625 48.1875 57.5625 43.546875 \r\nQ 53.515625 38.921875 53.515625 30.90625 \r\nL 53.515625 0 \r\nL 44.484375 0 \r\nL 44.484375 32.71875 \r\nQ 44.484375 40.625 41.703125 44.40625 \r\nQ 38.921875 48.1875 33.109375 48.1875 \r\nQ 26.21875 48.1875 22.15625 43.53125 \r\nQ 18.109375 38.875 18.109375 30.90625 \r\nL 18.109375 0 \r\nL 9.078125 0 \r\nL 9.078125 54.6875 \r\nL 18.109375 54.6875 \r\nL 18.109375 46.1875 \r\nQ 21.1875 51.21875 25.484375 53.609375 \r\nQ 29.78125 56 35.6875 56 \r\nQ 41.65625 56 45.828125 52.96875 \r\nQ 50 49.953125 52 44.1875 \r\nz\r\n\" id=\"DejaVuSans-109\"/>\r\n      <path d=\"M 18.109375 8.203125 \r\nL 18.109375 -20.796875 \r\nL 9.078125 -20.796875 \r\nL 9.078125 54.6875 \r\nL 18.109375 54.6875 \r\nL 18.109375 46.390625 \r\nQ 20.953125 51.265625 25.265625 53.625 \r\nQ 29.59375 56 35.59375 56 \r\nQ 45.5625 56 51.78125 48.09375 \r\nQ 58.015625 40.1875 58.015625 27.296875 \r\nQ 58.015625 14.40625 51.78125 6.484375 \r\nQ 45.5625 -1.421875 35.59375 -1.421875 \r\nQ 29.59375 -1.421875 25.265625 0.953125 \r\nQ 20.953125 3.328125 18.109375 8.203125 \r\nz\r\nM 48.6875 27.296875 \r\nQ 48.6875 37.203125 44.609375 42.84375 \r\nQ 40.53125 48.484375 33.40625 48.484375 \r\nQ 26.265625 48.484375 22.1875 42.84375 \r\nQ 18.109375 37.203125 18.109375 27.296875 \r\nQ 18.109375 17.390625 22.1875 11.75 \r\nQ 26.265625 6.109375 33.40625 6.109375 \r\nQ 40.53125 6.109375 44.609375 11.75 \r\nQ 48.6875 17.390625 48.6875 27.296875 \r\nz\r\n\" id=\"DejaVuSans-112\"/>\r\n      <path d=\"M 9.421875 75.984375 \r\nL 18.40625 75.984375 \r\nL 18.40625 0 \r\nL 9.421875 0 \r\nz\r\n\" id=\"DejaVuSans-108\"/>\r\n     </defs>\r\n     <g transform=\"translate(63.925 200.884381)scale(0.1 -0.1)\">\r\n      <use xlink:href=\"#DejaVuSans-83\"/>\r\n      <use x=\"63.476562\" xlink:href=\"#DejaVuSans-99\"/>\r\n      <use x=\"118.457031\" xlink:href=\"#DejaVuSans-105\"/>\r\n      <use x=\"146.240234\" xlink:href=\"#DejaVuSans-107\"/>\r\n      <use x=\"204.150391\" xlink:href=\"#DejaVuSans-105\"/>\r\n      <use x=\"231.933594\" xlink:href=\"#DejaVuSans-116\"/>\r\n      <use x=\"271.142578\" xlink:href=\"#DejaVuSans-32\"/>\r\n      <use x=\"302.929688\" xlink:href=\"#DejaVuSans-76\"/>\r\n      <use x=\"356.892578\" xlink:href=\"#DejaVuSans-101\"/>\r\n      <use x=\"418.416016\" xlink:href=\"#DejaVuSans-97\"/>\r\n      <use x=\"479.695312\" xlink:href=\"#DejaVuSans-114\"/>\r\n      <use x=\"519.058594\" xlink:href=\"#DejaVuSans-110\"/>\r\n      <use x=\"582.4375\" xlink:href=\"#DejaVuSans-32\"/>\r\n      <use x=\"614.224609\" xlink:href=\"#DejaVuSans-68\"/>\r\n      <use x=\"691.226562\" xlink:href=\"#DejaVuSans-101\"/>\r\n      <use x=\"752.75\" xlink:href=\"#DejaVuSans-99\"/>\r\n      <use x=\"807.730469\" xlink:href=\"#DejaVuSans-105\"/>\r\n      <use x=\"835.513672\" xlink:href=\"#DejaVuSans-115\"/>\r\n      <use x=\"887.613281\" xlink:href=\"#DejaVuSans-105\"/>\r\n      <use x=\"915.396484\" xlink:href=\"#DejaVuSans-111\"/>\r\n      <use x=\"976.578125\" xlink:href=\"#DejaVuSans-110\"/>\r\n      <use x=\"1039.957031\" xlink:href=\"#DejaVuSans-32\"/>\r\n      <use x=\"1071.744141\" xlink:href=\"#DejaVuSans-84\"/>\r\n      <use x=\"1118.078125\" xlink:href=\"#DejaVuSans-114\"/>\r\n      <use x=\"1156.941406\" xlink:href=\"#DejaVuSans-101\"/>\r\n      <use x=\"1218.464844\" xlink:href=\"#DejaVuSans-101\"/>\r\n      <use x=\"1279.988281\" xlink:href=\"#DejaVuSans-32\"/>\r\n      <use x=\"1311.775391\" xlink:href=\"#DejaVuSans-73\"/>\r\n      <use x=\"1341.267578\" xlink:href=\"#DejaVuSans-109\"/>\r\n      <use x=\"1438.679688\" xlink:href=\"#DejaVuSans-112\"/>\r\n      <use x=\"1502.15625\" xlink:href=\"#DejaVuSans-108\"/>\r\n      <use x=\"1529.939453\" xlink:href=\"#DejaVuSans-101\"/>\r\n      <use x=\"1591.462891\" xlink:href=\"#DejaVuSans-109\"/>\r\n      <use x=\"1688.875\" xlink:href=\"#DejaVuSans-101\"/>\r\n      <use x=\"1750.398438\" xlink:href=\"#DejaVuSans-110\"/>\r\n      <use x=\"1813.777344\" xlink:href=\"#DejaVuSans-116\"/>\r\n      <use x=\"1852.986328\" xlink:href=\"#DejaVuSans-97\"/>\r\n      <use x=\"1914.265625\" xlink:href=\"#DejaVuSans-116\"/>\r\n      <use x=\"1953.474609\" xlink:href=\"#DejaVuSans-105\"/>\r\n      <use x=\"1981.257812\" xlink:href=\"#DejaVuSans-111\"/>\r\n      <use x=\"2042.439453\" xlink:href=\"#DejaVuSans-110\"/>\r\n     </g>\r\n    </g>\r\n    <g id=\"patch_9\">\r\n     <path d=\"M 35.925 215.562506 \r\nL 55.925 215.562506 \r\nL 55.925 208.562506 \r\nL 35.925 208.562506 \r\nz\r\n\" style=\"stroke:#000000;stroke-linejoin:miter;\"/>\r\n    </g>\r\n    <g id=\"text_12\">\r\n     <!-- Decision Tree Implemented From Scratch -->\r\n     <defs>\r\n      <path d=\"M 45.40625 46.390625 \r\nL 45.40625 75.984375 \r\nL 54.390625 75.984375 \r\nL 54.390625 0 \r\nL 45.40625 0 \r\nL 45.40625 8.203125 \r\nQ 42.578125 3.328125 38.25 0.953125 \r\nQ 33.9375 -1.421875 27.875 -1.421875 \r\nQ 17.96875 -1.421875 11.734375 6.484375 \r\nQ 5.515625 14.40625 5.515625 27.296875 \r\nQ 5.515625 40.1875 11.734375 48.09375 \r\nQ 17.96875 56 27.875 56 \r\nQ 33.9375 56 38.25 53.625 \r\nQ 42.578125 51.265625 45.40625 46.390625 \r\nz\r\nM 14.796875 27.296875 \r\nQ 14.796875 17.390625 18.875 11.75 \r\nQ 22.953125 6.109375 30.078125 6.109375 \r\nQ 37.203125 6.109375 41.296875 11.75 \r\nQ 45.40625 17.390625 45.40625 27.296875 \r\nQ 45.40625 37.203125 41.296875 42.84375 \r\nQ 37.203125 48.484375 30.078125 48.484375 \r\nQ 22.953125 48.484375 18.875 42.84375 \r\nQ 14.796875 37.203125 14.796875 27.296875 \r\nz\r\n\" id=\"DejaVuSans-100\"/>\r\n      <path d=\"M 9.8125 72.90625 \r\nL 51.703125 72.90625 \r\nL 51.703125 64.59375 \r\nL 19.671875 64.59375 \r\nL 19.671875 43.109375 \r\nL 48.578125 43.109375 \r\nL 48.578125 34.8125 \r\nL 19.671875 34.8125 \r\nL 19.671875 0 \r\nL 9.8125 0 \r\nz\r\n\" id=\"DejaVuSans-70\"/>\r\n      <path d=\"M 54.890625 33.015625 \r\nL 54.890625 0 \r\nL 45.90625 0 \r\nL 45.90625 32.71875 \r\nQ 45.90625 40.484375 42.875 44.328125 \r\nQ 39.84375 48.1875 33.796875 48.1875 \r\nQ 26.515625 48.1875 22.3125 43.546875 \r\nQ 18.109375 38.921875 18.109375 30.90625 \r\nL 18.109375 0 \r\nL 9.078125 0 \r\nL 9.078125 75.984375 \r\nL 18.109375 75.984375 \r\nL 18.109375 46.1875 \r\nQ 21.34375 51.125 25.703125 53.5625 \r\nQ 30.078125 56 35.796875 56 \r\nQ 45.21875 56 50.046875 50.171875 \r\nQ 54.890625 44.34375 54.890625 33.015625 \r\nz\r\n\" id=\"DejaVuSans-104\"/>\r\n     </defs>\r\n     <g transform=\"translate(63.925 215.562506)scale(0.1 -0.1)\">\r\n      <use xlink:href=\"#DejaVuSans-68\"/>\r\n      <use x=\"77.001953\" xlink:href=\"#DejaVuSans-101\"/>\r\n      <use x=\"138.525391\" xlink:href=\"#DejaVuSans-99\"/>\r\n      <use x=\"193.505859\" xlink:href=\"#DejaVuSans-105\"/>\r\n      <use x=\"221.289062\" xlink:href=\"#DejaVuSans-115\"/>\r\n      <use x=\"273.388672\" xlink:href=\"#DejaVuSans-105\"/>\r\n      <use x=\"301.171875\" xlink:href=\"#DejaVuSans-111\"/>\r\n      <use x=\"362.353516\" xlink:href=\"#DejaVuSans-110\"/>\r\n      <use x=\"425.732422\" xlink:href=\"#DejaVuSans-32\"/>\r\n      <use x=\"457.519531\" xlink:href=\"#DejaVuSans-84\"/>\r\n      <use x=\"503.853516\" xlink:href=\"#DejaVuSans-114\"/>\r\n      <use x=\"542.716797\" xlink:href=\"#DejaVuSans-101\"/>\r\n      <use x=\"604.240234\" xlink:href=\"#DejaVuSans-101\"/>\r\n      <use x=\"665.763672\" xlink:href=\"#DejaVuSans-32\"/>\r\n      <use x=\"697.550781\" xlink:href=\"#DejaVuSans-73\"/>\r\n      <use x=\"727.042969\" xlink:href=\"#DejaVuSans-109\"/>\r\n      <use x=\"824.455078\" xlink:href=\"#DejaVuSans-112\"/>\r\n      <use x=\"887.931641\" xlink:href=\"#DejaVuSans-108\"/>\r\n      <use x=\"915.714844\" xlink:href=\"#DejaVuSans-101\"/>\r\n      <use x=\"977.238281\" xlink:href=\"#DejaVuSans-109\"/>\r\n      <use x=\"1074.650391\" xlink:href=\"#DejaVuSans-101\"/>\r\n      <use x=\"1136.173828\" xlink:href=\"#DejaVuSans-110\"/>\r\n      <use x=\"1199.552734\" xlink:href=\"#DejaVuSans-116\"/>\r\n      <use x=\"1238.761719\" xlink:href=\"#DejaVuSans-101\"/>\r\n      <use x=\"1300.285156\" xlink:href=\"#DejaVuSans-100\"/>\r\n      <use x=\"1363.761719\" xlink:href=\"#DejaVuSans-32\"/>\r\n      <use x=\"1395.548828\" xlink:href=\"#DejaVuSans-70\"/>\r\n      <use x=\"1445.818359\" xlink:href=\"#DejaVuSans-114\"/>\r\n      <use x=\"1484.681641\" xlink:href=\"#DejaVuSans-111\"/>\r\n      <use x=\"1545.863281\" xlink:href=\"#DejaVuSans-109\"/>\r\n      <use x=\"1643.275391\" xlink:href=\"#DejaVuSans-32\"/>\r\n      <use x=\"1675.0625\" xlink:href=\"#DejaVuSans-83\"/>\r\n      <use x=\"1738.539062\" xlink:href=\"#DejaVuSans-99\"/>\r\n      <use x=\"1793.519531\" xlink:href=\"#DejaVuSans-114\"/>\r\n      <use x=\"1834.632812\" xlink:href=\"#DejaVuSans-97\"/>\r\n      <use x=\"1895.912109\" xlink:href=\"#DejaVuSans-116\"/>\r\n      <use x=\"1935.121094\" xlink:href=\"#DejaVuSans-99\"/>\r\n      <use x=\"1990.101562\" xlink:href=\"#DejaVuSans-104\"/>\r\n     </g>\r\n    </g>\r\n   </g>\r\n  </g>\r\n </g>\r\n <defs>\r\n  <clipPath id=\"pfe03d5b4b6\">\r\n   <rect height=\"217.44\" width=\"334.8\" x=\"26.925\" y=\"9.202194\"/>\r\n  </clipPath>\r\n </defs>\r\n</svg>\r\n",
      "image/png": "[encoded data removed]"
     },
     "metadata": {
      "needs_background": "light"
     }
    },
    {
     "output_type": "stream",
     "name": "stdout",
     "text": [
      "Average Performance using Scikit Learn Decision Tree Implementation 87.8431%\nAverage Performance using Decision Tree Implementation Made from Scratch 86.0784%\n"
     ]
    }
   ],
   "source": [
    "# import matplotlib.pyplot as plt\n",
    "import matplotlib.patches as mpatches\n",
    "#Signle Tree Tests sklearn v scratch implementation\n",
    "preformaceSklearn = []\n",
    "preformaceScratch = []\n",
    "\n",
    "for i in range(10):\n",
    "    trainData, testData = splitData(dataset)\n",
    "    xtestIn,yTestOut=separateInputOutput(testData)\n",
    "    xtrainIn,yTrainOut = separateInputOutput(trainData)\n",
    "\n",
    "    #Test tree script developed from scratch\n",
    "    treeScratch = createTree(xtrainIn,yTrainOut) \n",
    "    predictedYScratch = []\n",
    "    for i in range(len(xtestIn)):\n",
    "        predictionScratch = predictTree(xtestIn[i],treeScratch)\n",
    "        predictedYScratch.append(predictionScratch)\n",
    "    preformaceScratch.append(accuracy(predictedYScratch,yTestOut))\n",
    "    \n",
    "    #Sklearn \n",
    "    treeSklearn = tree.DecisionTreeClassifier()\n",
    "    treeSklearn = treeSklearn.fit(xtrainIn, yTrainOut)\n",
    "    sklearnTestPrdictionsTree  = treeSklearn.predict(xtestIn)\n",
    "    preformaceSklearn.append(accuracy(sklearnTestPrdictionsTree,yTestOut))\n",
    "\n",
    "sklearn = mpatches.Patch(color='green', label='Scikit Learn Decision Tree Implementation')\n",
    "scratch = mpatches.Patch(color='black', label='Decision Tree Implemented From Scratch')\n",
    "plt.legend(handles=[sklearn,scratch])\n",
    "plt.plot(preformaceScratch,c='black',marker = '.')\n",
    "plt.plot(preformaceSklearn,c='green',ls = '--',marker = '.')\n",
    "plt.show()\n",
    "\n",
    "print(\"Average Performance using Scikit Learn Decision Tree Implementation\",\"{:.4f}%\".format(sum(preformaceSklearn)/len(preformaceSklearn)))\n",
    "print(\"Average Performance using Decision Tree Implementation Made from Scratch\",\"{:.4f}%\".format(sum(preformaceScratch)/len(preformaceScratch)))"
   ]
  },
  {
   "cell_type": "code",
   "execution_count": 63,
   "metadata": {},
   "outputs": [
    {
     "output_type": "stream",
     "name": "stdout",
     "text": [
      "Iteration 0\n",
      "No norm accuracy =  96.07843137254902\n",
      "Range norm accuracy =  94.11764705882354\n",
      "Z norm accuracy =  84.31372549019608\n",
      "Iteration 1\n",
      "No norm accuracy =  96.07843137254902\n",
      "Range norm accuracy =  90.19607843137256\n",
      "Z norm accuracy =  86.27450980392157\n",
      "Iteration 2\n",
      "No norm accuracy =  94.11764705882354\n",
      "Range norm accuracy =  94.11764705882354\n",
      "Z norm accuracy =  84.31372549019608\n",
      "Iteration 3\n",
      "No norm accuracy =  92.15686274509804\n",
      "Range norm accuracy =  94.11764705882354\n",
      "Z norm accuracy =  80.3921568627451\n",
      "Iteration 4\n",
      "No norm accuracy =  80.3921568627451\n",
      "Range norm accuracy =  76.47058823529412\n",
      "Z norm accuracy =  78.43137254901961\n"
     ]
    }
   ],
   "source": [
    "noNorm = []\n",
    "rangeNorm = []\n",
    "zNorm = []\n",
    "reps = 20\n",
    "\n",
    "for i in range(reps):\n",
    "    print(\"Iteration\",i)\n",
    "    trainSet, testSet = splitData(dataset)\n",
    "    testIn, testOut = separateInputOutput(testSet)\n",
    "    trainIn, trainOut = separateInputOutput(trainSet)\n",
    "\n",
    "    trainIn_rangeNorm = normaliseData(trainIn, 'range')\n",
    "    testIn_rangeNorm = normaliseData(testIn, 'range')\n",
    "\n",
    "    trainIn_zNorm = normaliseData(trainIn, 'z')\n",
    "    testIn_zNorm = normaliseData(testIn, 'z')\n",
    "\n",
    "    forest = randomForestClassifierScratch(trainIn,trainOut,50)\n",
    "    predicty = predictForest(testIn,forest)\n",
    "    acc = accuracy(predicty,testOut)\n",
    "    print(\"No norm accuracy = \", acc)\n",
    "    noNorm.append(acc)\n",
    "\n",
    "    forest = randomForestClassifierScratch(trainIn_zNorm,trainOut,50)\n",
    "    predicty = predictForest(testIn_zNorm,forest)\n",
    "    acc = accuracy(predicty,testOut)\n",
    "    print(\"Range norm accuracy = \", acc)\n",
    "    rangeNorm.append(acc)\n",
    "\n",
    "    forest = randomForestClassifierScratch(trainIn_rangeNorm,trainOut,50)\n",
    "    predicty = predictForest(testIn_rangeNorm,forest)\n",
    "    acc = accuracy(predicty,testOut)\n",
    "    print(\"Z norm accuracy = \", acc)\n",
    "    zNorm.append(acc)\n"
   ]
  },
  {
   "cell_type": "code",
   "execution_count": 64,
   "metadata": {},
   "outputs": [
    {
     "output_type": "stream",
     "name": "stdout",
     "text": [
      "Mean no norm = 91.76470588235293\nMean range norm = 89.80392156862744\nMean z norm = 82.74509803921569\n"
     ]
    }
   ],
   "source": [
    "print(\"Mean no norm = {}\".format(np.array(noNorm).mean()))\n",
    "print(\"Mean range norm = {}\".format(np.array(rangeNorm).mean()))\n",
    "print(\"Mean z norm = {}\".format(np.array(zNorm).mean()))"
   ]
  },
  {
   "cell_type": "code",
   "execution_count": 83,
   "metadata": {},
   "outputs": [
    {
     "output_type": "display_data",
     "data": {
      "text/plain": "<Figure size 432x288 with 1 Axes>",
      "image/svg+xml": "<?xml version=\"1.0\" encoding=\"utf-8\" standalone=\"no\"?>\r\n<!DOCTYPE svg PUBLIC \"-//W3C//DTD SVG 1.1//EN\"\r\n  \"http://www.w3.org/Graphics/SVG/1.1/DTD/svg11.dtd\">\r\n<!-- Created with matplotlib (https://matplotlib.org/) -->\r\n<svg height=\"265.995469pt\" version=\"1.1\" viewBox=\"0 0 388.965625 265.995469\" width=\"388.965625pt\" xmlns=\"http://www.w3.org/2000/svg\" xmlns:xlink=\"http://www.w3.org/1999/xlink\">\r\n <defs>\r\n  <style type=\"text/css\">\r\n*{stroke-linecap:butt;stroke-linejoin:round;}\r\n  </style>\r\n </defs>\r\n <g id=\"figure_1\">\r\n  <g id=\"patch_1\">\r\n   <path d=\"M 0 265.995469 \r\nL 388.965625 265.995469 \r\nL 388.965625 0 \r\nL 0 0 \r\nz\r\n\" style=\"fill:none;\"/>\r\n  </g>\r\n  <g id=\"axes_1\">\r\n   <g id=\"patch_2\">\r\n    <path d=\"M 46.965625 228.439219 \r\nL 381.765625 228.439219 \r\nL 381.765625 10.999219 \r\nL 46.965625 10.999219 \r\nz\r\n\" style=\"fill:#ffffff;\"/>\r\n   </g>\r\n   <g id=\"matplotlib.axis_1\">\r\n    <g id=\"xtick_1\">\r\n     <g id=\"line2d_1\">\r\n      <defs>\r\n       <path d=\"M 0 0 \r\nL 0 3.5 \r\n\" id=\"m0f7a6ff62d\" style=\"stroke:#000000;stroke-width:0.8;\"/>\r\n      </defs>\r\n      <g>\r\n       <use style=\"stroke:#000000;stroke-width:0.8;\" x=\"62.183807\" xlink:href=\"#m0f7a6ff62d\" y=\"228.439219\"/>\r\n      </g>\r\n     </g>\r\n     <g id=\"text_1\">\r\n      <!-- 1 -->\r\n      <defs>\r\n       <path d=\"M 12.40625 8.296875 \r\nL 28.515625 8.296875 \r\nL 28.515625 63.921875 \r\nL 10.984375 60.40625 \r\nL 10.984375 69.390625 \r\nL 28.421875 72.90625 \r\nL 38.28125 72.90625 \r\nL 38.28125 8.296875 \r\nL 54.390625 8.296875 \r\nL 54.390625 0 \r\nL 12.40625 0 \r\nz\r\n\" id=\"DejaVuSans-49\"/>\r\n      </defs>\r\n      <g transform=\"translate(59.002557 243.037656)scale(0.1 -0.1)\">\r\n       <use xlink:href=\"#DejaVuSans-49\"/>\r\n      </g>\r\n     </g>\r\n    </g>\r\n    <g id=\"xtick_2\">\r\n     <g id=\"line2d_2\">\r\n      <g>\r\n       <use style=\"stroke:#000000;stroke-width:0.8;\" x=\"138.274716\" xlink:href=\"#m0f7a6ff62d\" y=\"228.439219\"/>\r\n      </g>\r\n     </g>\r\n     <g id=\"text_2\">\r\n      <!-- 2 -->\r\n      <defs>\r\n       <path d=\"M 19.1875 8.296875 \r\nL 53.609375 8.296875 \r\nL 53.609375 0 \r\nL 7.328125 0 \r\nL 7.328125 8.296875 \r\nQ 12.9375 14.109375 22.625 23.890625 \r\nQ 32.328125 33.6875 34.8125 36.53125 \r\nQ 39.546875 41.84375 41.421875 45.53125 \r\nQ 43.3125 49.21875 43.3125 52.78125 \r\nQ 43.3125 58.59375 39.234375 62.25 \r\nQ 35.15625 65.921875 28.609375 65.921875 \r\nQ 23.96875 65.921875 18.8125 64.3125 \r\nQ 13.671875 62.703125 7.8125 59.421875 \r\nL 7.8125 69.390625 \r\nQ 13.765625 71.78125 18.9375 73 \r\nQ 24.125 74.21875 28.421875 74.21875 \r\nQ 39.75 74.21875 46.484375 68.546875 \r\nQ 53.21875 62.890625 53.21875 53.421875 \r\nQ 53.21875 48.921875 51.53125 44.890625 \r\nQ 49.859375 40.875 45.40625 35.40625 \r\nQ 44.1875 33.984375 37.640625 27.21875 \r\nQ 31.109375 20.453125 19.1875 8.296875 \r\nz\r\n\" id=\"DejaVuSans-50\"/>\r\n      </defs>\r\n      <g transform=\"translate(135.093466 243.037656)scale(0.1 -0.1)\">\r\n       <use xlink:href=\"#DejaVuSans-50\"/>\r\n      </g>\r\n     </g>\r\n    </g>\r\n    <g id=\"xtick_3\">\r\n     <g id=\"line2d_3\">\r\n      <g>\r\n       <use style=\"stroke:#000000;stroke-width:0.8;\" x=\"214.365625\" xlink:href=\"#m0f7a6ff62d\" y=\"228.439219\"/>\r\n      </g>\r\n     </g>\r\n     <g id=\"text_3\">\r\n      <!-- 3 -->\r\n      <defs>\r\n       <path d=\"M 40.578125 39.3125 \r\nQ 47.65625 37.796875 51.625 33 \r\nQ 55.609375 28.21875 55.609375 21.1875 \r\nQ 55.609375 10.40625 48.1875 4.484375 \r\nQ 40.765625 -1.421875 27.09375 -1.421875 \r\nQ 22.515625 -1.421875 17.65625 -0.515625 \r\nQ 12.796875 0.390625 7.625 2.203125 \r\nL 7.625 11.71875 \r\nQ 11.71875 9.328125 16.59375 8.109375 \r\nQ 21.484375 6.890625 26.8125 6.890625 \r\nQ 36.078125 6.890625 40.9375 10.546875 \r\nQ 45.796875 14.203125 45.796875 21.1875 \r\nQ 45.796875 27.640625 41.28125 31.265625 \r\nQ 36.765625 34.90625 28.71875 34.90625 \r\nL 20.21875 34.90625 \r\nL 20.21875 43.015625 \r\nL 29.109375 43.015625 \r\nQ 36.375 43.015625 40.234375 45.921875 \r\nQ 44.09375 48.828125 44.09375 54.296875 \r\nQ 44.09375 59.90625 40.109375 62.90625 \r\nQ 36.140625 65.921875 28.71875 65.921875 \r\nQ 24.65625 65.921875 20.015625 65.03125 \r\nQ 15.375 64.15625 9.8125 62.3125 \r\nL 9.8125 71.09375 \r\nQ 15.4375 72.65625 20.34375 73.4375 \r\nQ 25.25 74.21875 29.59375 74.21875 \r\nQ 40.828125 74.21875 47.359375 69.109375 \r\nQ 53.90625 64.015625 53.90625 55.328125 \r\nQ 53.90625 49.265625 50.4375 45.09375 \r\nQ 46.96875 40.921875 40.578125 39.3125 \r\nz\r\n\" id=\"DejaVuSans-51\"/>\r\n      </defs>\r\n      <g transform=\"translate(211.184375 243.037656)scale(0.1 -0.1)\">\r\n       <use xlink:href=\"#DejaVuSans-51\"/>\r\n      </g>\r\n     </g>\r\n    </g>\r\n    <g id=\"xtick_4\">\r\n     <g id=\"line2d_4\">\r\n      <g>\r\n       <use style=\"stroke:#000000;stroke-width:0.8;\" x=\"290.456534\" xlink:href=\"#m0f7a6ff62d\" y=\"228.439219\"/>\r\n      </g>\r\n     </g>\r\n     <g id=\"text_4\">\r\n      <!-- 4 -->\r\n      <defs>\r\n       <path d=\"M 37.796875 64.3125 \r\nL 12.890625 25.390625 \r\nL 37.796875 25.390625 \r\nz\r\nM 35.203125 72.90625 \r\nL 47.609375 72.90625 \r\nL 47.609375 25.390625 \r\nL 58.015625 25.390625 \r\nL 58.015625 17.1875 \r\nL 47.609375 17.1875 \r\nL 47.609375 0 \r\nL 37.796875 0 \r\nL 37.796875 17.1875 \r\nL 4.890625 17.1875 \r\nL 4.890625 26.703125 \r\nz\r\n\" id=\"DejaVuSans-52\"/>\r\n      </defs>\r\n      <g transform=\"translate(287.275284 243.037656)scale(0.1 -0.1)\">\r\n       <use xlink:href=\"#DejaVuSans-52\"/>\r\n      </g>\r\n     </g>\r\n    </g>\r\n    <g id=\"xtick_5\">\r\n     <g id=\"line2d_5\">\r\n      <g>\r\n       <use style=\"stroke:#000000;stroke-width:0.8;\" x=\"366.547443\" xlink:href=\"#m0f7a6ff62d\" y=\"228.439219\"/>\r\n      </g>\r\n     </g>\r\n     <g id=\"text_5\">\r\n      <!-- 5 -->\r\n      <defs>\r\n       <path d=\"M 10.796875 72.90625 \r\nL 49.515625 72.90625 \r\nL 49.515625 64.59375 \r\nL 19.828125 64.59375 \r\nL 19.828125 46.734375 \r\nQ 21.96875 47.46875 24.109375 47.828125 \r\nQ 26.265625 48.1875 28.421875 48.1875 \r\nQ 40.625 48.1875 47.75 41.5 \r\nQ 54.890625 34.8125 54.890625 23.390625 \r\nQ 54.890625 11.625 47.5625 5.09375 \r\nQ 40.234375 -1.421875 26.90625 -1.421875 \r\nQ 22.3125 -1.421875 17.546875 -0.640625 \r\nQ 12.796875 0.140625 7.71875 1.703125 \r\nL 7.71875 11.625 \r\nQ 12.109375 9.234375 16.796875 8.0625 \r\nQ 21.484375 6.890625 26.703125 6.890625 \r\nQ 35.15625 6.890625 40.078125 11.328125 \r\nQ 45.015625 15.765625 45.015625 23.390625 \r\nQ 45.015625 31 40.078125 35.4375 \r\nQ 35.15625 39.890625 26.703125 39.890625 \r\nQ 22.75 39.890625 18.8125 39.015625 \r\nQ 14.890625 38.140625 10.796875 36.28125 \r\nz\r\n\" id=\"DejaVuSans-53\"/>\r\n      </defs>\r\n      <g transform=\"translate(363.366193 243.037656)scale(0.1 -0.1)\">\r\n       <use xlink:href=\"#DejaVuSans-53\"/>\r\n      </g>\r\n     </g>\r\n    </g>\r\n    <g id=\"text_6\">\r\n     <!-- Test # -->\r\n     <defs>\r\n      <path d=\"M -0.296875 72.90625 \r\nL 61.375 72.90625 \r\nL 61.375 64.59375 \r\nL 35.5 64.59375 \r\nL 35.5 0 \r\nL 25.59375 0 \r\nL 25.59375 64.59375 \r\nL -0.296875 64.59375 \r\nz\r\n\" id=\"DejaVuSans-84\"/>\r\n      <path d=\"M 56.203125 29.59375 \r\nL 56.203125 25.203125 \r\nL 14.890625 25.203125 \r\nQ 15.484375 15.921875 20.484375 11.0625 \r\nQ 25.484375 6.203125 34.421875 6.203125 \r\nQ 39.59375 6.203125 44.453125 7.46875 \r\nQ 49.3125 8.734375 54.109375 11.28125 \r\nL 54.109375 2.78125 \r\nQ 49.265625 0.734375 44.1875 -0.34375 \r\nQ 39.109375 -1.421875 33.890625 -1.421875 \r\nQ 20.796875 -1.421875 13.15625 6.1875 \r\nQ 5.515625 13.8125 5.515625 26.8125 \r\nQ 5.515625 40.234375 12.765625 48.109375 \r\nQ 20.015625 56 32.328125 56 \r\nQ 43.359375 56 49.78125 48.890625 \r\nQ 56.203125 41.796875 56.203125 29.59375 \r\nz\r\nM 47.21875 32.234375 \r\nQ 47.125 39.59375 43.09375 43.984375 \r\nQ 39.0625 48.390625 32.421875 48.390625 \r\nQ 24.90625 48.390625 20.390625 44.140625 \r\nQ 15.875 39.890625 15.1875 32.171875 \r\nz\r\n\" id=\"DejaVuSans-101\"/>\r\n      <path d=\"M 44.28125 53.078125 \r\nL 44.28125 44.578125 \r\nQ 40.484375 46.53125 36.375 47.5 \r\nQ 32.28125 48.484375 27.875 48.484375 \r\nQ 21.1875 48.484375 17.84375 46.4375 \r\nQ 14.5 44.390625 14.5 40.28125 \r\nQ 14.5 37.15625 16.890625 35.375 \r\nQ 19.28125 33.59375 26.515625 31.984375 \r\nL 29.59375 31.296875 \r\nQ 39.15625 29.25 43.1875 25.515625 \r\nQ 47.21875 21.78125 47.21875 15.09375 \r\nQ 47.21875 7.46875 41.1875 3.015625 \r\nQ 35.15625 -1.421875 24.609375 -1.421875 \r\nQ 20.21875 -1.421875 15.453125 -0.5625 \r\nQ 10.6875 0.296875 5.421875 2 \r\nL 5.421875 11.28125 \r\nQ 10.40625 8.6875 15.234375 7.390625 \r\nQ 20.0625 6.109375 24.8125 6.109375 \r\nQ 31.15625 6.109375 34.5625 8.28125 \r\nQ 37.984375 10.453125 37.984375 14.40625 \r\nQ 37.984375 18.0625 35.515625 20.015625 \r\nQ 33.0625 21.96875 24.703125 23.78125 \r\nL 21.578125 24.515625 \r\nQ 13.234375 26.265625 9.515625 29.90625 \r\nQ 5.8125 33.546875 5.8125 39.890625 \r\nQ 5.8125 47.609375 11.28125 51.796875 \r\nQ 16.75 56 26.8125 56 \r\nQ 31.78125 56 36.171875 55.265625 \r\nQ 40.578125 54.546875 44.28125 53.078125 \r\nz\r\n\" id=\"DejaVuSans-115\"/>\r\n      <path d=\"M 18.3125 70.21875 \r\nL 18.3125 54.6875 \r\nL 36.8125 54.6875 \r\nL 36.8125 47.703125 \r\nL 18.3125 47.703125 \r\nL 18.3125 18.015625 \r\nQ 18.3125 11.328125 20.140625 9.421875 \r\nQ 21.96875 7.515625 27.59375 7.515625 \r\nL 36.8125 7.515625 \r\nL 36.8125 0 \r\nL 27.59375 0 \r\nQ 17.1875 0 13.234375 3.875 \r\nQ 9.28125 7.765625 9.28125 18.015625 \r\nL 9.28125 47.703125 \r\nL 2.6875 47.703125 \r\nL 2.6875 54.6875 \r\nL 9.28125 54.6875 \r\nL 9.28125 70.21875 \r\nz\r\n\" id=\"DejaVuSans-116\"/>\r\n      <path id=\"DejaVuSans-32\"/>\r\n      <path d=\"M 51.125 44 \r\nL 36.921875 44 \r\nL 32.8125 27.6875 \r\nL 47.125 27.6875 \r\nz\r\nM 43.796875 71.78125 \r\nL 38.71875 51.515625 \r\nL 52.984375 51.515625 \r\nL 58.109375 71.78125 \r\nL 65.921875 71.78125 \r\nL 60.890625 51.515625 \r\nL 76.125 51.515625 \r\nL 76.125 44 \r\nL 58.984375 44 \r\nL 54.984375 27.6875 \r\nL 70.515625 27.6875 \r\nL 70.515625 20.21875 \r\nL 53.078125 20.21875 \r\nL 48 0 \r\nL 40.1875 0 \r\nL 45.21875 20.21875 \r\nL 30.90625 20.21875 \r\nL 25.875 0 \r\nL 18.015625 0 \r\nL 23.09375 20.21875 \r\nL 7.71875 20.21875 \r\nL 7.71875 27.6875 \r\nL 24.90625 27.6875 \r\nL 29 44 \r\nL 13.28125 44 \r\nL 13.28125 51.515625 \r\nL 30.90625 51.515625 \r\nL 35.890625 71.78125 \r\nz\r\n\" id=\"DejaVuSans-35\"/>\r\n     </defs>\r\n     <g transform=\"translate(198.741406 256.715781)scale(0.1 -0.1)\">\r\n      <use xlink:href=\"#DejaVuSans-84\"/>\r\n      <use x=\"44.083984\" xlink:href=\"#DejaVuSans-101\"/>\r\n      <use x=\"105.607422\" xlink:href=\"#DejaVuSans-115\"/>\r\n      <use x=\"157.707031\" xlink:href=\"#DejaVuSans-116\"/>\r\n      <use x=\"196.916016\" xlink:href=\"#DejaVuSans-32\"/>\r\n      <use x=\"228.703125\" xlink:href=\"#DejaVuSans-35\"/>\r\n     </g>\r\n    </g>\r\n   </g>\r\n   <g id=\"matplotlib.axis_2\">\r\n    <g id=\"ytick_1\">\r\n     <g id=\"line2d_6\">\r\n      <defs>\r\n       <path d=\"M 0 0 \r\nL -3.5 0 \r\n\" id=\"m618fad446d\" style=\"stroke:#000000;stroke-width:0.8;\"/>\r\n      </defs>\r\n      <g>\r\n       <use style=\"stroke:#000000;stroke-width:0.8;\" x=\"46.965625\" xlink:href=\"#m618fad446d\" y=\"228.439219\"/>\r\n      </g>\r\n     </g>\r\n     <g id=\"text_7\">\r\n      <!-- 50 -->\r\n      <defs>\r\n       <path d=\"M 31.78125 66.40625 \r\nQ 24.171875 66.40625 20.328125 58.90625 \r\nQ 16.5 51.421875 16.5 36.375 \r\nQ 16.5 21.390625 20.328125 13.890625 \r\nQ 24.171875 6.390625 31.78125 6.390625 \r\nQ 39.453125 6.390625 43.28125 13.890625 \r\nQ 47.125 21.390625 47.125 36.375 \r\nQ 47.125 51.421875 43.28125 58.90625 \r\nQ 39.453125 66.40625 31.78125 66.40625 \r\nz\r\nM 31.78125 74.21875 \r\nQ 44.046875 74.21875 50.515625 64.515625 \r\nQ 56.984375 54.828125 56.984375 36.375 \r\nQ 56.984375 17.96875 50.515625 8.265625 \r\nQ 44.046875 -1.421875 31.78125 -1.421875 \r\nQ 19.53125 -1.421875 13.0625 8.265625 \r\nQ 6.59375 17.96875 6.59375 36.375 \r\nQ 6.59375 54.828125 13.0625 64.515625 \r\nQ 19.53125 74.21875 31.78125 74.21875 \r\nz\r\n\" id=\"DejaVuSans-48\"/>\r\n      </defs>\r\n      <g transform=\"translate(27.240625 232.238437)scale(0.1 -0.1)\">\r\n       <use xlink:href=\"#DejaVuSans-53\"/>\r\n       <use x=\"63.623047\" xlink:href=\"#DejaVuSans-48\"/>\r\n      </g>\r\n     </g>\r\n    </g>\r\n    <g id=\"ytick_2\">\r\n     <g id=\"line2d_7\">\r\n      <g>\r\n       <use style=\"stroke:#000000;stroke-width:0.8;\" x=\"46.965625\" xlink:href=\"#m618fad446d\" y=\"184.951219\"/>\r\n      </g>\r\n     </g>\r\n     <g id=\"text_8\">\r\n      <!-- 60 -->\r\n      <defs>\r\n       <path d=\"M 33.015625 40.375 \r\nQ 26.375 40.375 22.484375 35.828125 \r\nQ 18.609375 31.296875 18.609375 23.390625 \r\nQ 18.609375 15.53125 22.484375 10.953125 \r\nQ 26.375 6.390625 33.015625 6.390625 \r\nQ 39.65625 6.390625 43.53125 10.953125 \r\nQ 47.40625 15.53125 47.40625 23.390625 \r\nQ 47.40625 31.296875 43.53125 35.828125 \r\nQ 39.65625 40.375 33.015625 40.375 \r\nz\r\nM 52.59375 71.296875 \r\nL 52.59375 62.3125 \r\nQ 48.875 64.0625 45.09375 64.984375 \r\nQ 41.3125 65.921875 37.59375 65.921875 \r\nQ 27.828125 65.921875 22.671875 59.328125 \r\nQ 17.53125 52.734375 16.796875 39.40625 \r\nQ 19.671875 43.65625 24.015625 45.921875 \r\nQ 28.375 48.1875 33.59375 48.1875 \r\nQ 44.578125 48.1875 50.953125 41.515625 \r\nQ 57.328125 34.859375 57.328125 23.390625 \r\nQ 57.328125 12.15625 50.6875 5.359375 \r\nQ 44.046875 -1.421875 33.015625 -1.421875 \r\nQ 20.359375 -1.421875 13.671875 8.265625 \r\nQ 6.984375 17.96875 6.984375 36.375 \r\nQ 6.984375 53.65625 15.1875 63.9375 \r\nQ 23.390625 74.21875 37.203125 74.21875 \r\nQ 40.921875 74.21875 44.703125 73.484375 \r\nQ 48.484375 72.75 52.59375 71.296875 \r\nz\r\n\" id=\"DejaVuSans-54\"/>\r\n      </defs>\r\n      <g transform=\"translate(27.240625 188.750437)scale(0.1 -0.1)\">\r\n       <use xlink:href=\"#DejaVuSans-54\"/>\r\n       <use x=\"63.623047\" xlink:href=\"#DejaVuSans-48\"/>\r\n      </g>\r\n     </g>\r\n    </g>\r\n    <g id=\"ytick_3\">\r\n     <g id=\"line2d_8\">\r\n      <g>\r\n       <use style=\"stroke:#000000;stroke-width:0.8;\" x=\"46.965625\" xlink:href=\"#m618fad446d\" y=\"141.463219\"/>\r\n      </g>\r\n     </g>\r\n     <g id=\"text_9\">\r\n      <!-- 70 -->\r\n      <defs>\r\n       <path d=\"M 8.203125 72.90625 \r\nL 55.078125 72.90625 \r\nL 55.078125 68.703125 \r\nL 28.609375 0 \r\nL 18.3125 0 \r\nL 43.21875 64.59375 \r\nL 8.203125 64.59375 \r\nz\r\n\" id=\"DejaVuSans-55\"/>\r\n      </defs>\r\n      <g transform=\"translate(27.240625 145.262437)scale(0.1 -0.1)\">\r\n       <use xlink:href=\"#DejaVuSans-55\"/>\r\n       <use x=\"63.623047\" xlink:href=\"#DejaVuSans-48\"/>\r\n      </g>\r\n     </g>\r\n    </g>\r\n    <g id=\"ytick_4\">\r\n     <g id=\"line2d_9\">\r\n      <g>\r\n       <use style=\"stroke:#000000;stroke-width:0.8;\" x=\"46.965625\" xlink:href=\"#m618fad446d\" y=\"97.975219\"/>\r\n      </g>\r\n     </g>\r\n     <g id=\"text_10\">\r\n      <!-- 80 -->\r\n      <defs>\r\n       <path d=\"M 31.78125 34.625 \r\nQ 24.75 34.625 20.71875 30.859375 \r\nQ 16.703125 27.09375 16.703125 20.515625 \r\nQ 16.703125 13.921875 20.71875 10.15625 \r\nQ 24.75 6.390625 31.78125 6.390625 \r\nQ 38.8125 6.390625 42.859375 10.171875 \r\nQ 46.921875 13.96875 46.921875 20.515625 \r\nQ 46.921875 27.09375 42.890625 30.859375 \r\nQ 38.875 34.625 31.78125 34.625 \r\nz\r\nM 21.921875 38.8125 \r\nQ 15.578125 40.375 12.03125 44.71875 \r\nQ 8.5 49.078125 8.5 55.328125 \r\nQ 8.5 64.0625 14.71875 69.140625 \r\nQ 20.953125 74.21875 31.78125 74.21875 \r\nQ 42.671875 74.21875 48.875 69.140625 \r\nQ 55.078125 64.0625 55.078125 55.328125 \r\nQ 55.078125 49.078125 51.53125 44.71875 \r\nQ 48 40.375 41.703125 38.8125 \r\nQ 48.828125 37.15625 52.796875 32.3125 \r\nQ 56.78125 27.484375 56.78125 20.515625 \r\nQ 56.78125 9.90625 50.3125 4.234375 \r\nQ 43.84375 -1.421875 31.78125 -1.421875 \r\nQ 19.734375 -1.421875 13.25 4.234375 \r\nQ 6.78125 9.90625 6.78125 20.515625 \r\nQ 6.78125 27.484375 10.78125 32.3125 \r\nQ 14.796875 37.15625 21.921875 38.8125 \r\nz\r\nM 18.3125 54.390625 \r\nQ 18.3125 48.734375 21.84375 45.5625 \r\nQ 25.390625 42.390625 31.78125 42.390625 \r\nQ 38.140625 42.390625 41.71875 45.5625 \r\nQ 45.3125 48.734375 45.3125 54.390625 \r\nQ 45.3125 60.0625 41.71875 63.234375 \r\nQ 38.140625 66.40625 31.78125 66.40625 \r\nQ 25.390625 66.40625 21.84375 63.234375 \r\nQ 18.3125 60.0625 18.3125 54.390625 \r\nz\r\n\" id=\"DejaVuSans-56\"/>\r\n      </defs>\r\n      <g transform=\"translate(27.240625 101.774437)scale(0.1 -0.1)\">\r\n       <use xlink:href=\"#DejaVuSans-56\"/>\r\n       <use x=\"63.623047\" xlink:href=\"#DejaVuSans-48\"/>\r\n      </g>\r\n     </g>\r\n    </g>\r\n    <g id=\"ytick_5\">\r\n     <g id=\"line2d_10\">\r\n      <g>\r\n       <use style=\"stroke:#000000;stroke-width:0.8;\" x=\"46.965625\" xlink:href=\"#m618fad446d\" y=\"54.487219\"/>\r\n      </g>\r\n     </g>\r\n     <g id=\"text_11\">\r\n      <!-- 90 -->\r\n      <defs>\r\n       <path d=\"M 10.984375 1.515625 \r\nL 10.984375 10.5 \r\nQ 14.703125 8.734375 18.5 7.8125 \r\nQ 22.3125 6.890625 25.984375 6.890625 \r\nQ 35.75 6.890625 40.890625 13.453125 \r\nQ 46.046875 20.015625 46.78125 33.40625 \r\nQ 43.953125 29.203125 39.59375 26.953125 \r\nQ 35.25 24.703125 29.984375 24.703125 \r\nQ 19.046875 24.703125 12.671875 31.3125 \r\nQ 6.296875 37.9375 6.296875 49.421875 \r\nQ 6.296875 60.640625 12.9375 67.421875 \r\nQ 19.578125 74.21875 30.609375 74.21875 \r\nQ 43.265625 74.21875 49.921875 64.515625 \r\nQ 56.59375 54.828125 56.59375 36.375 \r\nQ 56.59375 19.140625 48.40625 8.859375 \r\nQ 40.234375 -1.421875 26.421875 -1.421875 \r\nQ 22.703125 -1.421875 18.890625 -0.6875 \r\nQ 15.09375 0.046875 10.984375 1.515625 \r\nz\r\nM 30.609375 32.421875 \r\nQ 37.25 32.421875 41.125 36.953125 \r\nQ 45.015625 41.5 45.015625 49.421875 \r\nQ 45.015625 57.28125 41.125 61.84375 \r\nQ 37.25 66.40625 30.609375 66.40625 \r\nQ 23.96875 66.40625 20.09375 61.84375 \r\nQ 16.21875 57.28125 16.21875 49.421875 \r\nQ 16.21875 41.5 20.09375 36.953125 \r\nQ 23.96875 32.421875 30.609375 32.421875 \r\nz\r\n\" id=\"DejaVuSans-57\"/>\r\n      </defs>\r\n      <g transform=\"translate(27.240625 58.286437)scale(0.1 -0.1)\">\r\n       <use xlink:href=\"#DejaVuSans-57\"/>\r\n       <use x=\"63.623047\" xlink:href=\"#DejaVuSans-48\"/>\r\n      </g>\r\n     </g>\r\n    </g>\r\n    <g id=\"ytick_6\">\r\n     <g id=\"line2d_11\">\r\n      <g>\r\n       <use style=\"stroke:#000000;stroke-width:0.8;\" x=\"46.965625\" xlink:href=\"#m618fad446d\" y=\"10.999219\"/>\r\n      </g>\r\n     </g>\r\n     <g id=\"text_12\">\r\n      <!-- 100 -->\r\n      <g transform=\"translate(20.878125 14.798437)scale(0.1 -0.1)\">\r\n       <use xlink:href=\"#DejaVuSans-49\"/>\r\n       <use x=\"63.623047\" xlink:href=\"#DejaVuSans-48\"/>\r\n       <use x=\"127.246094\" xlink:href=\"#DejaVuSans-48\"/>\r\n      </g>\r\n     </g>\r\n    </g>\r\n    <g id=\"text_13\">\r\n     <!-- Classification Accuracy -->\r\n     <defs>\r\n      <path d=\"M 64.40625 67.28125 \r\nL 64.40625 56.890625 \r\nQ 59.421875 61.53125 53.78125 63.8125 \r\nQ 48.140625 66.109375 41.796875 66.109375 \r\nQ 29.296875 66.109375 22.65625 58.46875 \r\nQ 16.015625 50.828125 16.015625 36.375 \r\nQ 16.015625 21.96875 22.65625 14.328125 \r\nQ 29.296875 6.6875 41.796875 6.6875 \r\nQ 48.140625 6.6875 53.78125 8.984375 \r\nQ 59.421875 11.28125 64.40625 15.921875 \r\nL 64.40625 5.609375 \r\nQ 59.234375 2.09375 53.4375 0.328125 \r\nQ 47.65625 -1.421875 41.21875 -1.421875 \r\nQ 24.65625 -1.421875 15.125 8.703125 \r\nQ 5.609375 18.84375 5.609375 36.375 \r\nQ 5.609375 53.953125 15.125 64.078125 \r\nQ 24.65625 74.21875 41.21875 74.21875 \r\nQ 47.75 74.21875 53.53125 72.484375 \r\nQ 59.328125 70.75 64.40625 67.28125 \r\nz\r\n\" id=\"DejaVuSans-67\"/>\r\n      <path d=\"M 9.421875 75.984375 \r\nL 18.40625 75.984375 \r\nL 18.40625 0 \r\nL 9.421875 0 \r\nz\r\n\" id=\"DejaVuSans-108\"/>\r\n      <path d=\"M 34.28125 27.484375 \r\nQ 23.390625 27.484375 19.1875 25 \r\nQ 14.984375 22.515625 14.984375 16.5 \r\nQ 14.984375 11.71875 18.140625 8.90625 \r\nQ 21.296875 6.109375 26.703125 6.109375 \r\nQ 34.1875 6.109375 38.703125 11.40625 \r\nQ 43.21875 16.703125 43.21875 25.484375 \r\nL 43.21875 27.484375 \r\nz\r\nM 52.203125 31.203125 \r\nL 52.203125 0 \r\nL 43.21875 0 \r\nL 43.21875 8.296875 \r\nQ 40.140625 3.328125 35.546875 0.953125 \r\nQ 30.953125 -1.421875 24.3125 -1.421875 \r\nQ 15.921875 -1.421875 10.953125 3.296875 \r\nQ 6 8.015625 6 15.921875 \r\nQ 6 25.140625 12.171875 29.828125 \r\nQ 18.359375 34.515625 30.609375 34.515625 \r\nL 43.21875 34.515625 \r\nL 43.21875 35.40625 \r\nQ 43.21875 41.609375 39.140625 45 \r\nQ 35.0625 48.390625 27.6875 48.390625 \r\nQ 23 48.390625 18.546875 47.265625 \r\nQ 14.109375 46.140625 10.015625 43.890625 \r\nL 10.015625 52.203125 \r\nQ 14.9375 54.109375 19.578125 55.046875 \r\nQ 24.21875 56 28.609375 56 \r\nQ 40.484375 56 46.34375 49.84375 \r\nQ 52.203125 43.703125 52.203125 31.203125 \r\nz\r\n\" id=\"DejaVuSans-97\"/>\r\n      <path d=\"M 9.421875 54.6875 \r\nL 18.40625 54.6875 \r\nL 18.40625 0 \r\nL 9.421875 0 \r\nz\r\nM 9.421875 75.984375 \r\nL 18.40625 75.984375 \r\nL 18.40625 64.59375 \r\nL 9.421875 64.59375 \r\nz\r\n\" id=\"DejaVuSans-105\"/>\r\n      <path d=\"M 37.109375 75.984375 \r\nL 37.109375 68.5 \r\nL 28.515625 68.5 \r\nQ 23.6875 68.5 21.796875 66.546875 \r\nQ 19.921875 64.59375 19.921875 59.515625 \r\nL 19.921875 54.6875 \r\nL 34.71875 54.6875 \r\nL 34.71875 47.703125 \r\nL 19.921875 47.703125 \r\nL 19.921875 0 \r\nL 10.890625 0 \r\nL 10.890625 47.703125 \r\nL 2.296875 47.703125 \r\nL 2.296875 54.6875 \r\nL 10.890625 54.6875 \r\nL 10.890625 58.5 \r\nQ 10.890625 67.625 15.140625 71.796875 \r\nQ 19.390625 75.984375 28.609375 75.984375 \r\nz\r\n\" id=\"DejaVuSans-102\"/>\r\n      <path d=\"M 48.78125 52.59375 \r\nL 48.78125 44.1875 \r\nQ 44.96875 46.296875 41.140625 47.34375 \r\nQ 37.3125 48.390625 33.40625 48.390625 \r\nQ 24.65625 48.390625 19.8125 42.84375 \r\nQ 14.984375 37.3125 14.984375 27.296875 \r\nQ 14.984375 17.28125 19.8125 11.734375 \r\nQ 24.65625 6.203125 33.40625 6.203125 \r\nQ 37.3125 6.203125 41.140625 7.25 \r\nQ 44.96875 8.296875 48.78125 10.40625 \r\nL 48.78125 2.09375 \r\nQ 45.015625 0.34375 40.984375 -0.53125 \r\nQ 36.96875 -1.421875 32.421875 -1.421875 \r\nQ 20.0625 -1.421875 12.78125 6.34375 \r\nQ 5.515625 14.109375 5.515625 27.296875 \r\nQ 5.515625 40.671875 12.859375 48.328125 \r\nQ 20.21875 56 33.015625 56 \r\nQ 37.15625 56 41.109375 55.140625 \r\nQ 45.0625 54.296875 48.78125 52.59375 \r\nz\r\n\" id=\"DejaVuSans-99\"/>\r\n      <path d=\"M 30.609375 48.390625 \r\nQ 23.390625 48.390625 19.1875 42.75 \r\nQ 14.984375 37.109375 14.984375 27.296875 \r\nQ 14.984375 17.484375 19.15625 11.84375 \r\nQ 23.34375 6.203125 30.609375 6.203125 \r\nQ 37.796875 6.203125 41.984375 11.859375 \r\nQ 46.1875 17.53125 46.1875 27.296875 \r\nQ 46.1875 37.015625 41.984375 42.703125 \r\nQ 37.796875 48.390625 30.609375 48.390625 \r\nz\r\nM 30.609375 56 \r\nQ 42.328125 56 49.015625 48.375 \r\nQ 55.71875 40.765625 55.71875 27.296875 \r\nQ 55.71875 13.875 49.015625 6.21875 \r\nQ 42.328125 -1.421875 30.609375 -1.421875 \r\nQ 18.84375 -1.421875 12.171875 6.21875 \r\nQ 5.515625 13.875 5.515625 27.296875 \r\nQ 5.515625 40.765625 12.171875 48.375 \r\nQ 18.84375 56 30.609375 56 \r\nz\r\n\" id=\"DejaVuSans-111\"/>\r\n      <path d=\"M 54.890625 33.015625 \r\nL 54.890625 0 \r\nL 45.90625 0 \r\nL 45.90625 32.71875 \r\nQ 45.90625 40.484375 42.875 44.328125 \r\nQ 39.84375 48.1875 33.796875 48.1875 \r\nQ 26.515625 48.1875 22.3125 43.546875 \r\nQ 18.109375 38.921875 18.109375 30.90625 \r\nL 18.109375 0 \r\nL 9.078125 0 \r\nL 9.078125 54.6875 \r\nL 18.109375 54.6875 \r\nL 18.109375 46.1875 \r\nQ 21.34375 51.125 25.703125 53.5625 \r\nQ 30.078125 56 35.796875 56 \r\nQ 45.21875 56 50.046875 50.171875 \r\nQ 54.890625 44.34375 54.890625 33.015625 \r\nz\r\n\" id=\"DejaVuSans-110\"/>\r\n      <path d=\"M 34.1875 63.1875 \r\nL 20.796875 26.90625 \r\nL 47.609375 26.90625 \r\nz\r\nM 28.609375 72.90625 \r\nL 39.796875 72.90625 \r\nL 67.578125 0 \r\nL 57.328125 0 \r\nL 50.6875 18.703125 \r\nL 17.828125 18.703125 \r\nL 11.1875 0 \r\nL 0.78125 0 \r\nz\r\n\" id=\"DejaVuSans-65\"/>\r\n      <path d=\"M 8.5 21.578125 \r\nL 8.5 54.6875 \r\nL 17.484375 54.6875 \r\nL 17.484375 21.921875 \r\nQ 17.484375 14.15625 20.5 10.265625 \r\nQ 23.53125 6.390625 29.59375 6.390625 \r\nQ 36.859375 6.390625 41.078125 11.03125 \r\nQ 45.3125 15.671875 45.3125 23.6875 \r\nL 45.3125 54.6875 \r\nL 54.296875 54.6875 \r\nL 54.296875 0 \r\nL 45.3125 0 \r\nL 45.3125 8.40625 \r\nQ 42.046875 3.421875 37.71875 1 \r\nQ 33.40625 -1.421875 27.6875 -1.421875 \r\nQ 18.265625 -1.421875 13.375 4.4375 \r\nQ 8.5 10.296875 8.5 21.578125 \r\nz\r\nM 31.109375 56 \r\nz\r\n\" id=\"DejaVuSans-117\"/>\r\n      <path d=\"M 41.109375 46.296875 \r\nQ 39.59375 47.171875 37.8125 47.578125 \r\nQ 36.03125 48 33.890625 48 \r\nQ 26.265625 48 22.1875 43.046875 \r\nQ 18.109375 38.09375 18.109375 28.8125 \r\nL 18.109375 0 \r\nL 9.078125 0 \r\nL 9.078125 54.6875 \r\nL 18.109375 54.6875 \r\nL 18.109375 46.1875 \r\nQ 20.953125 51.171875 25.484375 53.578125 \r\nQ 30.03125 56 36.53125 56 \r\nQ 37.453125 56 38.578125 55.875 \r\nQ 39.703125 55.765625 41.0625 55.515625 \r\nz\r\n\" id=\"DejaVuSans-114\"/>\r\n      <path d=\"M 32.171875 -5.078125 \r\nQ 28.375 -14.84375 24.75 -17.8125 \r\nQ 21.140625 -20.796875 15.09375 -20.796875 \r\nL 7.90625 -20.796875 \r\nL 7.90625 -13.28125 \r\nL 13.1875 -13.28125 \r\nQ 16.890625 -13.28125 18.9375 -11.515625 \r\nQ 21 -9.765625 23.484375 -3.21875 \r\nL 25.09375 0.875 \r\nL 2.984375 54.6875 \r\nL 12.5 54.6875 \r\nL 29.59375 11.921875 \r\nL 46.6875 54.6875 \r\nL 56.203125 54.6875 \r\nz\r\n\" id=\"DejaVuSans-121\"/>\r\n     </defs>\r\n     <g transform=\"translate(14.798438 177.219219)rotate(-90)scale(0.1 -0.1)\">\r\n      <use xlink:href=\"#DejaVuSans-67\"/>\r\n      <use x=\"69.824219\" xlink:href=\"#DejaVuSans-108\"/>\r\n      <use x=\"97.607422\" xlink:href=\"#DejaVuSans-97\"/>\r\n      <use x=\"158.886719\" xlink:href=\"#DejaVuSans-115\"/>\r\n      <use x=\"210.986328\" xlink:href=\"#DejaVuSans-115\"/>\r\n      <use x=\"263.085938\" xlink:href=\"#DejaVuSans-105\"/>\r\n      <use x=\"290.869141\" xlink:href=\"#DejaVuSans-102\"/>\r\n      <use x=\"326.074219\" xlink:href=\"#DejaVuSans-105\"/>\r\n      <use x=\"353.857422\" xlink:href=\"#DejaVuSans-99\"/>\r\n      <use x=\"408.837891\" xlink:href=\"#DejaVuSans-97\"/>\r\n      <use x=\"470.117188\" xlink:href=\"#DejaVuSans-116\"/>\r\n      <use x=\"509.326172\" xlink:href=\"#DejaVuSans-105\"/>\r\n      <use x=\"537.109375\" xlink:href=\"#DejaVuSans-111\"/>\r\n      <use x=\"598.291016\" xlink:href=\"#DejaVuSans-110\"/>\r\n      <use x=\"661.669922\" xlink:href=\"#DejaVuSans-32\"/>\r\n      <use x=\"693.457031\" xlink:href=\"#DejaVuSans-65\"/>\r\n      <use x=\"760.115234\" xlink:href=\"#DejaVuSans-99\"/>\r\n      <use x=\"815.095703\" xlink:href=\"#DejaVuSans-99\"/>\r\n      <use x=\"870.076172\" xlink:href=\"#DejaVuSans-117\"/>\r\n      <use x=\"933.455078\" xlink:href=\"#DejaVuSans-114\"/>\r\n      <use x=\"974.568359\" xlink:href=\"#DejaVuSans-97\"/>\r\n      <use x=\"1035.847656\" xlink:href=\"#DejaVuSans-99\"/>\r\n      <use x=\"1090.828125\" xlink:href=\"#DejaVuSans-121\"/>\r\n     </g>\r\n    </g>\r\n   </g>\r\n   <g id=\"line2d_12\">\r\n    <path clip-path=\"url(#p3816e4a752)\" d=\"M 62.183807 28.053336 \r\nL 138.274716 28.053336 \r\nL 214.365625 36.580395 \r\nL 290.456534 45.107454 \r\nL 366.547443 96.269807 \r\n\" style=\"fill:none;stroke:#1f77b4;stroke-linecap:square;stroke-width:1.5;\"/>\r\n   </g>\r\n   <g id=\"line2d_13\">\r\n    <path clip-path=\"url(#p3816e4a752)\" d=\"M 62.183807 36.580395 \r\nL 138.274716 53.634513 \r\nL 214.365625 36.580395 \r\nL 290.456534 36.580395 \r\nL 366.547443 113.323925 \r\n\" style=\"fill:none;stroke:#ff7f0e;stroke-linecap:square;stroke-width:1.5;\"/>\r\n   </g>\r\n   <g id=\"line2d_14\">\r\n    <path clip-path=\"url(#p3816e4a752)\" d=\"M 62.183807 79.215689 \r\nL 138.274716 70.688631 \r\nL 214.365625 79.215689 \r\nL 290.456534 96.269807 \r\nL 366.547443 104.796866 \r\n\" style=\"fill:none;stroke:#2ca02c;stroke-linecap:square;stroke-width:1.5;\"/>\r\n   </g>\r\n   <g id=\"patch_3\">\r\n    <path d=\"M 46.965625 228.439219 \r\nL 46.965625 10.999219 \r\n\" style=\"fill:none;stroke:#000000;stroke-linecap:square;stroke-linejoin:miter;stroke-width:0.8;\"/>\r\n   </g>\r\n   <g id=\"patch_4\">\r\n    <path d=\"M 381.765625 228.439219 \r\nL 381.765625 10.999219 \r\n\" style=\"fill:none;stroke:#000000;stroke-linecap:square;stroke-linejoin:miter;stroke-width:0.8;\"/>\r\n   </g>\r\n   <g id=\"patch_5\">\r\n    <path d=\"M 46.965625 228.439219 \r\nL 381.765625 228.439219 \r\n\" style=\"fill:none;stroke:#000000;stroke-linecap:square;stroke-linejoin:miter;stroke-width:0.8;\"/>\r\n   </g>\r\n   <g id=\"patch_6\">\r\n    <path d=\"M 46.965625 10.999219 \r\nL 381.765625 10.999219 \r\n\" style=\"fill:none;stroke:#000000;stroke-linecap:square;stroke-linejoin:miter;stroke-width:0.8;\"/>\r\n   </g>\r\n   <g id=\"legend_1\">\r\n    <g id=\"patch_7\">\r\n     <path d=\"M 53.965625 223.439219 \r\nL 190.2875 223.439219 \r\nQ 192.2875 223.439219 192.2875 221.439219 \r\nL 192.2875 178.404844 \r\nQ 192.2875 176.404844 190.2875 176.404844 \r\nL 53.965625 176.404844 \r\nQ 51.965625 176.404844 51.965625 178.404844 \r\nL 51.965625 221.439219 \r\nQ 51.965625 223.439219 53.965625 223.439219 \r\nz\r\n\" style=\"fill:#ffffff;opacity:0.8;stroke:#cccccc;stroke-linejoin:miter;\"/>\r\n    </g>\r\n    <g id=\"line2d_15\">\r\n     <path d=\"M 55.965625 184.503281 \r\nL 75.965625 184.503281 \r\n\" style=\"fill:none;stroke:#1f77b4;stroke-linecap:square;stroke-width:1.5;\"/>\r\n    </g>\r\n    <g id=\"line2d_16\"/>\r\n    <g id=\"text_14\">\r\n     <!-- No Normalisation -->\r\n     <defs>\r\n      <path d=\"M 9.8125 72.90625 \r\nL 23.09375 72.90625 \r\nL 55.421875 11.921875 \r\nL 55.421875 72.90625 \r\nL 64.984375 72.90625 \r\nL 64.984375 0 \r\nL 51.703125 0 \r\nL 19.390625 60.984375 \r\nL 19.390625 0 \r\nL 9.8125 0 \r\nz\r\n\" id=\"DejaVuSans-78\"/>\r\n      <path d=\"M 52 44.1875 \r\nQ 55.375 50.25 60.0625 53.125 \r\nQ 64.75 56 71.09375 56 \r\nQ 79.640625 56 84.28125 50.015625 \r\nQ 88.921875 44.046875 88.921875 33.015625 \r\nL 88.921875 0 \r\nL 79.890625 0 \r\nL 79.890625 32.71875 \r\nQ 79.890625 40.578125 77.09375 44.375 \r\nQ 74.3125 48.1875 68.609375 48.1875 \r\nQ 61.625 48.1875 57.5625 43.546875 \r\nQ 53.515625 38.921875 53.515625 30.90625 \r\nL 53.515625 0 \r\nL 44.484375 0 \r\nL 44.484375 32.71875 \r\nQ 44.484375 40.625 41.703125 44.40625 \r\nQ 38.921875 48.1875 33.109375 48.1875 \r\nQ 26.21875 48.1875 22.15625 43.53125 \r\nQ 18.109375 38.875 18.109375 30.90625 \r\nL 18.109375 0 \r\nL 9.078125 0 \r\nL 9.078125 54.6875 \r\nL 18.109375 54.6875 \r\nL 18.109375 46.1875 \r\nQ 21.1875 51.21875 25.484375 53.609375 \r\nQ 29.78125 56 35.6875 56 \r\nQ 41.65625 56 45.828125 52.96875 \r\nQ 50 49.953125 52 44.1875 \r\nz\r\n\" id=\"DejaVuSans-109\"/>\r\n     </defs>\r\n     <g transform=\"translate(83.965625 188.003281)scale(0.1 -0.1)\">\r\n      <use xlink:href=\"#DejaVuSans-78\"/>\r\n      <use x=\"74.804688\" xlink:href=\"#DejaVuSans-111\"/>\r\n      <use x=\"135.986328\" xlink:href=\"#DejaVuSans-32\"/>\r\n      <use x=\"167.773438\" xlink:href=\"#DejaVuSans-78\"/>\r\n      <use x=\"242.578125\" xlink:href=\"#DejaVuSans-111\"/>\r\n      <use x=\"303.759766\" xlink:href=\"#DejaVuSans-114\"/>\r\n      <use x=\"343.123047\" xlink:href=\"#DejaVuSans-109\"/>\r\n      <use x=\"440.535156\" xlink:href=\"#DejaVuSans-97\"/>\r\n      <use x=\"501.814453\" xlink:href=\"#DejaVuSans-108\"/>\r\n      <use x=\"529.597656\" xlink:href=\"#DejaVuSans-105\"/>\r\n      <use x=\"557.380859\" xlink:href=\"#DejaVuSans-115\"/>\r\n      <use x=\"609.480469\" xlink:href=\"#DejaVuSans-97\"/>\r\n      <use x=\"670.759766\" xlink:href=\"#DejaVuSans-116\"/>\r\n      <use x=\"709.96875\" xlink:href=\"#DejaVuSans-105\"/>\r\n      <use x=\"737.751953\" xlink:href=\"#DejaVuSans-111\"/>\r\n      <use x=\"798.933594\" xlink:href=\"#DejaVuSans-110\"/>\r\n     </g>\r\n    </g>\r\n    <g id=\"line2d_17\">\r\n     <path d=\"M 55.965625 199.181406 \r\nL 75.965625 199.181406 \r\n\" style=\"fill:none;stroke:#ff7f0e;stroke-linecap:square;stroke-width:1.5;\"/>\r\n    </g>\r\n    <g id=\"line2d_18\"/>\r\n    <g id=\"text_15\">\r\n     <!-- Range Normalisation -->\r\n     <defs>\r\n      <path d=\"M 44.390625 34.1875 \r\nQ 47.5625 33.109375 50.5625 29.59375 \r\nQ 53.5625 26.078125 56.59375 19.921875 \r\nL 66.609375 0 \r\nL 56 0 \r\nL 46.6875 18.703125 \r\nQ 43.0625 26.03125 39.671875 28.421875 \r\nQ 36.28125 30.8125 30.421875 30.8125 \r\nL 19.671875 30.8125 \r\nL 19.671875 0 \r\nL 9.8125 0 \r\nL 9.8125 72.90625 \r\nL 32.078125 72.90625 \r\nQ 44.578125 72.90625 50.734375 67.671875 \r\nQ 56.890625 62.453125 56.890625 51.90625 \r\nQ 56.890625 45.015625 53.6875 40.46875 \r\nQ 50.484375 35.9375 44.390625 34.1875 \r\nz\r\nM 19.671875 64.796875 \r\nL 19.671875 38.921875 \r\nL 32.078125 38.921875 \r\nQ 39.203125 38.921875 42.84375 42.21875 \r\nQ 46.484375 45.515625 46.484375 51.90625 \r\nQ 46.484375 58.296875 42.84375 61.546875 \r\nQ 39.203125 64.796875 32.078125 64.796875 \r\nz\r\n\" id=\"DejaVuSans-82\"/>\r\n      <path d=\"M 45.40625 27.984375 \r\nQ 45.40625 37.75 41.375 43.109375 \r\nQ 37.359375 48.484375 30.078125 48.484375 \r\nQ 22.859375 48.484375 18.828125 43.109375 \r\nQ 14.796875 37.75 14.796875 27.984375 \r\nQ 14.796875 18.265625 18.828125 12.890625 \r\nQ 22.859375 7.515625 30.078125 7.515625 \r\nQ 37.359375 7.515625 41.375 12.890625 \r\nQ 45.40625 18.265625 45.40625 27.984375 \r\nz\r\nM 54.390625 6.78125 \r\nQ 54.390625 -7.171875 48.1875 -13.984375 \r\nQ 42 -20.796875 29.203125 -20.796875 \r\nQ 24.46875 -20.796875 20.265625 -20.09375 \r\nQ 16.0625 -19.390625 12.109375 -17.921875 \r\nL 12.109375 -9.1875 \r\nQ 16.0625 -11.328125 19.921875 -12.34375 \r\nQ 23.78125 -13.375 27.78125 -13.375 \r\nQ 36.625 -13.375 41.015625 -8.765625 \r\nQ 45.40625 -4.15625 45.40625 5.171875 \r\nL 45.40625 9.625 \r\nQ 42.625 4.78125 38.28125 2.390625 \r\nQ 33.9375 0 27.875 0 \r\nQ 17.828125 0 11.671875 7.65625 \r\nQ 5.515625 15.328125 5.515625 27.984375 \r\nQ 5.515625 40.671875 11.671875 48.328125 \r\nQ 17.828125 56 27.875 56 \r\nQ 33.9375 56 38.28125 53.609375 \r\nQ 42.625 51.21875 45.40625 46.390625 \r\nL 45.40625 54.6875 \r\nL 54.390625 54.6875 \r\nz\r\n\" id=\"DejaVuSans-103\"/>\r\n     </defs>\r\n     <g transform=\"translate(83.965625 202.681406)scale(0.1 -0.1)\">\r\n      <use xlink:href=\"#DejaVuSans-82\"/>\r\n      <use x=\"67.232422\" xlink:href=\"#DejaVuSans-97\"/>\r\n      <use x=\"128.511719\" xlink:href=\"#DejaVuSans-110\"/>\r\n      <use x=\"191.890625\" xlink:href=\"#DejaVuSans-103\"/>\r\n      <use x=\"255.367188\" xlink:href=\"#DejaVuSans-101\"/>\r\n      <use x=\"316.890625\" xlink:href=\"#DejaVuSans-32\"/>\r\n      <use x=\"348.677734\" xlink:href=\"#DejaVuSans-78\"/>\r\n      <use x=\"423.482422\" xlink:href=\"#DejaVuSans-111\"/>\r\n      <use x=\"484.664062\" xlink:href=\"#DejaVuSans-114\"/>\r\n      <use x=\"524.027344\" xlink:href=\"#DejaVuSans-109\"/>\r\n      <use x=\"621.439453\" xlink:href=\"#DejaVuSans-97\"/>\r\n      <use x=\"682.71875\" xlink:href=\"#DejaVuSans-108\"/>\r\n      <use x=\"710.501953\" xlink:href=\"#DejaVuSans-105\"/>\r\n      <use x=\"738.285156\" xlink:href=\"#DejaVuSans-115\"/>\r\n      <use x=\"790.384766\" xlink:href=\"#DejaVuSans-97\"/>\r\n      <use x=\"851.664062\" xlink:href=\"#DejaVuSans-116\"/>\r\n      <use x=\"890.873047\" xlink:href=\"#DejaVuSans-105\"/>\r\n      <use x=\"918.65625\" xlink:href=\"#DejaVuSans-111\"/>\r\n      <use x=\"979.837891\" xlink:href=\"#DejaVuSans-110\"/>\r\n     </g>\r\n    </g>\r\n    <g id=\"line2d_19\">\r\n     <path d=\"M 55.965625 213.859531 \r\nL 75.965625 213.859531 \r\n\" style=\"fill:none;stroke:#2ca02c;stroke-linecap:square;stroke-width:1.5;\"/>\r\n    </g>\r\n    <g id=\"line2d_20\"/>\r\n    <g id=\"text_16\">\r\n     <!-- Z Normalisation -->\r\n     <defs>\r\n      <path d=\"M 5.609375 72.90625 \r\nL 62.890625 72.90625 \r\nL 62.890625 65.375 \r\nL 16.796875 8.296875 \r\nL 64.015625 8.296875 \r\nL 64.015625 0 \r\nL 4.5 0 \r\nL 4.5 7.515625 \r\nL 50.59375 64.59375 \r\nL 5.609375 64.59375 \r\nz\r\n\" id=\"DejaVuSans-90\"/>\r\n     </defs>\r\n     <g transform=\"translate(83.965625 217.359531)scale(0.1 -0.1)\">\r\n      <use xlink:href=\"#DejaVuSans-90\"/>\r\n      <use x=\"68.505859\" xlink:href=\"#DejaVuSans-32\"/>\r\n      <use x=\"100.292969\" xlink:href=\"#DejaVuSans-78\"/>\r\n      <use x=\"175.097656\" xlink:href=\"#DejaVuSans-111\"/>\r\n      <use x=\"236.279297\" xlink:href=\"#DejaVuSans-114\"/>\r\n      <use x=\"275.642578\" xlink:href=\"#DejaVuSans-109\"/>\r\n      <use x=\"373.054688\" xlink:href=\"#DejaVuSans-97\"/>\r\n      <use x=\"434.333984\" xlink:href=\"#DejaVuSans-108\"/>\r\n      <use x=\"462.117188\" xlink:href=\"#DejaVuSans-105\"/>\r\n      <use x=\"489.900391\" xlink:href=\"#DejaVuSans-115\"/>\r\n      <use x=\"542\" xlink:href=\"#DejaVuSans-97\"/>\r\n      <use x=\"603.279297\" xlink:href=\"#DejaVuSans-116\"/>\r\n      <use x=\"642.488281\" xlink:href=\"#DejaVuSans-105\"/>\r\n      <use x=\"670.271484\" xlink:href=\"#DejaVuSans-111\"/>\r\n      <use x=\"731.453125\" xlink:href=\"#DejaVuSans-110\"/>\r\n     </g>\r\n    </g>\r\n   </g>\r\n  </g>\r\n </g>\r\n <defs>\r\n  <clipPath id=\"p3816e4a752\">\r\n   <rect height=\"217.44\" width=\"334.8\" x=\"46.965625\" y=\"10.999219\"/>\r\n  </clipPath>\r\n </defs>\r\n</svg>\r\n",
      "image/png": "[encoded data removed]"
     },
     "metadata": {
      "needs_background": "light"
     }
    }
   ],
   "source": [
    "plt.plot(noNorm, label='No Normalisation')\n",
    "plt.plot(rangeNorm, label='Range Normalisation')\n",
    "plt.plot(zNorm, label='Z Normalisation')\n",
    "plt.ylim([50,100])\n",
    "plt.xlabel(\"Test #\")\n",
    "plt.ylabel(\"Classification Accuracy\")\n",
    "plt.xticks(np.arange(len(noNorm)),np.linspace(1,len(noNorm),len(noNorm)).astype(np.int))\n",
    "plt.legend()\n",
    "plt.show()"
   ]
  },
  {
   "cell_type": "code",
   "execution_count": null,
   "metadata": {},
   "outputs": [],
   "source": []
  }
 ]
}