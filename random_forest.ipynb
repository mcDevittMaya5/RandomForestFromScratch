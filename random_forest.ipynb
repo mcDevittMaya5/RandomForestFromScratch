{
 "metadata": {
  "language_info": {
   "codemirror_mode": {
    "name": "ipython",
    "version": 3
   },
   "file_extension": ".py",
   "mimetype": "text/x-python",
   "name": "python",
   "nbconvert_exporter": "python",
   "pygments_lexer": "ipython3",
   "version": "3.8.0-final"
  },
  "orig_nbformat": 2,
  "kernelspec": {
   "name": "python3",
   "display_name": "Python 3.8.0 64-bit",
   "metadata": {
    "interpreter": {
     "hash": "52dc95e1aaf98fb90dbdba2e103a20f56b47dd915f0a22c5d47bbd769910276d"
    }
   }
  }
 },
 "nbformat": 4,
 "nbformat_minor": 2,
 "cells": [
  {
   "cell_type": "code",
   "execution_count": 1,
   "metadata": {},
   "outputs": [],
   "source": [
    "from pandas.io.parsers import read_csv\n",
    "import numpy as np\n",
    "\n",
    "np.random.seed(0) # REMOVE FOR FINAL SOLUTION\n"
   ]
  },
  {
   "cell_type": "code",
   "execution_count": 2,
   "metadata": {},
   "outputs": [],
   "source": [
    "#Data Splitted.\n",
    "def splitData(data):\n",
    "    shuffled = data.copy()\n",
    "    np.random.shuffle(shuffled)\n",
    "\n",
    "    testCount = int(shuffled.shape[0]*1/3)\n",
    "    trainCount = shuffled.shape[0]-testCount\n",
    "\n",
    "    trainSet = shuffled[0:trainCount]\n",
    "    testSet = shuffled[trainCount:]\n",
    "\n",
    "    return trainSet, testSet\n",
    "\n",
    "def separateInputOutput(dataset):\n",
    "    outputData = dataset[:,3] # Output\n",
    "    inputData = np.concatenate((dataset[:,0:3],dataset[:,4:7],dataset[:,8:10]),axis=1) # Inputs\n",
    "    return inputData, outputData\n",
    "\n",
    "#ML ALG\n",
    "def initializeWeights(x,y):\n",
    "    N = x.shape[0]\n",
    "    \n",
    "def normaliseData(dataArray, normType = \"range\"):\n",
    "    normalisedDataList = []\n",
    "\n",
    "    if normType == \"range\":\n",
    "        maxVal = dataArray.max()\n",
    "        minVal = dataArray.min()\n",
    "        for val in dataArray:\n",
    "            normalisedDataList.append((val-minVal)/(maxVal-minVal))\n",
    "        return np.array(normalisedDataList)\n",
    "\n",
    "    elif normType == \"z\":\n",
    "        mean = dataArray.mean()\n",
    "        stdDev =  getStandardDeviation(dataArray)\n",
    "        for val in dataArray:\n",
    "            normalisedDataList.append((val-mean)/stdDev)\n",
    "        return np.array(normalisedDataList)\n",
    "\n",
    "def getStandardDeviation(dataArray):\n",
    "    n = dataArray.shape[0]\n",
    "    mean = dataArray.mean()\n",
    "    sumOfSquareDiffs = 0\n",
    "    for val in dataArray:\n",
    "        sumOfSquareDiffs += (val - mean)**2\n",
    "\n",
    "    variance = sumOfSquareDiffs/(n-1)\n",
    "    stdDev = variance**(1/2)\n",
    "    return stdDev\n"
   ]
  },
  {
   "cell_type": "code",
   "execution_count": 3,
   "metadata": {},
   "outputs": [],
   "source": [
    "def getUniqueClassCount(listToCount):\n",
    "    classes = []\n",
    "    for item in listToCount:\n",
    "        if item not in classes:\n",
    "            classes.append(item)\n",
    "\n",
    "    counts = []\n",
    "    for itemClass in classes:\n",
    "        counts.append(listToCount.count(itemClass))\n",
    "    return counts\n",
    "\n",
    "def getGiniLeaf(counts):\n",
    "    total = np.sum(counts)\n",
    "    giniLeaf = 1\n",
    "    for count in counts:\n",
    "        giniLeaf -= (count/total)**2\n",
    "    return giniLeaf\n",
    "\n",
    "def getGiniNode(sortedList, threshold):\n",
    "        lessThan = []\n",
    "        greaterThan = []\n",
    "\n",
    "        for i in range(len(sortedList)):\n",
    "            x = sortedList[i][0]\n",
    "            # print(x, threshold)\n",
    "            if x < threshold:\n",
    "                lessThan.append(sortedList[i][1])\n",
    "            else:\n",
    "                greaterThan.append(sortedList[i][1])\n",
    "\n",
    "        countsLT = getUniqueClassCount(lessThan)\n",
    "        countsGT = getUniqueClassCount(greaterThan)\n",
    "        giniLT = getGiniLeaf(countsLT)\n",
    "        giniGT = getGiniLeaf(countsGT)\n",
    "        # print(giniLT,giniGT)\n",
    "        # print(np.sum(countsLT),np.sum(countsGT))\n",
    "        totalCount = len(sortedList)\n",
    "        # print(totalCount)\n",
    "        giniNode = ((np.sum(countsLT)/totalCount)*giniLT) + ((np.sum(countsGT)/totalCount)*giniGT)\n",
    "        # print(giniNode)\n",
    "        return giniNode\n"
   ]
  },
  {
   "cell_type": "code",
   "execution_count": 4,
   "metadata": {
    "tags": []
   },
   "outputs": [],
   "source": [
    "def getSplitValue(trainIn, trainOut, attributeIndex):\n",
    "    attribute = trainIn[:, attributeIndex].copy() # Output\n",
    "    combined = []\n",
    "    for j,sample in enumerate(attribute):\n",
    "        combined.append((sample,trainOut[j]))\n",
    "    attribute.sort()\n",
    "    sortedList = [tuple for x in attribute for tuple in combined if tuple[0] == x]\n",
    "\n",
    "\n",
    "    thresholds = []\n",
    "    for j in range(len(attribute)-1):\n",
    "        thresholds.append((attribute[j]+attribute[j+1])/2)\n",
    "\n",
    "    giniNodes = []\n",
    "    for threshold in thresholds:\n",
    "        giniNodes.append(getGiniNode(sortedList, threshold))\n",
    "    # print(giniNodes)\n",
    "    minNodeGini = min(giniNodes)\n",
    "    minGiniIndex = giniNodes.index(minNodeGini)\n",
    "    splitVal = thresholds[minGiniIndex]\n",
    "    return splitVal, minNodeGini\n",
    "   "
   ]
  },
  {
   "cell_type": "code",
   "execution_count": 5,
   "metadata": {
    "tags": []
   },
   "outputs": [],
   "source": [
    "def train(trainIn,trainOut):\n",
    "    ginis = []\n",
    "    splitVals = []\n",
    "    for i in range(trainIn.shape[1]):\n",
    "        splitVal, minGini = getSplitValue(trainIn,trainOut, i)\n",
    "        ginis.append(minGini)\n",
    "        splitVals.append(splitVal)\n",
    "        # print(splitVal, minGini)\n",
    "    # print(\"Root is input data attribute\", ginis.index(min(ginis)))\n",
    "    branchData(testIn,testOut,ginis.index(min(ginis)),splitVals[ginis.index(min(ginis))]) #"
   ]
  },
  {
   "cell_type": "code",
   "execution_count": 6,
   "metadata": {},
   "outputs": [],
   "source": [
    "def branchData(X, y, splitAttributeIndex, splitValue):\n",
    "    lessThan_X = []\n",
    "    lessThan_y = []\n",
    "    greaterThan_X = []\n",
    "    greaterThan_y = []\n",
    "    \n",
    "    for i in range(len(X)):\n",
    "        if X[i,splitAttributeIndex] < splitValue:\n",
    "            lessThan_X.append(X[i,:])\n",
    "            lessThan_y.append(y[i])\n",
    "        else:\n",
    "            greaterThan_X.append(X[i,:])\n",
    "            greaterThan_y.append(y[i])\n",
    "    print(lessThan_X)\n",
    "\n",
    "        "
   ]
  },
  {
   "cell_type": "code",
   "execution_count": 7,
   "metadata": {},
   "outputs": [
    {
     "output_type": "stream",
     "name": "stdout",
     "text": [
      "[array([38.09292035, 0.261521856, 1.7318181819999998, 3.618461538, 17.68,\n       7.556157895, 14.76, 81.21142857], dtype=object), array([43.93362832, 0.254582118, 2.451818182, 3.8492307689999996, 16.24,\n       5.2190526319999995, 9.0, 62.60714286], dtype=object), array([38.53539823, 0.286716054, 1.259090909, 3.7938461539999997, 16.1,\n       4.326368421000001, 15.0, 62.56], dtype=object), array([38.44690265, 0.230198978, 2.308181818, 3.907692308, 18.55,\n       8.877894737, 9.36, 65.43428571], dtype=object), array([42.561946899999995, 0.238442508, 0.774545455, 3.526153846, 18.74,\n       8.155894737, 9.0, 51.59714286], dtype=object), array([45.52654867, 0.189464469, 1.750909091, 3.8892307689999996, 16.36,\n       6.581526316000001, 11.76, 54.91142857], dtype=object), array([39.90707965, 0.24168399899999998, 1.155454545, 3.584615385, 16.67,\n       6.359421052999999, 16.32, 73.16857143], dtype=object), array([45.0840708, 0.39002710399999996, 0.847272727, 3.68, 16.09,\n       11.42347368, 11.88, 64.72857143], dtype=object), array([37.87168142, 0.238338684, 0.672727273, 3.7169230769999997, 16.33,\n       5.665842105, 12.84, 63.41428571], dtype=object), array([40.17256637, 0.141298858, 0.690909091, 3.393846154, 16.51,\n       9.779631579, 20.52, 61.91428571], dtype=object), array([40.74778761, 0.10941060400000001, 1.5418181819999999, 3.575384615,\n       16.99, 11.21652632, 13.92, 63.30285714], dtype=object), array([37.38495575, 0.176077042, 1.130909091, 3.741538462, 16.61,\n       9.554789474, 15.96, 64.65571429], dtype=object), array([41.58849558, 0.211766681, 1.4618181819999998, 3.5876923080000003,\n       16.88, 5.340684211, 14.76, 52.15428571], dtype=object), array([38.93362832, 0.19492531899999999, 0.758181818, 3.7969230769999998,\n       17.45, 11.17257895, 9.6, 67.04857143], dtype=object), array([40.34955752, 0.197146734, 0.629090909, 3.904615385, 16.53,\n       5.315473684, 11.52, 61.59142857], dtype=object), array([41.76548673, 0.143658705, 1.118181818, 3.652307692, 19.31,\n       9.866684211, 9.0, 66.27285714], dtype=object), array([43.49115044, 0.258598004, 1.139090909, 3.6338461539999996, 17.12,\n       8.174263157999999, 11.4, 76.78], dtype=object), array([39.90707965, 0.107012723, 0.7790909090000001, 3.692307692, 15.92,\n       7.479684211, 16.56, 55.91428571], dtype=object)]\n"
     ]
    }
   ],
   "source": [
    "#Reading in data\n",
    "dataframe = read_csv(\"beer.txt\",delim_whitespace=True,header=None)\n",
    "\n",
    "# Preparing Data\n",
    "dataset = dataframe.values\n",
    "trainSet, testSet = splitData(dataset)\n",
    "\n",
    "testIn, testOut = separateInputOutput(testSet)\n",
    "trainIn, trainOut = separateInputOutput(trainSet)\n",
    "\n",
    "N =trainIn.shape[0]\n",
    "Wi = 1/N\n",
    "\n",
    "#running ml alg.\n",
    "train(trainIn,trainOut) #ML ALG RAN HERE \n"
   ]
  },
  {
   "cell_type": "code",
   "execution_count": 7,
   "metadata": {},
   "outputs": [],
   "source": [
    "\n"
   ]
  }
 ]
}