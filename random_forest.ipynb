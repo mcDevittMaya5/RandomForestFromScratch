{
 "metadata": {
  "language_info": {
   "codemirror_mode": {
    "name": "ipython",
    "version": 3
   },
   "file_extension": ".py",
   "mimetype": "text/x-python",
   "name": "python",
   "nbconvert_exporter": "python",
   "pygments_lexer": "ipython3",
   "version": "3.8.6-final"
  },
  "orig_nbformat": 2,
  "kernelspec": {
   "name": "python38064bitf6f22b1890ab4a39b7842f5f855e097a",
   "display_name": "Python 3.8.0 64-bit"
  }
 },
 "nbformat": 4,
 "nbformat_minor": 2,
 "cells": [
  {
   "cell_type": "code",
   "execution_count": 1,
   "metadata": {},
   "outputs": [],
   "source": [
    "from pandas.io.parsers import read_csv\n",
    "import numpy as np\n",
    "\n",
    "np.random.seed(0) # REMOVE FOR FINAL SOLUTION\n"
   ]
  },
  {
   "cell_type": "code",
   "execution_count": 2,
   "metadata": {},
   "outputs": [],
   "source": [
    "#Data Splitted.\n",
    "def splitData(data):\n",
    "    shuffled = data.copy()\n",
    "    np.random.shuffle(shuffled)\n",
    "\n",
    "    testCount = int(shuffled.shape[0]*1/3)\n",
    "    trainCount = shuffled.shape[0]-testCount\n",
    "\n",
    "    trainSet = shuffled[0:trainCount]\n",
    "    testSet = shuffled[trainCount:]\n",
    "\n",
    "    return trainSet, testSet\n",
    "\n",
    "def separateInputOutput(dataset):\n",
    "    outputData = dataset[:,3] # Output\n",
    "    inputData = np.concatenate((dataset[:,0:3],dataset[:,4:7],dataset[:,8:10]),axis=1) # Inputs\n",
    "    return inputData, outputData\n",
    "\n",
    "#ML ALG\n",
    "def initializeWeights(x,y):\n",
    "    N = x.shape[0]\n",
    "    \n",
    "def normaliseData(dataArray, normType = \"range\"):\n",
    "    normalisedDataList = []\n",
    "\n",
    "    if normType == \"range\":\n",
    "        maxVal = dataArray.max()\n",
    "        minVal = dataArray.min()\n",
    "        for val in dataArray:\n",
    "            normalisedDataList.append((val-minVal)/(maxVal-minVal))\n",
    "        return np.array(normalisedDataList)\n",
    "\n",
    "    elif normType == \"z\":\n",
    "        mean = dataArray.mean()\n",
    "        stdDev =  getStandardDeviation(dataArray)\n",
    "        for val in dataArray:\n",
    "            normalisedDataList.append((val-mean)/stdDev)\n",
    "        return np.array(normalisedDataList)\n",
    "\n",
    "def getStandardDeviation(dataArray):\n",
    "    n = dataArray.shape[0]\n",
    "    mean = dataArray.mean()\n",
    "    sumOfSquareDiffs = 0\n",
    "    for val in dataArray:\n",
    "        sumOfSquareDiffs += (val - mean)**2\n",
    "\n",
    "    variance = sumOfSquareDiffs/(n-1)\n",
    "    stdDev = variance**(1/2)\n",
    "    return stdDev\n"
   ]
  },
  {
   "cell_type": "code",
   "execution_count": 11,
   "metadata": {},
   "outputs": [
    {
     "output_type": "stream",
     "name": "stdout",
     "text": [
      "[array([43.35840708, 0.144433099, 1.222727273, 3.744615385, 16.45,\n       10.37236842, 17.4, 70.13857143], dtype=object), array([38.35840708, 0.28217077100000004, 4.255454545, 4.070769231, 18.3,\n       4.0466842110000005, 6.72, 62.84571429], dtype=object), array([37.65044248, 0.244681179, 2.4136363640000003, 3.870769231, 16.29,\n       3.219052632, 6.96, 57.21428571], dtype=object), array([40.34955752, 0.197146734, 0.629090909, 3.904615385, 16.53,\n       5.315473684, 11.52, 61.59142857], dtype=object), array([45.52654867, 0.189464469, 1.750909091, 3.8892307689999996, 16.36,\n       6.581526316000001, 11.76, 54.91142857], dtype=object), array([40.03982301, 0.347918901, 2.859090909, 4.1784615380000005, 17.58,\n       7.340842105, 8.88, 74.88714286], dtype=object), array([38.13716814, 0.233793401, 4.762727273, 4.147692308, 16.67,\n       6.252105263, 6.84, 73.39428571], dtype=object), array([40.52654867, 0.237383712, 1.767272727, 4.033846154, 16.01,\n       13.27905263, 13.44, 48.32857143], dtype=object), array([44.02212389, 0.172410662, 2.191818182, 4.033846154, 16.9,\n       7.546947368, 7.32, 74.67857143], dtype=object), array([44.86283186, 0.185199475, 2.102727273, 4.009230769, 15.9,\n       6.608789474, 14.28, 46.39857143], dtype=object), array([43.09292035, 0.335413804, 1.754545455, 4.196923077, 18.1,\n       11.07721053, 11.52, 69.43428571], dtype=object), array([43.13716814, 0.20528644, 2.611818182, 3.8030769230000003, 18.83,\n       3.1677894739999997, 6.72, 64.31714286], dtype=object), array([45.57079646, 0.168747709, 3.9899996360000003, 3.9292307689999997,\n       17.39, 6.265210526000001, 6.84, 62.93142857], dtype=object), array([45.70353982, 0.22417001, 2.6618181819999998, 3.556923077, 17.05,\n       20.06378947, 11.16, 87.23857143], dtype=object), array([39.90707965, 0.24168399899999998, 1.155454545, 3.584615385, 16.67,\n       6.359421052999999, 16.32, 73.16857143], dtype=object), array([41.8539823, 0.312053481, 1.0818181820000001, 4.015384615, 17.05,\n       10.78168421, 13.56, 87.02571429], dtype=object), array([43.35840708, 0.31183761, 0.928181818, 3.5815384619999997, 17.06,\n       6.0811052629999995, 12.0, 67.84857143], dtype=object), array([38.71238938, 0.308351123, 1.650909091, 4.073846154, 17.59,\n       12.60215789, 12.48, 78.14714286], dtype=object), array([41.01327434, 0.267123194, 2.0127272730000003, 4.150769231, 18.59,\n       6.593263157999999, 9.72, 61.93], dtype=object), array([42.29646018, 0.250667315, 1.019090909, 3.8061538460000004, 15.94,\n       2.924894737, 12.6, 37.03428571], dtype=object), array([43.53539823, 0.183369712, 1.58, 4.150769231, 16.66, 7.230315789,\n       11.76, 62.30857143], dtype=object), array([41.67699115, 0.295421137, 1.814545455, 4.375384615, 18.99,\n       10.31873684, 10.68, 68.42714286], dtype=object), array([41.41150442, 0.19404436, 0.77, 3.5107692310000003, 15.74,\n       7.862578947, 13.2, 68.72857143], dtype=object), array([43.97787611, 0.271177799, 1.4190909090000001, 3.8492307689999996,\n       16.73, 9.530947368, 12.48, 53.57428571], dtype=object), array([40.0840708, 0.164977505, 0.534545455, 3.907692308, 18.87,\n       9.168157895, 14.28, 65.8], dtype=object), array([40.03982301, 0.303067424, 1.6863636359999998, 4.110769231, 17.56,\n       3.55, 8.4, 64.10714286], dtype=object), array([41.58849558, 0.34112239200000005, 1.4690909090000002, 3.781538462,\n       16.61, 6.477789474, 10.872, 60.89857143], dtype=object), array([44.55309735, 0.219026799, 0.939090909, 3.636923077, 16.47,\n       6.328421053, 11.4, 54.53], dtype=object), array([44.68584071, 0.185837494, 2.8372727269999998, 4.224615385, 19.36,\n       6.667526316, 9.36, 62.84857143], dtype=object), array([45.34955752, 0.280161115, 1.8009090909999999, 3.956923077, 16.35,\n       4.348684211, 9.12, 63.66857143], dtype=object), array([37.38495575, 0.176077042, 1.130909091, 3.741538462, 16.61,\n       9.554789474, 15.96, 64.65571429], dtype=object), array([41.58849558, 0.211766681, 1.4618181819999998, 3.5876923080000003,\n       16.88, 5.340684211, 14.76, 52.15428571], dtype=object), array([41.19026549, 0.283402606, 2.620909091, 4.123076923, 19.6,\n       7.554947368, 8.04, 79.13428571], dtype=object), array([40.17256637, 0.141298858, 0.690909091, 3.393846154, 16.51,\n       9.779631579, 20.52, 61.91428571], dtype=object), array([41.45575221, 0.260993144, 1.3527272730000002, 3.978461538, 17.81,\n       3.8657894739999996, 9.24, 74.15714286], dtype=object), array([41.76548673, 0.143658705, 1.118181818, 3.652307692, 19.31,\n       9.866684211, 9.0, 66.27285714], dtype=object)]\n"
     ]
    }
   ],
   "source": [
    "#Reading in data\n",
    "dataframe = read_csv(\"beer.txt\",delim_whitespace=True,header=None)\n",
    "\n",
    "# Preparing Data\n",
    "dataset = dataframe.values\n",
    "trainSet, testSet = splitData(dataset)\n",
    "\n",
    "testIn, testOut = separateInputOutput(testSet)\n",
    "trainIn, trainOut = separateInputOutput(trainSet)\n",
    "\n",
    "N =trainIn.shape[0]\n",
    "Wi = 1/N\n",
    "\n",
    "#running ml alg.\n",
    "train(trainIn,trainOut) #ML ALG RAN HERE \n"
   ]
  },
  {
   "cell_type": "code",
   "execution_count": 4,
   "metadata": {},
   "outputs": [],
   "source": [
    "def getUniqueClassCount(listToCount):\n",
    "    classes = []\n",
    "    for item in listToCount:\n",
    "        if item not in classes:\n",
    "            classes.append(item)\n",
    "\n",
    "    counts = []\n",
    "    for itemClass in classes:\n",
    "        counts.append(listToCount.count(itemClass))\n",
    "    return counts\n",
    "\n",
    "def getGiniLeaf(counts):\n",
    "    total = np.sum(counts)\n",
    "    giniLeaf = 1\n",
    "    for count in counts:\n",
    "        giniLeaf -= (count/total)**2\n",
    "    return giniLeaf\n",
    "\n",
    "def getGiniNode(sortedList, threshold):\n",
    "        lessThan = []\n",
    "        greaterThan = []\n",
    "\n",
    "        for i in range(len(sortedList)):\n",
    "            x = sortedList[i][0]\n",
    "            # print(x, threshold)\n",
    "            if x < threshold:\n",
    "                lessThan.append(sortedList[i][1])\n",
    "            else:\n",
    "                greaterThan.append(sortedList[i][1])\n",
    "\n",
    "        countsLT = getUniqueClassCount(lessThan)\n",
    "        countsGT = getUniqueClassCount(greaterThan)\n",
    "        giniLT = getGiniLeaf(countsLT)\n",
    "        giniGT = getGiniLeaf(countsGT)\n",
    "        # print(giniLT,giniGT)\n",
    "        # print(np.sum(countsLT),np.sum(countsGT))\n",
    "        totalCount = len(sortedList)\n",
    "        # print(totalCount)\n",
    "        giniNode = ((np.sum(countsLT)/totalCount)*giniLT) + ((np.sum(countsGT)/totalCount)*giniGT)\n",
    "        # print(giniNode)\n",
    "        return giniNode\n"
   ]
  },
  {
   "cell_type": "code",
   "execution_count": 5,
   "metadata": {
    "tags": []
   },
   "outputs": [],
   "source": [
    "def getSplitValue(trainIn, trainOut, attributeIndex):\n",
    "    attribute = trainIn[:, attributeIndex].copy() # Output\n",
    "    combined = []\n",
    "    for j,sample in enumerate(attribute):\n",
    "        combined.append((sample,trainOut[j]))\n",
    "    attribute.sort()\n",
    "    sortedList = [tuple for x in attribute for tuple in combined if tuple[0] == x]\n",
    "\n",
    "\n",
    "    thresholds = []\n",
    "    for j in range(len(attribute)-1):\n",
    "        thresholds.append((attribute[j]+attribute[j+1])/2)\n",
    "\n",
    "    giniNodes = []\n",
    "    for threshold in thresholds:\n",
    "        giniNodes.append(getGiniNode(sortedList, threshold))\n",
    "    # print(giniNodes)\n",
    "    minNodeGini = min(giniNodes)\n",
    "    minGiniIndex = giniNodes.index(minNodeGini)\n",
    "    splitVal = thresholds[minGiniIndex]\n",
    "    return splitVal, minNodeGini\n",
    "   "
   ]
  },
  {
   "cell_type": "code",
   "execution_count": 8,
   "metadata": {
    "tags": []
   },
   "outputs": [],
   "source": [
    "def train(trainIn,trainOut):\n",
    "    ginis = []\n",
    "    splitVals = []\n",
    "    for i in range(trainIn.shape[1]):\n",
    "        splitVal, minGini = getSplitValue(trainIn,trainOut, i)\n",
    "        ginis.append(minGini)\n",
    "        splitVals.append(splitVal)\n",
    "        # print(splitVal, minGini)\n",
    "    # print(\"Root is input data attribute\", ginis.index(min(ginis)))\n",
    "    branchData(testIn,testOut,ginis.index(min(ginis)),splitVals[ginis.index(min(ginis))]) #"
   ]
  },
  {
   "cell_type": "code",
   "execution_count": 10,
   "metadata": {},
   "outputs": [],
   "source": [
    "def branchData(X, y, splitAttributeIndex, splitValue):\n",
    "    lessThan_X = []\n",
    "    lessThan_y = []\n",
    "    greaterThan_X = []\n",
    "    greaterThan_y = []\n",
    "    \n",
    "    for i in range(len(X)):\n",
    "        if X[i,splitAttributeIndex] < splitValue:\n",
    "            lessThan_X.append(X[i,:])\n",
    "            lessThan_y.append(y[i])\n",
    "        else:\n",
    "            greaterThan_X.append(X[i,:])\n",
    "            greaterThan_y.append(y[i])\n",
    "    print(lessThan_X)"
   ]
  },
  {
   "cell_type": "code",
   "execution_count": null,
   "metadata": {},
   "outputs": [],
   "source": [
    "\n"
   ]
  }
 ]
}