{
 "metadata": {
  "language_info": {
   "codemirror_mode": {
    "name": "ipython",
    "version": 3
   },
   "file_extension": ".py",
   "mimetype": "text/x-python",
   "name": "python",
   "nbconvert_exporter": "python",
   "pygments_lexer": "ipython3",
   "version": "3.8.0-final"
  },
  "orig_nbformat": 2,
  "kernelspec": {
   "name": "python3",
   "display_name": "Python 3.8.0 64-bit",
   "metadata": {
    "interpreter": {
     "hash": "52dc95e1aaf98fb90dbdba2e103a20f56b47dd915f0a22c5d47bbd769910276d"
    }
   }
  }
 },
 "nbformat": 4,
 "nbformat_minor": 2,
 "cells": [
  {
   "cell_type": "code",
   "execution_count": 35,
   "metadata": {},
   "outputs": [],
   "source": [
    "from pandas.io.parsers import read_csv\n",
    "import numpy as np\n",
    "\n",
    "np.random.seed(0) # REMOVE FOR FINAL SOLUTION\n"
   ]
  },
  {
   "cell_type": "code",
   "execution_count": 36,
   "metadata": {},
   "outputs": [],
   "source": [
    "#Data Splitted.\n",
    "def splitData(data):\n",
    "    shuffled = data.copy()\n",
    "    np.random.shuffle(shuffled)\n",
    "\n",
    "    testCount = int(shuffled.shape[0]*1/3)\n",
    "    trainCount = shuffled.shape[0]-testCount\n",
    "\n",
    "    trainSet = shuffled[0:trainCount]\n",
    "    testSet = shuffled[trainCount:]\n",
    "\n",
    "    return trainSet, testSet\n",
    "\n",
    "def separateInputOutput(dataset):\n",
    "    outputData = dataset[:,3] # Output\n",
    "    inputData = np.concatenate((dataset[:,0:3],dataset[:,4:7],dataset[:,8:10]),axis=1) # Inputs\n",
    "    return inputData, outputData\n",
    "\n",
    "#ML ALG\n",
    "def initializeWeights(x,y):\n",
    "    N = x.shape[0]\n",
    "    \n",
    "def normaliseData(dataArray, normType = \"range\"):\n",
    "    normalisedDataList = []\n",
    "\n",
    "    if normType == \"range\":\n",
    "        maxVal = dataArray.max()\n",
    "        minVal = dataArray.min()\n",
    "        for val in dataArray:\n",
    "            normalisedDataList.append((val-minVal)/(maxVal-minVal))\n",
    "        return np.array(normalisedDataList)\n",
    "\n",
    "    elif normType == \"z\":\n",
    "        mean = dataArray.mean()\n",
    "        stdDev =  getStandardDeviation(dataArray)\n",
    "        for val in dataArray:\n",
    "            normalisedDataList.append((val-mean)/stdDev)\n",
    "        return np.array(normalisedDataList)\n",
    "\n",
    "def getStandardDeviation(dataArray):\n",
    "    n = dataArray.shape[0]\n",
    "    mean = dataArray.mean()\n",
    "    sumOfSquareDiffs = 0\n",
    "    for val in dataArray:\n",
    "        sumOfSquareDiffs += (val - mean)**2\n",
    "\n",
    "    variance = sumOfSquareDiffs/(n-1)\n",
    "    stdDev = variance**(1/2)\n",
    "    return stdDev\n"
   ]
  },
  {
   "cell_type": "code",
   "execution_count": 37,
   "metadata": {},
   "outputs": [],
   "source": [
    "def getUniqueClassCount(listToCount):\n",
    "    classes = []\n",
    "    for item in listToCount:\n",
    "        if item not in classes:\n",
    "            classes.append(item)\n",
    "\n",
    "    counts = []\n",
    "    for itemClass in classes:\n",
    "        counts.append(listToCount.count(itemClass))\n",
    "    return counts\n",
    "\n",
    "def getGiniLeaf(counts):\n",
    "    total = np.sum(counts)\n",
    "    giniLeaf = 1\n",
    "    for count in counts:\n",
    "        giniLeaf -= (count/total)**2\n",
    "    return giniLeaf\n",
    "\n",
    "def getGiniNode(sortedList, threshold):\n",
    "        lessThan = []\n",
    "        greaterThan = []\n",
    "\n",
    "        for i in range(len(sortedList)):\n",
    "            x = sortedList[i][0]\n",
    "            # print(x, threshold)\n",
    "            if x < threshold:\n",
    "                lessThan.append(sortedList[i][1])\n",
    "            else:\n",
    "                greaterThan.append(sortedList[i][1])\n",
    "\n",
    "        countsLT = getUniqueClassCount(lessThan)\n",
    "        countsGT = getUniqueClassCount(greaterThan)\n",
    "        giniLT = getGiniLeaf(countsLT)\n",
    "        giniGT = getGiniLeaf(countsGT)\n",
    "        # print(giniLT,giniGT)\n",
    "        # print(np.sum(countsLT),np.sum(countsGT))\n",
    "        totalCount = len(sortedList)\n",
    "        # print(totalCount)\n",
    "        giniNode = ((np.sum(countsLT)/totalCount)*giniLT) + ((np.sum(countsGT)/totalCount)*giniGT)\n",
    "        # print(giniNode)\n",
    "        return giniNode\n"
   ]
  },
  {
   "cell_type": "code",
   "execution_count": 38,
   "metadata": {
    "tags": []
   },
   "outputs": [],
   "source": [
    "def getSplitValue(trainIn, trainOut, attributeIndex):\n",
    "    attribute = trainIn[:, attributeIndex].copy() # Output\n",
    "    combined = []\n",
    "    for j,sample in enumerate(attribute):\n",
    "        combined.append((sample,trainOut[j]))\n",
    "    attribute.sort()\n",
    "    sortedList = [tuple for x in attribute for tuple in combined if tuple[0] == x]\n",
    "\n",
    "\n",
    "    thresholds = []\n",
    "    for j in range(len(attribute)-1):\n",
    "        thresholds.append((attribute[j]+attribute[j+1])/2)\n",
    "\n",
    "    giniNodes = []\n",
    "    for threshold in thresholds:\n",
    "        giniNodes.append(getGiniNode(sortedList, threshold))\n",
    "    # print(giniNodes)\n",
    "    minNodeGini = min(giniNodes)\n",
    "    minGiniIndex = giniNodes.index(minNodeGini)\n",
    "    splitVal = thresholds[minGiniIndex]\n",
    "    return splitVal, minNodeGini\n",
    "   "
   ]
  },
  {
   "cell_type": "code",
   "execution_count": 65,
   "metadata": {
    "tags": []
   },
   "outputs": [],
   "source": [
    "def train(trainIn,trainOut):\n",
    "    ginis = []\n",
    "    splitVals = []\n",
    "    for i in range(trainIn.shape[1]):\n",
    "        splitVal, minGini = getSplitValue(trainIn,trainOut, i)\n",
    "        ginis.append(minGini)\n",
    "        splitVals.append(splitVal)\n",
    "        # print(splitVal, minGini)\n",
    "    # print(\"Root is input data attribute\", ginis.index(min(ginis)))\n",
    "    ltX,lty,gtX,gty = branchData(testIn,testOut,ginis.index(min(ginis)),splitVals[ginis.index(min(ginis))]) #generate root\n"
   ]
  },
  {
   "cell_type": "code",
   "execution_count": 79,
   "metadata": {},
   "outputs": [],
   "source": [
    "def branchData(X, y, splitAttributeIndex, splitValue):\n",
    "    # print(splitAttributeIndex, splitValue)\n",
    "    # print(X.shape, X[0:2])\n",
    "    lessThan_X = []\n",
    "    lessThan_y = []\n",
    "    greaterThan_X = []\n",
    "    greaterThan_y = []\n",
    "    \n",
    "    for i in range(len(X)):\n",
    "        if X[i,splitAttributeIndex] < splitValue:\n",
    "            lessThan_X.append(X[i,:])\n",
    "            lessThan_y.append(y[i])\n",
    "        else:\n",
    "            greaterThan_X.append(X[i,:])\n",
    "            greaterThan_y.append(y[i])\n",
    "        \n",
    "    lessThan_X = np.delete(np.asarray(lessThan_X), splitAttributeIndex, 1)\n",
    "    lessThan_y = np.asarray(lessThan_y)\n",
    "    greaterThan_X = np.delete(np.asarray(greaterThan_X), splitAttributeIndex, 1)\n",
    "    greaterThan_y = np.asarray(greaterThan_y)\n",
    "    # print(lessThan_X.shape, lessThan_X[0])\n",
    "    # print(greaterThan_X.shape, greaterThan_X[0])\n",
    "    return lessThan_X,lessThan_y,greaterThan_X,greaterThan_y\n",
    "        "
   ]
  },
  {
   "cell_type": "code",
   "execution_count": 78,
   "metadata": {},
   "outputs": [
    {
     "output_type": "stream",
     "name": "stdout",
     "text": [
      "1 0.35662227049999995\n(51, 8) [[43.04867257 0.197672705 1.229090909 4.264615385 16.51 13.65547368 16.32\n  73.00428571]\n [41.45575221 0.5540157139999999 2.251818182 4.089230768999999 16.97\n  10.48668421 12.84 72.56]]\n(33, 7) [43.04867257 1.229090909 4.264615385 16.51 13.65547368 16.32 73.00428571]\n(18, 7) [41.45575221 2.251818182 4.089230768999999 16.97 10.48668421 12.84 72.56]\n"
     ]
    }
   ],
   "source": [
    "#Reading in data\n",
    "dataframe = read_csv(\"beer.txt\",delim_whitespace=True,header=None)\n",
    "\n",
    "# Preparing Data\n",
    "dataset = dataframe.values\n",
    "trainSet, testSet = splitData(dataset)\n",
    "\n",
    "testIn, testOut = separateInputOutput(testSet)\n",
    "trainIn, trainOut = separateInputOutput(trainSet)\n",
    "\n",
    "N =trainIn.shape[0]\n",
    "Wi = 1/N\n",
    "\n",
    "#running ml alg.\n",
    "train(trainIn,trainOut) #ML ALG RAN HERE\n"
   ]
  },
  {
   "cell_type": "code",
   "execution_count": 3,
   "metadata": {},
   "outputs": [],
   "source": [
    "class Node:\n",
    "    def __init__(self,index,value):\n",
    "        self.left = None\n",
    "        self.right = None\n",
    "        self.index = index\n",
    "        self.value = value #stores value or the classification eg \"ale\"\n",
    "        \n",
    "    def addLeftChild(self,child):\n",
    "        self.left = child\n",
    "    \n",
    "    def getLeftChild(self):\n",
    "        return self.left\n",
    "\n",
    "    def addRightChild(self,child):\n",
    "        self.right = child\n",
    "\n",
    "    def getRightChild(self):\n",
    "        return self.right\n",
    "    \n",
    "    def printTree(self):\n",
    "        if self.left:\n",
    "            self.left.printTree()\n",
    "        print(self.getData())\n",
    "        if self.right:\n",
    "            self.right.printTree()\n",
    "\n",
    "    def getValue(self):\n",
    "        return self.value\n",
    "    \n",
    "    def getData(self):\n",
    "        return self.index,self.value\n",
    "    \n",
    "    def isLeaf(self):\n",
    "        if (self.left == None) & (self.right == None):\n",
    "            return True\n",
    "        else:\n",
    "            return False"
   ]
  },
  {
   "cell_type": "code",
   "execution_count": 28,
   "metadata": {},
   "outputs": [
    {
     "output_type": "stream",
     "name": "stdout",
     "text": [
      "['Ale', 'larger', 'Wine']\n"
     ]
    }
   ],
   "source": [
    "#Testing Tree\n",
    "x = [12,11,13]\n",
    "y = [[9,10,0],[13,11,0],[13,0,14]]\n",
    "Root = Node(0,x[0])\n",
    "currentNode =Root\n",
    "Root.addLeftChild(Node(1,x[1]))\n",
    "Root.addRightChild(Node(2,x[2]))\n",
    "currentNode = Root.getLeftChild()\n",
    "currentNode.addLeftChild(Node(None,\"Ale\"))\n",
    "currentNode = Root.getRightChild()\n",
    "currentNode.addLeftChild(Node(None,\"larger\"))\n",
    "currentNode.addRightChild(Node(None,\"Wine\"))\n",
    "\n",
    "# Root.printTree()\n",
    "print(predict(y))\n"
   ]
  },
  {
   "cell_type": "code",
   "execution_count": 26,
   "metadata": {},
   "outputs": [],
   "source": [
    "#Traversing the tree with input data\n",
    "def predict(X):\n",
    "    predictedValues = []\n",
    "    for i in range(len(X)):\n",
    "        x = X[i]\n",
    "        treePointer = Root\n",
    "        index,value = treePointer.getData()\n",
    "        while treePointer.isLeaf() == False:\n",
    "            if (x[index] < value):\n",
    "                treePointer = treePointer.getLeftChild()\n",
    "                index,value = treePointer.getData()\n",
    "            else:\n",
    "                treePointer = treePointer.getRightChild()\n",
    "                index,value = treePointer.getData()\n",
    "        predictedValues.append(treePointer.getValue())\n",
    "    return predictedValues\n",
    "\n",
    "    \n"
   ]
  },
  {
   "cell_type": "code",
   "execution_count": null,
   "metadata": {},
   "outputs": [],
   "source": []
  }
 ]
}