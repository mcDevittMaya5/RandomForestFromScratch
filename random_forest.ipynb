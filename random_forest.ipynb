{
 "metadata": {
  "language_info": {
   "codemirror_mode": {
    "name": "ipython",
    "version": 3
   },
   "file_extension": ".py",
   "mimetype": "text/x-python",
   "name": "python",
   "nbconvert_exporter": "python",
   "pygments_lexer": "ipython3",
   "version": "3.8.0-final"
  },
  "orig_nbformat": 2,
  "kernelspec": {
   "name": "python3",
   "display_name": "Python 3.8.0 64-bit",
   "metadata": {
    "interpreter": {
     "hash": "52dc95e1aaf98fb90dbdba2e103a20f56b47dd915f0a22c5d47bbd769910276d"
    }
   }
  }
 },
 "nbformat": 4,
 "nbformat_minor": 2,
 "cells": [
  {
   "cell_type": "code",
   "execution_count": 35,
   "metadata": {},
   "outputs": [],
   "source": [
    "from pandas.io.parsers import read_csv\n",
    "import numpy as np\n",
    "\n",
    "np.random.seed(0) # REMOVE FOR FINAL SOLUTION\n"
   ]
  },
  {
   "cell_type": "code",
   "execution_count": 36,
   "metadata": {},
   "outputs": [],
   "source": [
    "#Data Splitted.\n",
    "def splitData(data):\n",
    "    shuffled = data.copy()\n",
    "    np.random.shuffle(shuffled)\n",
    "\n",
    "    testCount = int(shuffled.shape[0]*1/3)\n",
    "    trainCount = shuffled.shape[0]-testCount\n",
    "\n",
    "    trainSet = shuffled[0:trainCount]\n",
    "    testSet = shuffled[trainCount:]\n",
    "\n",
    "    return trainSet, testSet\n",
    "\n",
    "def separateInputOutput(dataset):\n",
    "    outputData = dataset[:,3] # Output\n",
    "    inputData = np.concatenate((dataset[:,0:3],dataset[:,4:7],dataset[:,8:10]),axis=1) # Inputs\n",
    "    return inputData, outputData\n",
    "\n",
    "#ML ALG\n",
    "def initializeWeights(x,y):\n",
    "    N = x.shape[0]\n",
    "    \n",
    "def normaliseData(dataArray, normType = \"range\"):\n",
    "    normalisedDataList = []\n",
    "\n",
    "    if normType == \"range\":\n",
    "        maxVal = dataArray.max()\n",
    "        minVal = dataArray.min()\n",
    "        for val in dataArray:\n",
    "            normalisedDataList.append((val-minVal)/(maxVal-minVal))\n",
    "        return np.array(normalisedDataList)\n",
    "\n",
    "    elif normType == \"z\":\n",
    "        mean = dataArray.mean()\n",
    "        stdDev =  getStandardDeviation(dataArray)\n",
    "        for val in dataArray:\n",
    "            normalisedDataList.append((val-mean)/stdDev)\n",
    "        return np.array(normalisedDataList)\n",
    "\n",
    "def getStandardDeviation(dataArray):\n",
    "    n = dataArray.shape[0]\n",
    "    mean = dataArray.mean()\n",
    "    sumOfSquareDiffs = 0\n",
    "    for val in dataArray:\n",
    "        sumOfSquareDiffs += (val - mean)**2\n",
    "\n",
    "    variance = sumOfSquareDiffs/(n-1)\n",
    "    stdDev = variance**(1/2)\n",
    "    return stdDev\n"
   ]
  },
  {
   "cell_type": "code",
   "execution_count": 37,
   "metadata": {},
   "outputs": [],
   "source": [
    "def getUniqueClassCount(listToCount):\n",
    "    classes = []\n",
    "    for item in listToCount:\n",
    "        if item not in classes:\n",
    "            classes.append(item)\n",
    "\n",
    "    counts = []\n",
    "    for itemClass in classes:\n",
    "        counts.append(listToCount.count(itemClass))\n",
    "    return counts\n",
    "\n",
    "def getGiniLeaf(counts):\n",
    "    total = np.sum(counts)\n",
    "    giniLeaf = 1\n",
    "    for count in counts:\n",
    "        giniLeaf -= (count/total)**2\n",
    "    return giniLeaf\n",
    "\n",
    "def getGiniNode(sortedList, threshold):\n",
    "        lessThan = []\n",
    "        greaterThan = []\n",
    "\n",
    "        for i in range(len(sortedList)):\n",
    "            x = sortedList[i][0]\n",
    "            # print(x, threshold)\n",
    "            if x < threshold:\n",
    "                lessThan.append(sortedList[i][1])\n",
    "            else:\n",
    "                greaterThan.append(sortedList[i][1])\n",
    "\n",
    "        countsLT = getUniqueClassCount(lessThan)\n",
    "        countsGT = getUniqueClassCount(greaterThan)\n",
    "        giniLT = getGiniLeaf(countsLT)\n",
    "        giniGT = getGiniLeaf(countsGT)\n",
    "        # print(giniLT,giniGT)\n",
    "        # print(np.sum(countsLT),np.sum(countsGT))\n",
    "        totalCount = len(sortedList)\n",
    "        # print(totalCount)\n",
    "        giniNode = ((np.sum(countsLT)/totalCount)*giniLT) + ((np.sum(countsGT)/totalCount)*giniGT)\n",
    "        # print(giniNode)\n",
    "        return giniNode\n"
   ]
  },
  {
   "cell_type": "code",
   "execution_count": 38,
   "metadata": {
    "tags": []
   },
   "outputs": [],
   "source": [
    "def getSplitValue(trainIn, trainOut, attributeIndex):\n",
    "    attribute = trainIn[:, attributeIndex].copy() # Output\n",
    "    combined = []\n",
    "    for j,sample in enumerate(attribute):\n",
    "        combined.append((sample,trainOut[j]))\n",
    "    attribute.sort()\n",
    "    sortedList = [tuple for x in attribute for tuple in combined if tuple[0] == x]\n",
    "\n",
    "\n",
    "    thresholds = []\n",
    "    for j in range(len(attribute)-1):\n",
    "        thresholds.append((attribute[j]+attribute[j+1])/2)\n",
    "\n",
    "    giniNodes = []\n",
    "    for threshold in thresholds:\n",
    "        giniNodes.append(getGiniNode(sortedList, threshold))\n",
    "    # print(giniNodes)\n",
    "    minNodeGini = min(giniNodes)\n",
    "    minGiniIndex = giniNodes.index(minNodeGini)\n",
    "    splitVal = thresholds[minGiniIndex]\n",
    "    return splitVal, minNodeGini\n",
    "   "
   ]
  },
  {
   "cell_type": "code",
   "execution_count": 42,
   "metadata": {
    "tags": []
   },
   "outputs": [],
   "source": [
    "def train(trainIn,trainOut):\n",
    "    ginis = []\n",
    "    splitVals = []\n",
    "    for i in range(trainIn.shape[1]):\n",
    "        splitVal, minGini = getSplitValue(trainIn,trainOut, i)\n",
    "        ginis.append(minGini)\n",
    "        splitVals.append(splitVal)\n",
    "        # print(splitVal, minGini)\n",
    "    # print(\"Root is input data attribute\", ginis.index(min(ginis)))\n",
    "    ltX,lty,gtX,gty = branchData(testIn,testOut,ginis.index(min(ginis)),splitVals[ginis.index(min(ginis))]) #generate root\n"
   ]
  },
  {
   "cell_type": "code",
   "execution_count": 43,
   "metadata": {},
   "outputs": [],
   "source": [
    "def branchData(X, y, splitAttributeIndex, splitValue):\n",
    "    lessThan_X = []\n",
    "    lessThan_y = []\n",
    "    greaterThan_X = []\n",
    "    greaterThan_y = []\n",
    "    \n",
    "    for i in range(len(X)):\n",
    "        if X[i,splitAttributeIndex] < splitValue:\n",
    "            lessThan_X.append(X[i,:])\n",
    "            lessThan_y.append(y[i])\n",
    "        else:\n",
    "            greaterThan_X.append(X[i,:])\n",
    "            greaterThan_y.append(y[i])\n",
    "    print(lessThan_X)\n",
    "    return lessThan_X,lessThan_y,greaterThan_X,greaterThan_y\n",
    "        "
   ]
  },
  {
   "cell_type": "code",
   "execution_count": 44,
   "metadata": {},
   "outputs": [
    {
     "output_type": "stream",
     "name": "stdout",
     "text": [
      "[array([40.88053097, 0.264555015, 1.06, 3.7169230769999997, 17.08,\n       7.4112105260000005, 15.24, 47.32857143], dtype=object), array([41.94247788, 0.352781138, 0.772727273, 4.104615385, 15.94,\n       5.924736842000001, 12.24, 65.94857143], dtype=object), array([38.13716814, 0.32871495100000003, 3.7536363639999997,\n       4.1384615380000005, 18.7, 7.7993684210000005, 10.2, 71.17142857],\n      dtype=object), array([43.04867257, 0.180269393, 4.047272727, 3.935384615, 17.67,\n       5.900210526, 5.76, 67.10285714], dtype=object), array([41.76548673, 0.143658705, 1.118181818, 3.652307692, 19.31,\n       9.866684211, 9.0, 66.27285714], dtype=object), array([42.03097345, 0.282453802, 1.7081818180000001, 3.913846154, 16.81,\n       12.10615789, 13.92, 61.05714286], dtype=object), array([43.97787611, 0.271177799, 1.4190909090000001, 3.8492307689999996,\n       16.73, 9.530947368, 12.48, 53.57428571], dtype=object), array([41.19026549, 0.283402606, 2.620909091, 4.123076923, 19.6,\n       7.554947368, 8.04, 79.13428571], dtype=object), array([38.18141593, 0.196229796, 0.940909091, 3.6276923080000003, 17.13,\n       11.25978947, 11.64, 76.31714286], dtype=object), array([38.97787611, 0.167299317, 0.290909091, 3.8061538460000004, 16.63,\n       10.85815789, 10.68, 62.64285714], dtype=object), array([37.65044248, 0.244681179, 2.4136363640000003, 3.870769231, 16.29,\n       3.219052632, 6.96, 57.21428571], dtype=object), array([41.45575221, 0.262541932, 3.018181818, 4.024615385, 18.9,\n       9.466894737, 6.84, 66.57714286], dtype=object), array([39.90707965, 0.107012723, 0.7790909090000001, 3.692307692, 15.92,\n       7.479684211, 16.56, 55.91428571], dtype=object), array([43.93362832, 0.24887010399999998, 2.31, 3.7538461539999997, 18.03,\n       3.413736842, 7.92, 65.15428571], dtype=object), array([38.93362832, 0.19492531899999999, 0.758181818, 3.7969230769999998,\n       17.45, 11.17257895, 9.6, 67.04857143], dtype=object), array([43.62389381, 0.349082206, 1.4463636359999998, 3.978461538, 18.8,\n       9.628894737000001, 12.36, 74.06428571], dtype=object), array([37.34070796, 0.22181084899999998, 1.638181818, 3.855384615, 20.51,\n       5.596842105, 9.84, 73.13714286], dtype=object), array([44.68584071, 0.334920385, 3.651818182, 4.052307692, 17.59,\n       5.002736842, 7.2, 65.64714286], dtype=object), array([42.78318584, 0.28745447, 0.65, 3.7169230769999997, 16.13,\n       4.9506315789999995, 15.72, 68.91285714], dtype=object), array([44.02212389, 0.169803078, 1.311818182, 4.270769231, 20.04,\n       6.159263158, 6.96, 62.03857143], dtype=object), array([37.87168142, 0.238338684, 0.672727273, 3.7169230769999997, 16.33,\n       5.665842105, 12.84, 63.41428571], dtype=object), array([44.11061947, 0.20648229699999998, 1.3527272730000002,\n       3.8984615380000003, 15.98, 8.277157895, 14.76, 61.62285714],\n      dtype=object), array([40.34955752, 0.197146734, 0.629090909, 3.904615385, 16.53,\n       5.315473684, 11.52, 61.59142857], dtype=object), array([38.13716814, 0.233793401, 4.762727273, 4.147692308, 16.67,\n       6.252105263, 6.84, 73.39428571], dtype=object), array([38.09292035, 0.261521856, 1.7318181819999998, 3.618461538, 17.68,\n       7.556157895, 14.76, 81.21142857], dtype=object), array([40.0840708, 0.164977505, 0.534545455, 3.907692308, 18.87,\n       9.168157895, 14.28, 65.8], dtype=object), array([45.57079646, 0.168747709, 3.9899996360000003, 3.9292307689999997,\n       17.39, 6.265210526000001, 6.84, 62.93142857], dtype=object), array([44.42035398, 0.331995847, 3.549090909, 4.083076923, 19.28,\n       4.823210526, 7.08, 62.93428571], dtype=object), array([45.34955752, 0.255529552, 1.301818182, 4.16, 18.17, 3.243578947,\n       10.68, 76.18285714], dtype=object), array([41.01327434, 0.267123194, 2.0127272730000003, 4.150769231, 18.59,\n       6.593263157999999, 9.72, 61.93], dtype=object), array([38.53539823, 0.286716054, 1.259090909, 3.7938461539999997, 16.1,\n       4.326368421000001, 15.0, 62.56], dtype=object), array([40.92477876, 0.256869323, 1.65, 4.190769231, 19.95,\n       7.374736842000001, 10.92, 63.90714286], dtype=object), array([38.80088496, 0.283330649, 1.265454545, 3.704615385, 19.3,\n       6.477631579, 9.48, 66.17428571], dtype=object)]\n1\n\n"
     ]
    }
   ],
   "source": [
    "#Reading in data\n",
    "dataframe = read_csv(\"beer.txt\",delim_whitespace=True,header=None)\n",
    "\n",
    "# Preparing Data\n",
    "dataset = dataframe.values\n",
    "trainSet, testSet = splitData(dataset)\n",
    "\n",
    "testIn, testOut = separateInputOutput(testSet)\n",
    "trainIn, trainOut = separateInputOutput(trainSet)\n",
    "\n",
    "N =trainIn.shape[0]\n",
    "Wi = 1/N\n",
    "\n",
    "#running ml alg.\n",
    "train(trainIn,trainOut) #ML ALG RAN HERE \n"
   ]
  },
  {
   "cell_type": "code",
   "execution_count": 46,
   "metadata": {},
   "outputs": [],
   "source": [
    "class Node:\n",
    "    def __init__(self,index,value,left,right):\n",
    "        self.index = index\n",
    "        self.value = value\n",
    "        self.left = left\n",
    "        self.right = right\n",
    "\n",
    "    def addLeftChild(self,child):\n",
    "        self.left = Node(child)\n",
    "    \n",
    "    def addRightChild(self,child):\n",
    "        self.right = Node(child)\n",
    "    \n",
    "    def printTree(self):\n",
    "        if self.left:\n",
    "            self.left.printTree()\n",
    "        print(self.index,self.value)\n",
    "        if self.right:\n",
    "            self.right.printTree()"
   ]
  },
  {
   "cell_type": "code",
   "execution_count": null,
   "metadata": {},
   "outputs": [],
   "source": []
  }
 ]
}